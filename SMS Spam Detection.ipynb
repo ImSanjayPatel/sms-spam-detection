{
 "cells": [
  {
   "cell_type": "markdown",
   "metadata": {},
   "source": [
    "# <b>SMS Spam Detection by Sanjay Patel"
   ]
  },
  {
   "cell_type": "markdown",
   "metadata": {},
   "source": [
    "## <b>Agenda"
   ]
  },
  {
   "cell_type": "markdown",
   "metadata": {},
   "source": [
    "### <b>1. Introduction\n",
    "\n",
    "- 1.1. What is the data set?"
   ]
  },
  {
   "cell_type": "markdown",
   "metadata": {},
   "source": [
    "### <b>2. Fetch the Data</b>\n",
    "\n",
    "- 2.1. Import the libraries\n",
    "- 2.2. Set up the dataFrame\n",
    "- 2.3. Basic explaratory data analysis"
   ]
  },
  {
   "cell_type": "markdown",
   "metadata": {},
   "source": [
    "### <b>3. Cleaning the Data"
   ]
  },
  {
   "cell_type": "markdown",
   "metadata": {},
   "source": [
    "### <b>4. Working with the Text"
   ]
  },
  {
   "cell_type": "markdown",
   "metadata": {},
   "source": [
    "### <b>5. Evalute the Data</b>\n",
    "\n",
    "- 5.1. Assign features and target variables\n",
    "- 5.2. Bag-of-words using CountVectoriser()\n",
    "- 5.3. Bag-of-words using TF-IDF\n",
    "- 5.4. Balancing the Dataset and Re-evaluating"
   ]
  },
  {
   "cell_type": "markdown",
   "metadata": {},
   "source": [
    "### <b>6. Summary\n"
   ]
  },
  {
   "cell_type": "markdown",
   "metadata": {},
   "source": [
    "---"
   ]
  },
  {
   "cell_type": "markdown",
   "metadata": {},
   "source": [
    "## <b>1. Introduction"
   ]
  },
  {
   "cell_type": "markdown",
   "metadata": {},
   "source": [
    "#### <b>1.1. What is the Dataset?</b>\n",
    "\n",
    "The dataset has rows of messages that are labelled as 'spam' and 'non-spam'. My goal is to find an optimal machine learning model to best identify which text is spam and not spam"
   ]
  },
  {
   "cell_type": "markdown",
   "metadata": {},
   "source": [
    "## <b>2. Fetch the data"
   ]
  },
  {
   "cell_type": "markdown",
   "metadata": {},
   "source": [
    "#### <b>2.1. Import the Libraries"
   ]
  },
  {
   "cell_type": "code",
   "execution_count": 586,
   "metadata": {},
   "outputs": [],
   "source": [
    "# import libraries\n",
    "import numpy as np\n",
    "import pandas as pd\n",
    "import matplotlib.pyplot as plt\n",
    "import seaborn as sns\n",
    "import wordcloud\n",
    "\n",
    "import re\n",
    "import nltk\n",
    "from nltk.corpus import stopwords\n",
    "\n",
    "from sklearn.model_selection import train_test_split\n",
    "from sklearn.linear_model import LogisticRegression\n",
    "from sklearn.naive_bayes import GaussianNB\n",
    "from sklearn.svm import SVC\n",
    "from sklearn.tree import DecisionTreeClassifier\n",
    "\n",
    "from sklearn import metrics\n",
    "from sklearn.metrics import confusion_matrix\n",
    "from sklearn.metrics import accuracy_score\n",
    "from sklearn.metrics import precision_score\n",
    "from sklearn.metrics import recall_score\n",
    "from sklearn.metrics import average_precision_score\n",
    "from sklearn.metrics import roc_auc_score\n",
    "from sklearn.metrics import precision_recall_curve\n",
    "from sklearn.metrics import roc_curve\n",
    "from sklearn.metrics import auc\n",
    "from sklearn.utils import resample\n",
    "\n",
    "from sklearn.feature_extraction.text import CountVectorizer\n",
    "from sklearn.feature_extraction.text import TfidfVectorizer"
   ]
  },
  {
   "cell_type": "code",
   "execution_count": 587,
   "metadata": {},
   "outputs": [],
   "source": [
    "# import the spam email csv\n",
    "df = pd.read_csv('sms_train.csv', encoding='unicode_escape')\n",
    "df_temp = pd.read_csv('sms.test.csv', encoding='unicode_escape')"
   ]
  },
  {
   "cell_type": "code",
   "execution_count": 588,
   "metadata": {},
   "outputs": [
    {
     "data": {
      "text/html": [
       "<div>\n",
       "<style scoped>\n",
       "    .dataframe tbody tr th:only-of-type {\n",
       "        vertical-align: middle;\n",
       "    }\n",
       "\n",
       "    .dataframe tbody tr th {\n",
       "        vertical-align: top;\n",
       "    }\n",
       "\n",
       "    .dataframe thead th {\n",
       "        text-align: right;\n",
       "    }\n",
       "</style>\n",
       "<table border=\"1\" class=\"dataframe\">\n",
       "  <thead>\n",
       "    <tr style=\"text-align: right;\">\n",
       "      <th></th>\n",
       "      <th>S. No.</th>\n",
       "      <th>Message_body</th>\n",
       "      <th>Label</th>\n",
       "    </tr>\n",
       "  </thead>\n",
       "  <tbody>\n",
       "    <tr>\n",
       "      <th>0</th>\n",
       "      <td>1</td>\n",
       "      <td>Rofl. Its true to its name</td>\n",
       "      <td>Non-Spam</td>\n",
       "    </tr>\n",
       "    <tr>\n",
       "      <th>1</th>\n",
       "      <td>2</td>\n",
       "      <td>The guy did some bitching but I acted like i'd...</td>\n",
       "      <td>Non-Spam</td>\n",
       "    </tr>\n",
       "    <tr>\n",
       "      <th>2</th>\n",
       "      <td>3</td>\n",
       "      <td>Pity, * was in mood for that. So...any other s...</td>\n",
       "      <td>Non-Spam</td>\n",
       "    </tr>\n",
       "    <tr>\n",
       "      <th>3</th>\n",
       "      <td>4</td>\n",
       "      <td>Will ü b going to esplanade fr home?</td>\n",
       "      <td>Non-Spam</td>\n",
       "    </tr>\n",
       "    <tr>\n",
       "      <th>4</th>\n",
       "      <td>5</td>\n",
       "      <td>This is the 2nd time we have tried 2 contact u...</td>\n",
       "      <td>Spam</td>\n",
       "    </tr>\n",
       "  </tbody>\n",
       "</table>\n",
       "</div>"
      ],
      "text/plain": [
       "   S. No.                                       Message_body     Label\n",
       "0       1                         Rofl. Its true to its name  Non-Spam\n",
       "1       2  The guy did some bitching but I acted like i'd...  Non-Spam\n",
       "2       3  Pity, * was in mood for that. So...any other s...  Non-Spam\n",
       "3       4               Will ü b going to esplanade fr home?  Non-Spam\n",
       "4       5  This is the 2nd time we have tried 2 contact u...      Spam"
      ]
     },
     "execution_count": 588,
     "metadata": {},
     "output_type": "execute_result"
    }
   ],
   "source": [
    "df.head()"
   ]
  },
  {
   "cell_type": "code",
   "execution_count": 589,
   "metadata": {},
   "outputs": [
    {
     "data": {
      "text/html": [
       "<div>\n",
       "<style scoped>\n",
       "    .dataframe tbody tr th:only-of-type {\n",
       "        vertical-align: middle;\n",
       "    }\n",
       "\n",
       "    .dataframe tbody tr th {\n",
       "        vertical-align: top;\n",
       "    }\n",
       "\n",
       "    .dataframe thead th {\n",
       "        text-align: right;\n",
       "    }\n",
       "</style>\n",
       "<table border=\"1\" class=\"dataframe\">\n",
       "  <thead>\n",
       "    <tr style=\"text-align: right;\">\n",
       "      <th></th>\n",
       "      <th>S. No.</th>\n",
       "      <th>Message_body</th>\n",
       "      <th>Label</th>\n",
       "    </tr>\n",
       "  </thead>\n",
       "  <tbody>\n",
       "    <tr>\n",
       "      <th>0</th>\n",
       "      <td>1</td>\n",
       "      <td>UpgrdCentre Orange customer, you may now claim...</td>\n",
       "      <td>Spam</td>\n",
       "    </tr>\n",
       "    <tr>\n",
       "      <th>1</th>\n",
       "      <td>2</td>\n",
       "      <td>Loan for any purpose £500 - £75,000. Homeowner...</td>\n",
       "      <td>Spam</td>\n",
       "    </tr>\n",
       "    <tr>\n",
       "      <th>2</th>\n",
       "      <td>3</td>\n",
       "      <td>Congrats! Nokia 3650 video camera phone is you...</td>\n",
       "      <td>Spam</td>\n",
       "    </tr>\n",
       "    <tr>\n",
       "      <th>3</th>\n",
       "      <td>4</td>\n",
       "      <td>URGENT! Your Mobile number has been awarded wi...</td>\n",
       "      <td>Spam</td>\n",
       "    </tr>\n",
       "    <tr>\n",
       "      <th>4</th>\n",
       "      <td>5</td>\n",
       "      <td>Someone has contacted our dating service and e...</td>\n",
       "      <td>Spam</td>\n",
       "    </tr>\n",
       "  </tbody>\n",
       "</table>\n",
       "</div>"
      ],
      "text/plain": [
       "   S. No.                                       Message_body Label\n",
       "0       1  UpgrdCentre Orange customer, you may now claim...  Spam\n",
       "1       2  Loan for any purpose £500 - £75,000. Homeowner...  Spam\n",
       "2       3  Congrats! Nokia 3650 video camera phone is you...  Spam\n",
       "3       4  URGENT! Your Mobile number has been awarded wi...  Spam\n",
       "4       5  Someone has contacted our dating service and e...  Spam"
      ]
     },
     "execution_count": 589,
     "metadata": {},
     "output_type": "execute_result"
    }
   ],
   "source": [
    "df_temp.head()"
   ]
  },
  {
   "cell_type": "code",
   "execution_count": 590,
   "metadata": {},
   "outputs": [],
   "source": [
    "df = pd.concat([df, df_temp])"
   ]
  },
  {
   "cell_type": "code",
   "execution_count": 591,
   "metadata": {},
   "outputs": [
    {
     "data": {
      "text/html": [
       "<div>\n",
       "<style scoped>\n",
       "    .dataframe tbody tr th:only-of-type {\n",
       "        vertical-align: middle;\n",
       "    }\n",
       "\n",
       "    .dataframe tbody tr th {\n",
       "        vertical-align: top;\n",
       "    }\n",
       "\n",
       "    .dataframe thead th {\n",
       "        text-align: right;\n",
       "    }\n",
       "</style>\n",
       "<table border=\"1\" class=\"dataframe\">\n",
       "  <thead>\n",
       "    <tr style=\"text-align: right;\">\n",
       "      <th></th>\n",
       "      <th>S. No.</th>\n",
       "      <th>Message_body</th>\n",
       "      <th>Label</th>\n",
       "    </tr>\n",
       "  </thead>\n",
       "  <tbody>\n",
       "    <tr>\n",
       "      <th>0</th>\n",
       "      <td>1</td>\n",
       "      <td>Rofl. Its true to its name</td>\n",
       "      <td>Non-Spam</td>\n",
       "    </tr>\n",
       "    <tr>\n",
       "      <th>1</th>\n",
       "      <td>2</td>\n",
       "      <td>The guy did some bitching but I acted like i'd...</td>\n",
       "      <td>Non-Spam</td>\n",
       "    </tr>\n",
       "    <tr>\n",
       "      <th>2</th>\n",
       "      <td>3</td>\n",
       "      <td>Pity, * was in mood for that. So...any other s...</td>\n",
       "      <td>Non-Spam</td>\n",
       "    </tr>\n",
       "    <tr>\n",
       "      <th>3</th>\n",
       "      <td>4</td>\n",
       "      <td>Will ü b going to esplanade fr home?</td>\n",
       "      <td>Non-Spam</td>\n",
       "    </tr>\n",
       "    <tr>\n",
       "      <th>4</th>\n",
       "      <td>5</td>\n",
       "      <td>This is the 2nd time we have tried 2 contact u...</td>\n",
       "      <td>Spam</td>\n",
       "    </tr>\n",
       "    <tr>\n",
       "      <th>...</th>\n",
       "      <td>...</td>\n",
       "      <td>...</td>\n",
       "      <td>...</td>\n",
       "    </tr>\n",
       "    <tr>\n",
       "      <th>120</th>\n",
       "      <td>121</td>\n",
       "      <td>7 wonders in My WORLD 7th You 6th Ur style 5th...</td>\n",
       "      <td>Non-Spam</td>\n",
       "    </tr>\n",
       "    <tr>\n",
       "      <th>121</th>\n",
       "      <td>122</td>\n",
       "      <td>Try to do something dear. You read something f...</td>\n",
       "      <td>Non-Spam</td>\n",
       "    </tr>\n",
       "    <tr>\n",
       "      <th>122</th>\n",
       "      <td>123</td>\n",
       "      <td>Sun ah... Thk mayb can if dun have anythin on....</td>\n",
       "      <td>Non-Spam</td>\n",
       "    </tr>\n",
       "    <tr>\n",
       "      <th>123</th>\n",
       "      <td>124</td>\n",
       "      <td>SYMPTOMS when U are in love: \"1.U like listeni...</td>\n",
       "      <td>Non-Spam</td>\n",
       "    </tr>\n",
       "    <tr>\n",
       "      <th>124</th>\n",
       "      <td>125</td>\n",
       "      <td>Great. Have a safe trip. Dont panic surrender ...</td>\n",
       "      <td>Non-Spam</td>\n",
       "    </tr>\n",
       "  </tbody>\n",
       "</table>\n",
       "<p>1082 rows × 3 columns</p>\n",
       "</div>"
      ],
      "text/plain": [
       "     S. No.                                       Message_body     Label\n",
       "0         1                         Rofl. Its true to its name  Non-Spam\n",
       "1         2  The guy did some bitching but I acted like i'd...  Non-Spam\n",
       "2         3  Pity, * was in mood for that. So...any other s...  Non-Spam\n",
       "3         4               Will ü b going to esplanade fr home?  Non-Spam\n",
       "4         5  This is the 2nd time we have tried 2 contact u...      Spam\n",
       "..      ...                                                ...       ...\n",
       "120     121  7 wonders in My WORLD 7th You 6th Ur style 5th...  Non-Spam\n",
       "121     122  Try to do something dear. You read something f...  Non-Spam\n",
       "122     123  Sun ah... Thk mayb can if dun have anythin on....  Non-Spam\n",
       "123     124  SYMPTOMS when U are in love: \"1.U like listeni...  Non-Spam\n",
       "124     125  Great. Have a safe trip. Dont panic surrender ...  Non-Spam\n",
       "\n",
       "[1082 rows x 3 columns]"
      ]
     },
     "execution_count": 591,
     "metadata": {},
     "output_type": "execute_result"
    }
   ],
   "source": [
    "df"
   ]
  },
  {
   "cell_type": "markdown",
   "metadata": {},
   "source": [
    "### <b>2.3. Basic Explaratory Data Analysis"
   ]
  },
  {
   "cell_type": "code",
   "execution_count": 592,
   "metadata": {},
   "outputs": [
    {
     "data": {
      "text/plain": [
       "(1082, 3)"
      ]
     },
     "execution_count": 592,
     "metadata": {},
     "output_type": "execute_result"
    }
   ],
   "source": [
    "df.shape"
   ]
  },
  {
   "cell_type": "code",
   "execution_count": 593,
   "metadata": {},
   "outputs": [
    {
     "data": {
      "text/plain": [
       "S. No.          0\n",
       "Message_body    0\n",
       "Label           0\n",
       "dtype: int64"
      ]
     },
     "execution_count": 593,
     "metadata": {},
     "output_type": "execute_result"
    }
   ],
   "source": [
    "# check if there are any null values\n",
    "df.isna().sum()"
   ]
  },
  {
   "cell_type": "code",
   "execution_count": 594,
   "metadata": {},
   "outputs": [
    {
     "name": "stdout",
     "output_type": "stream",
     "text": [
      "<class 'pandas.core.frame.DataFrame'>\n",
      "Int64Index: 1082 entries, 0 to 124\n",
      "Data columns (total 3 columns):\n",
      " #   Column        Non-Null Count  Dtype \n",
      "---  ------        --------------  ----- \n",
      " 0   S. No.        1082 non-null   int64 \n",
      " 1   Message_body  1082 non-null   object\n",
      " 2   Label         1082 non-null   object\n",
      "dtypes: int64(1), object(2)\n",
      "memory usage: 33.8+ KB\n"
     ]
    }
   ],
   "source": [
    "# check data types\n",
    "df.info()"
   ]
  },
  {
   "cell_type": "code",
   "execution_count": 595,
   "metadata": {},
   "outputs": [],
   "source": [
    "df['Message_body'] = df['Message_body'].astype('string')"
   ]
  },
  {
   "cell_type": "code",
   "execution_count": 596,
   "metadata": {},
   "outputs": [
    {
     "name": "stdout",
     "output_type": "stream",
     "text": [
      "<class 'pandas.core.frame.DataFrame'>\n",
      "Int64Index: 1082 entries, 0 to 124\n",
      "Data columns (total 3 columns):\n",
      " #   Column        Non-Null Count  Dtype \n",
      "---  ------        --------------  ----- \n",
      " 0   S. No.        1082 non-null   int64 \n",
      " 1   Message_body  1082 non-null   string\n",
      " 2   Label         1082 non-null   object\n",
      "dtypes: int64(1), object(1), string(1)\n",
      "memory usage: 33.8+ KB\n"
     ]
    }
   ],
   "source": [
    "df.info()"
   ]
  },
  {
   "cell_type": "code",
   "execution_count": 597,
   "metadata": {},
   "outputs": [],
   "source": [
    "# remove unnecessary columns\n",
    "df.drop(columns=['S. No.'], inplace=True)"
   ]
  },
  {
   "cell_type": "code",
   "execution_count": 598,
   "metadata": {},
   "outputs": [],
   "source": [
    "# change label column to 0s and 1s\n",
    "df['Label'].replace({'Non-Spam': 0, 'Spam': 1}, inplace=True)"
   ]
  },
  {
   "cell_type": "code",
   "execution_count": 599,
   "metadata": {},
   "outputs": [
    {
     "data": {
      "text/plain": [
       "Message_body    0\n",
       "Label           0\n",
       "dtype: int64"
      ]
     },
     "execution_count": 599,
     "metadata": {},
     "output_type": "execute_result"
    }
   ],
   "source": [
    "# check if there are any null values\n",
    "df.isna().sum()"
   ]
  },
  {
   "cell_type": "code",
   "execution_count": 600,
   "metadata": {},
   "outputs": [
    {
     "data": {
      "text/html": [
       "<div>\n",
       "<style scoped>\n",
       "    .dataframe tbody tr th:only-of-type {\n",
       "        vertical-align: middle;\n",
       "    }\n",
       "\n",
       "    .dataframe tbody tr th {\n",
       "        vertical-align: top;\n",
       "    }\n",
       "\n",
       "    .dataframe thead th {\n",
       "        text-align: right;\n",
       "    }\n",
       "</style>\n",
       "<table border=\"1\" class=\"dataframe\">\n",
       "  <thead>\n",
       "    <tr style=\"text-align: right;\">\n",
       "      <th></th>\n",
       "      <th>Message_body</th>\n",
       "      <th>Label</th>\n",
       "    </tr>\n",
       "  </thead>\n",
       "  <tbody>\n",
       "    <tr>\n",
       "      <th>0</th>\n",
       "      <td>Rofl. Its true to its name</td>\n",
       "      <td>0</td>\n",
       "    </tr>\n",
       "    <tr>\n",
       "      <th>1</th>\n",
       "      <td>The guy did some bitching but I acted like i'd...</td>\n",
       "      <td>0</td>\n",
       "    </tr>\n",
       "    <tr>\n",
       "      <th>2</th>\n",
       "      <td>Pity, * was in mood for that. So...any other s...</td>\n",
       "      <td>0</td>\n",
       "    </tr>\n",
       "    <tr>\n",
       "      <th>3</th>\n",
       "      <td>Will ü b going to esplanade fr home?</td>\n",
       "      <td>0</td>\n",
       "    </tr>\n",
       "    <tr>\n",
       "      <th>4</th>\n",
       "      <td>This is the 2nd time we have tried 2 contact u...</td>\n",
       "      <td>1</td>\n",
       "    </tr>\n",
       "  </tbody>\n",
       "</table>\n",
       "</div>"
      ],
      "text/plain": [
       "                                        Message_body  Label\n",
       "0                         Rofl. Its true to its name      0\n",
       "1  The guy did some bitching but I acted like i'd...      0\n",
       "2  Pity, * was in mood for that. So...any other s...      0\n",
       "3               Will ü b going to esplanade fr home?      0\n",
       "4  This is the 2nd time we have tried 2 contact u...      1"
      ]
     },
     "execution_count": 600,
     "metadata": {},
     "output_type": "execute_result"
    }
   ],
   "source": [
    "df.head()"
   ]
  },
  {
   "cell_type": "markdown",
   "metadata": {},
   "source": [
    "## <b>3. Cleaning the data"
   ]
  },
  {
   "cell_type": "code",
   "execution_count": 601,
   "metadata": {},
   "outputs": [],
   "source": [
    "def clean_text(text):\n",
    "    \n",
    "    # remove full stops\n",
    "    text = re.sub(r'\\.', ' ', text)\n",
    "\n",
    "    # remove punctuation\n",
    "    text = re.sub(r'[\\[\\]\\'!?*,()/:-;+=#&^@<>£\\\"]', '', text)\n",
    "    text = re.sub(r'ü', 'u', text)\n",
    "    text = re.sub(r'\\s+', ' ', text)\n",
    "\n",
    "\n",
    "    return text"
   ]
  },
  {
   "cell_type": "code",
   "execution_count": 602,
   "metadata": {},
   "outputs": [],
   "source": [
    "df['Message_body'] = df['Message_body'].apply(clean_text)"
   ]
  },
  {
   "cell_type": "code",
   "execution_count": 603,
   "metadata": {},
   "outputs": [
    {
     "data": {
      "text/html": [
       "<div>\n",
       "<style scoped>\n",
       "    .dataframe tbody tr th:only-of-type {\n",
       "        vertical-align: middle;\n",
       "    }\n",
       "\n",
       "    .dataframe tbody tr th {\n",
       "        vertical-align: top;\n",
       "    }\n",
       "\n",
       "    .dataframe thead th {\n",
       "        text-align: right;\n",
       "    }\n",
       "</style>\n",
       "<table border=\"1\" class=\"dataframe\">\n",
       "  <thead>\n",
       "    <tr style=\"text-align: right;\">\n",
       "      <th></th>\n",
       "      <th>Message_body</th>\n",
       "      <th>Label</th>\n",
       "    </tr>\n",
       "  </thead>\n",
       "  <tbody>\n",
       "    <tr>\n",
       "      <th>801</th>\n",
       "      <td>if you text on your way to cup stop that shoul...</td>\n",
       "      <td>0</td>\n",
       "    </tr>\n",
       "    <tr>\n",
       "      <th>24</th>\n",
       "      <td>Ic There are a lotta childporn cars then</td>\n",
       "      <td>0</td>\n",
       "    </tr>\n",
       "    <tr>\n",
       "      <th>286</th>\n",
       "      <td>Yeah probably here for a while</td>\n",
       "      <td>0</td>\n",
       "    </tr>\n",
       "    <tr>\n",
       "      <th>314</th>\n",
       "      <td>Ok Sweet dreams</td>\n",
       "      <td>0</td>\n",
       "    </tr>\n",
       "    <tr>\n",
       "      <th>159</th>\n",
       "      <td>I ask if u meeting da ge tmr nite</td>\n",
       "      <td>0</td>\n",
       "    </tr>\n",
       "    <tr>\n",
       "      <th>412</th>\n",
       "      <td>Sir I need Velusamy sirs date of birth and com...</td>\n",
       "      <td>0</td>\n",
       "    </tr>\n",
       "    <tr>\n",
       "      <th>213</th>\n",
       "      <td>Tell me something Thats okay</td>\n",
       "      <td>0</td>\n",
       "    </tr>\n",
       "    <tr>\n",
       "      <th>782</th>\n",
       "      <td>Indeed and by the way it was either or - not b...</td>\n",
       "      <td>0</td>\n",
       "    </tr>\n",
       "    <tr>\n",
       "      <th>792</th>\n",
       "      <td>U repeat e instructions again Wats e road name...</td>\n",
       "      <td>0</td>\n",
       "    </tr>\n",
       "    <tr>\n",
       "      <th>340</th>\n",
       "      <td>PRIVATE Your 2003 Account Statement for fone n...</td>\n",
       "      <td>1</td>\n",
       "    </tr>\n",
       "  </tbody>\n",
       "</table>\n",
       "</div>"
      ],
      "text/plain": [
       "                                          Message_body  Label\n",
       "801  if you text on your way to cup stop that shoul...      0\n",
       "24           Ic There are a lotta childporn cars then       0\n",
       "286                     Yeah probably here for a while      0\n",
       "314                                   Ok Sweet dreams       0\n",
       "159                 I ask if u meeting da ge tmr nite       0\n",
       "412  Sir I need Velusamy sirs date of birth and com...      0\n",
       "213                      Tell me something Thats okay       0\n",
       "782  Indeed and by the way it was either or - not b...      0\n",
       "792  U repeat e instructions again Wats e road name...      0\n",
       "340  PRIVATE Your 2003 Account Statement for fone n...      1"
      ]
     },
     "execution_count": 603,
     "metadata": {},
     "output_type": "execute_result"
    }
   ],
   "source": [
    "df.sample(10)"
   ]
  },
  {
   "cell_type": "markdown",
   "metadata": {},
   "source": [
    "## <b>4. Working with the Text"
   ]
  },
  {
   "cell_type": "code",
   "execution_count": 604,
   "metadata": {},
   "outputs": [],
   "source": [
    "# change all text to lowercase\n",
    "df['Message_body'] = df['Message_body'].apply(lambda s: s.lower())"
   ]
  },
  {
   "cell_type": "code",
   "execution_count": 605,
   "metadata": {},
   "outputs": [
    {
     "data": {
      "text/plain": [
       "0                              rofl its true to its name\n",
       "1      the guy did some bitching but i acted like id ...\n",
       "2      pity was in mood for that so any other suggest...\n",
       "3                    will u b going to esplanade fr home\n",
       "4      this is the 2nd time we have tried 2 contact u...\n",
       "                             ...                        \n",
       "120    7 wonders in my world 7th you 6th ur style 5th...\n",
       "121    try to do something dear you read something fo...\n",
       "122    sun ah thk mayb can if dun have anythin on thk...\n",
       "123    symptoms when u are in love 1 u like listening...\n",
       "124     great have a safe trip dont panic surrender all \n",
       "Name: Message_body, Length: 1082, dtype: object"
      ]
     },
     "execution_count": 605,
     "metadata": {},
     "output_type": "execute_result"
    }
   ],
   "source": [
    "df['Message_body']"
   ]
  },
  {
   "cell_type": "code",
   "execution_count": 606,
   "metadata": {},
   "outputs": [],
   "source": [
    "stop_words = set(stopwords.words('english'))"
   ]
  },
  {
   "cell_type": "code",
   "execution_count": 607,
   "metadata": {},
   "outputs": [],
   "source": [
    "w_tokenizer = nltk.tokenize.WhitespaceTokenizer()\n",
    "lemmatizer = nltk.stem.WordNetLemmatizer()"
   ]
  },
  {
   "cell_type": "code",
   "execution_count": 608,
   "metadata": {},
   "outputs": [],
   "source": [
    "def lemmatize_text(text):\n",
    "    return [lemmatizer.lemmatize(w) for w in w_tokenizer.tokenize(text) if w not in stop_words]"
   ]
  },
  {
   "cell_type": "code",
   "execution_count": 609,
   "metadata": {},
   "outputs": [],
   "source": [
    "df['text_lemmatized'] = df['Message_body'].apply(lemmatize_text)"
   ]
  },
  {
   "cell_type": "code",
   "execution_count": 610,
   "metadata": {},
   "outputs": [
    {
     "data": {
      "text/html": [
       "<div>\n",
       "<style scoped>\n",
       "    .dataframe tbody tr th:only-of-type {\n",
       "        vertical-align: middle;\n",
       "    }\n",
       "\n",
       "    .dataframe tbody tr th {\n",
       "        vertical-align: top;\n",
       "    }\n",
       "\n",
       "    .dataframe thead th {\n",
       "        text-align: right;\n",
       "    }\n",
       "</style>\n",
       "<table border=\"1\" class=\"dataframe\">\n",
       "  <thead>\n",
       "    <tr style=\"text-align: right;\">\n",
       "      <th></th>\n",
       "      <th>Message_body</th>\n",
       "      <th>Label</th>\n",
       "      <th>text_lemmatized</th>\n",
       "    </tr>\n",
       "  </thead>\n",
       "  <tbody>\n",
       "    <tr>\n",
       "      <th>0</th>\n",
       "      <td>rofl its true to its name</td>\n",
       "      <td>0</td>\n",
       "      <td>[rofl, true, name]</td>\n",
       "    </tr>\n",
       "    <tr>\n",
       "      <th>1</th>\n",
       "      <td>the guy did some bitching but i acted like id ...</td>\n",
       "      <td>0</td>\n",
       "      <td>[guy, bitching, acted, like, id, interested, b...</td>\n",
       "    </tr>\n",
       "    <tr>\n",
       "      <th>2</th>\n",
       "      <td>pity was in mood for that so any other suggest...</td>\n",
       "      <td>0</td>\n",
       "      <td>[pity, mood, suggestion]</td>\n",
       "    </tr>\n",
       "    <tr>\n",
       "      <th>3</th>\n",
       "      <td>will u b going to esplanade fr home</td>\n",
       "      <td>0</td>\n",
       "      <td>[u, b, going, esplanade, fr, home]</td>\n",
       "    </tr>\n",
       "    <tr>\n",
       "      <th>4</th>\n",
       "      <td>this is the 2nd time we have tried 2 contact u...</td>\n",
       "      <td>1</td>\n",
       "      <td>[2nd, time, tried, 2, contact, u, u, 750, poun...</td>\n",
       "    </tr>\n",
       "    <tr>\n",
       "      <th>...</th>\n",
       "      <td>...</td>\n",
       "      <td>...</td>\n",
       "      <td>...</td>\n",
       "    </tr>\n",
       "    <tr>\n",
       "      <th>120</th>\n",
       "      <td>7 wonders in my world 7th you 6th ur style 5th...</td>\n",
       "      <td>0</td>\n",
       "      <td>[7, wonder, world, 7th, 6th, ur, style, 5th, u...</td>\n",
       "    </tr>\n",
       "    <tr>\n",
       "      <th>121</th>\n",
       "      <td>try to do something dear you read something fo...</td>\n",
       "      <td>0</td>\n",
       "      <td>[try, something, dear, read, something, exam]</td>\n",
       "    </tr>\n",
       "    <tr>\n",
       "      <th>122</th>\n",
       "      <td>sun ah thk mayb can if dun have anythin on thk...</td>\n",
       "      <td>0</td>\n",
       "      <td>[sun, ah, thk, mayb, dun, anythin, thk, book, ...</td>\n",
       "    </tr>\n",
       "    <tr>\n",
       "      <th>123</th>\n",
       "      <td>symptoms when u are in love 1 u like listening...</td>\n",
       "      <td>0</td>\n",
       "      <td>[symptom, u, love, 1, u, like, listening, song...</td>\n",
       "    </tr>\n",
       "    <tr>\n",
       "      <th>124</th>\n",
       "      <td>great have a safe trip dont panic surrender all</td>\n",
       "      <td>0</td>\n",
       "      <td>[great, safe, trip, dont, panic, surrender]</td>\n",
       "    </tr>\n",
       "  </tbody>\n",
       "</table>\n",
       "<p>1082 rows × 3 columns</p>\n",
       "</div>"
      ],
      "text/plain": [
       "                                          Message_body  Label  \\\n",
       "0                            rofl its true to its name      0   \n",
       "1    the guy did some bitching but i acted like id ...      0   \n",
       "2    pity was in mood for that so any other suggest...      0   \n",
       "3                  will u b going to esplanade fr home      0   \n",
       "4    this is the 2nd time we have tried 2 contact u...      1   \n",
       "..                                                 ...    ...   \n",
       "120  7 wonders in my world 7th you 6th ur style 5th...      0   \n",
       "121  try to do something dear you read something fo...      0   \n",
       "122  sun ah thk mayb can if dun have anythin on thk...      0   \n",
       "123  symptoms when u are in love 1 u like listening...      0   \n",
       "124   great have a safe trip dont panic surrender all       0   \n",
       "\n",
       "                                       text_lemmatized  \n",
       "0                                   [rofl, true, name]  \n",
       "1    [guy, bitching, acted, like, id, interested, b...  \n",
       "2                             [pity, mood, suggestion]  \n",
       "3                   [u, b, going, esplanade, fr, home]  \n",
       "4    [2nd, time, tried, 2, contact, u, u, 750, poun...  \n",
       "..                                                 ...  \n",
       "120  [7, wonder, world, 7th, 6th, ur, style, 5th, u...  \n",
       "121      [try, something, dear, read, something, exam]  \n",
       "122  [sun, ah, thk, mayb, dun, anythin, thk, book, ...  \n",
       "123  [symptom, u, love, 1, u, like, listening, song...  \n",
       "124        [great, safe, trip, dont, panic, surrender]  \n",
       "\n",
       "[1082 rows x 3 columns]"
      ]
     },
     "execution_count": 610,
     "metadata": {},
     "output_type": "execute_result"
    }
   ],
   "source": [
    "df"
   ]
  },
  {
   "cell_type": "code",
   "execution_count": 611,
   "metadata": {},
   "outputs": [
    {
     "name": "stdout",
     "output_type": "stream",
     "text": [
      "<class 'pandas.core.frame.DataFrame'>\n",
      "Int64Index: 1082 entries, 0 to 124\n",
      "Data columns (total 3 columns):\n",
      " #   Column           Non-Null Count  Dtype \n",
      "---  ------           --------------  ----- \n",
      " 0   Message_body     1082 non-null   object\n",
      " 1   Label            1082 non-null   int64 \n",
      " 2   text_lemmatized  1082 non-null   object\n",
      "dtypes: int64(1), object(2)\n",
      "memory usage: 33.8+ KB\n"
     ]
    }
   ],
   "source": [
    "df.info()"
   ]
  },
  {
   "cell_type": "code",
   "execution_count": 612,
   "metadata": {},
   "outputs": [],
   "source": [
    "df['text_lemmatized'] = df['text_lemmatized'].astype('string')"
   ]
  },
  {
   "cell_type": "code",
   "execution_count": 613,
   "metadata": {},
   "outputs": [],
   "source": [
    "df['text_lemmatized'] = df['text_lemmatized'].apply(clean_text)"
   ]
  },
  {
   "cell_type": "code",
   "execution_count": 614,
   "metadata": {},
   "outputs": [
    {
     "data": {
      "text/html": [
       "<div>\n",
       "<style scoped>\n",
       "    .dataframe tbody tr th:only-of-type {\n",
       "        vertical-align: middle;\n",
       "    }\n",
       "\n",
       "    .dataframe tbody tr th {\n",
       "        vertical-align: top;\n",
       "    }\n",
       "\n",
       "    .dataframe thead th {\n",
       "        text-align: right;\n",
       "    }\n",
       "</style>\n",
       "<table border=\"1\" class=\"dataframe\">\n",
       "  <thead>\n",
       "    <tr style=\"text-align: right;\">\n",
       "      <th></th>\n",
       "      <th>Message_body</th>\n",
       "      <th>Label</th>\n",
       "      <th>text_lemmatized</th>\n",
       "    </tr>\n",
       "  </thead>\n",
       "  <tbody>\n",
       "    <tr>\n",
       "      <th>0</th>\n",
       "      <td>rofl its true to its name</td>\n",
       "      <td>0</td>\n",
       "      <td>rofl true name</td>\n",
       "    </tr>\n",
       "    <tr>\n",
       "      <th>1</th>\n",
       "      <td>the guy did some bitching but i acted like id ...</td>\n",
       "      <td>0</td>\n",
       "      <td>guy bitching acted like id interested buying s...</td>\n",
       "    </tr>\n",
       "    <tr>\n",
       "      <th>2</th>\n",
       "      <td>pity was in mood for that so any other suggest...</td>\n",
       "      <td>0</td>\n",
       "      <td>pity mood suggestion</td>\n",
       "    </tr>\n",
       "    <tr>\n",
       "      <th>3</th>\n",
       "      <td>will u b going to esplanade fr home</td>\n",
       "      <td>0</td>\n",
       "      <td>u b going esplanade fr home</td>\n",
       "    </tr>\n",
       "    <tr>\n",
       "      <th>4</th>\n",
       "      <td>this is the 2nd time we have tried 2 contact u...</td>\n",
       "      <td>1</td>\n",
       "      <td>2nd time tried 2 contact u u 750 pound prize 2...</td>\n",
       "    </tr>\n",
       "    <tr>\n",
       "      <th>...</th>\n",
       "      <td>...</td>\n",
       "      <td>...</td>\n",
       "      <td>...</td>\n",
       "    </tr>\n",
       "    <tr>\n",
       "      <th>120</th>\n",
       "      <td>7 wonders in my world 7th you 6th ur style 5th...</td>\n",
       "      <td>0</td>\n",
       "      <td>7 wonder world 7th 6th ur style 5th ur smile 4...</td>\n",
       "    </tr>\n",
       "    <tr>\n",
       "      <th>121</th>\n",
       "      <td>try to do something dear you read something fo...</td>\n",
       "      <td>0</td>\n",
       "      <td>try something dear read something exam</td>\n",
       "    </tr>\n",
       "    <tr>\n",
       "      <th>122</th>\n",
       "      <td>sun ah thk mayb can if dun have anythin on thk...</td>\n",
       "      <td>0</td>\n",
       "      <td>sun ah thk mayb dun anythin thk book e lesson ...</td>\n",
       "    </tr>\n",
       "    <tr>\n",
       "      <th>123</th>\n",
       "      <td>symptoms when u are in love 1 u like listening...</td>\n",
       "      <td>0</td>\n",
       "      <td>symptom u love 1 u like listening song 2 u get...</td>\n",
       "    </tr>\n",
       "    <tr>\n",
       "      <th>124</th>\n",
       "      <td>great have a safe trip dont panic surrender all</td>\n",
       "      <td>0</td>\n",
       "      <td>great safe trip dont panic surrender</td>\n",
       "    </tr>\n",
       "  </tbody>\n",
       "</table>\n",
       "<p>1082 rows × 3 columns</p>\n",
       "</div>"
      ],
      "text/plain": [
       "                                          Message_body  Label  \\\n",
       "0                            rofl its true to its name      0   \n",
       "1    the guy did some bitching but i acted like id ...      0   \n",
       "2    pity was in mood for that so any other suggest...      0   \n",
       "3                  will u b going to esplanade fr home      0   \n",
       "4    this is the 2nd time we have tried 2 contact u...      1   \n",
       "..                                                 ...    ...   \n",
       "120  7 wonders in my world 7th you 6th ur style 5th...      0   \n",
       "121  try to do something dear you read something fo...      0   \n",
       "122  sun ah thk mayb can if dun have anythin on thk...      0   \n",
       "123  symptoms when u are in love 1 u like listening...      0   \n",
       "124   great have a safe trip dont panic surrender all       0   \n",
       "\n",
       "                                       text_lemmatized  \n",
       "0                                       rofl true name  \n",
       "1    guy bitching acted like id interested buying s...  \n",
       "2                                 pity mood suggestion  \n",
       "3                          u b going esplanade fr home  \n",
       "4    2nd time tried 2 contact u u 750 pound prize 2...  \n",
       "..                                                 ...  \n",
       "120  7 wonder world 7th 6th ur style 5th ur smile 4...  \n",
       "121             try something dear read something exam  \n",
       "122  sun ah thk mayb dun anythin thk book e lesson ...  \n",
       "123  symptom u love 1 u like listening song 2 u get...  \n",
       "124               great safe trip dont panic surrender  \n",
       "\n",
       "[1082 rows x 3 columns]"
      ]
     },
     "execution_count": 614,
     "metadata": {},
     "output_type": "execute_result"
    }
   ],
   "source": [
    "df"
   ]
  },
  {
   "cell_type": "markdown",
   "metadata": {},
   "source": [
    "##### Observations\n",
    "- The texts have been lemmatized"
   ]
  },
  {
   "cell_type": "markdown",
   "metadata": {},
   "source": [
    "## <b>5. Evaluate the Data"
   ]
  },
  {
   "cell_type": "markdown",
   "metadata": {},
   "source": [
    "### 5.1. Assign features and target variables"
   ]
  },
  {
   "cell_type": "code",
   "execution_count": 615,
   "metadata": {},
   "outputs": [],
   "source": [
    "# Features and Labels\n",
    "X = df['text_lemmatized']\n",
    "y = df['Label']\n"
   ]
  },
  {
   "cell_type": "markdown",
   "metadata": {},
   "source": [
    "### 5.2. Bag-of-Words using CountVectorizer"
   ]
  },
  {
   "cell_type": "code",
   "execution_count": 616,
   "metadata": {},
   "outputs": [],
   "source": [
    "# init CountVectorizer()\n",
    "vectorizer = CountVectorizer(stop_words='english')\n",
    "\n",
    "# fit and transform the model\n",
    "A = vectorizer.fit_transform(X, y)"
   ]
  },
  {
   "cell_type": "code",
   "execution_count": 617,
   "metadata": {},
   "outputs": [
    {
     "data": {
      "text/html": [
       "<div>\n",
       "<style scoped>\n",
       "    .dataframe tbody tr th:only-of-type {\n",
       "        vertical-align: middle;\n",
       "    }\n",
       "\n",
       "    .dataframe tbody tr th {\n",
       "        vertical-align: top;\n",
       "    }\n",
       "\n",
       "    .dataframe thead th {\n",
       "        text-align: right;\n",
       "    }\n",
       "</style>\n",
       "<table border=\"1\" class=\"dataframe\">\n",
       "  <thead>\n",
       "    <tr style=\"text-align: right;\">\n",
       "      <th></th>\n",
       "      <th>0121</th>\n",
       "      <th>0207</th>\n",
       "      <th>02073162414</th>\n",
       "      <th>020903</th>\n",
       "      <th>021</th>\n",
       "      <th>05</th>\n",
       "      <th>06</th>\n",
       "      <th>061104</th>\n",
       "      <th>07046744435</th>\n",
       "      <th>07099833605</th>\n",
       "      <th>...</th>\n",
       "      <th>youre</th>\n",
       "      <th>youve</th>\n",
       "      <th>yoville</th>\n",
       "      <th>yr</th>\n",
       "      <th>yummy</th>\n",
       "      <th>yuo</th>\n",
       "      <th>yup</th>\n",
       "      <th>zebra</th>\n",
       "      <th>zed</th>\n",
       "      <th>zero</th>\n",
       "    </tr>\n",
       "  </thead>\n",
       "  <tbody>\n",
       "    <tr>\n",
       "      <th>0</th>\n",
       "      <td>0</td>\n",
       "      <td>0</td>\n",
       "      <td>0</td>\n",
       "      <td>0</td>\n",
       "      <td>0</td>\n",
       "      <td>0</td>\n",
       "      <td>0</td>\n",
       "      <td>0</td>\n",
       "      <td>0</td>\n",
       "      <td>0</td>\n",
       "      <td>...</td>\n",
       "      <td>0</td>\n",
       "      <td>0</td>\n",
       "      <td>0</td>\n",
       "      <td>0</td>\n",
       "      <td>0</td>\n",
       "      <td>0</td>\n",
       "      <td>0</td>\n",
       "      <td>0</td>\n",
       "      <td>0</td>\n",
       "      <td>0</td>\n",
       "    </tr>\n",
       "    <tr>\n",
       "      <th>1</th>\n",
       "      <td>0</td>\n",
       "      <td>0</td>\n",
       "      <td>0</td>\n",
       "      <td>0</td>\n",
       "      <td>0</td>\n",
       "      <td>0</td>\n",
       "      <td>0</td>\n",
       "      <td>0</td>\n",
       "      <td>0</td>\n",
       "      <td>0</td>\n",
       "      <td>...</td>\n",
       "      <td>0</td>\n",
       "      <td>0</td>\n",
       "      <td>0</td>\n",
       "      <td>0</td>\n",
       "      <td>0</td>\n",
       "      <td>0</td>\n",
       "      <td>0</td>\n",
       "      <td>0</td>\n",
       "      <td>0</td>\n",
       "      <td>0</td>\n",
       "    </tr>\n",
       "    <tr>\n",
       "      <th>2</th>\n",
       "      <td>0</td>\n",
       "      <td>0</td>\n",
       "      <td>0</td>\n",
       "      <td>0</td>\n",
       "      <td>0</td>\n",
       "      <td>0</td>\n",
       "      <td>0</td>\n",
       "      <td>0</td>\n",
       "      <td>0</td>\n",
       "      <td>0</td>\n",
       "      <td>...</td>\n",
       "      <td>0</td>\n",
       "      <td>0</td>\n",
       "      <td>0</td>\n",
       "      <td>0</td>\n",
       "      <td>0</td>\n",
       "      <td>0</td>\n",
       "      <td>0</td>\n",
       "      <td>0</td>\n",
       "      <td>0</td>\n",
       "      <td>0</td>\n",
       "    </tr>\n",
       "    <tr>\n",
       "      <th>3</th>\n",
       "      <td>0</td>\n",
       "      <td>0</td>\n",
       "      <td>0</td>\n",
       "      <td>0</td>\n",
       "      <td>0</td>\n",
       "      <td>0</td>\n",
       "      <td>0</td>\n",
       "      <td>0</td>\n",
       "      <td>0</td>\n",
       "      <td>0</td>\n",
       "      <td>...</td>\n",
       "      <td>0</td>\n",
       "      <td>0</td>\n",
       "      <td>0</td>\n",
       "      <td>0</td>\n",
       "      <td>0</td>\n",
       "      <td>0</td>\n",
       "      <td>0</td>\n",
       "      <td>0</td>\n",
       "      <td>0</td>\n",
       "      <td>0</td>\n",
       "    </tr>\n",
       "    <tr>\n",
       "      <th>4</th>\n",
       "      <td>0</td>\n",
       "      <td>0</td>\n",
       "      <td>0</td>\n",
       "      <td>0</td>\n",
       "      <td>0</td>\n",
       "      <td>0</td>\n",
       "      <td>0</td>\n",
       "      <td>0</td>\n",
       "      <td>0</td>\n",
       "      <td>0</td>\n",
       "      <td>...</td>\n",
       "      <td>0</td>\n",
       "      <td>0</td>\n",
       "      <td>0</td>\n",
       "      <td>0</td>\n",
       "      <td>0</td>\n",
       "      <td>0</td>\n",
       "      <td>0</td>\n",
       "      <td>0</td>\n",
       "      <td>0</td>\n",
       "      <td>0</td>\n",
       "    </tr>\n",
       "    <tr>\n",
       "      <th>...</th>\n",
       "      <td>...</td>\n",
       "      <td>...</td>\n",
       "      <td>...</td>\n",
       "      <td>...</td>\n",
       "      <td>...</td>\n",
       "      <td>...</td>\n",
       "      <td>...</td>\n",
       "      <td>...</td>\n",
       "      <td>...</td>\n",
       "      <td>...</td>\n",
       "      <td>...</td>\n",
       "      <td>...</td>\n",
       "      <td>...</td>\n",
       "      <td>...</td>\n",
       "      <td>...</td>\n",
       "      <td>...</td>\n",
       "      <td>...</td>\n",
       "      <td>...</td>\n",
       "      <td>...</td>\n",
       "      <td>...</td>\n",
       "      <td>...</td>\n",
       "    </tr>\n",
       "    <tr>\n",
       "      <th>1077</th>\n",
       "      <td>0</td>\n",
       "      <td>0</td>\n",
       "      <td>0</td>\n",
       "      <td>0</td>\n",
       "      <td>0</td>\n",
       "      <td>0</td>\n",
       "      <td>0</td>\n",
       "      <td>0</td>\n",
       "      <td>0</td>\n",
       "      <td>0</td>\n",
       "      <td>...</td>\n",
       "      <td>0</td>\n",
       "      <td>0</td>\n",
       "      <td>0</td>\n",
       "      <td>0</td>\n",
       "      <td>0</td>\n",
       "      <td>0</td>\n",
       "      <td>0</td>\n",
       "      <td>0</td>\n",
       "      <td>0</td>\n",
       "      <td>0</td>\n",
       "    </tr>\n",
       "    <tr>\n",
       "      <th>1078</th>\n",
       "      <td>0</td>\n",
       "      <td>0</td>\n",
       "      <td>0</td>\n",
       "      <td>0</td>\n",
       "      <td>0</td>\n",
       "      <td>0</td>\n",
       "      <td>0</td>\n",
       "      <td>0</td>\n",
       "      <td>0</td>\n",
       "      <td>0</td>\n",
       "      <td>...</td>\n",
       "      <td>0</td>\n",
       "      <td>0</td>\n",
       "      <td>0</td>\n",
       "      <td>0</td>\n",
       "      <td>0</td>\n",
       "      <td>0</td>\n",
       "      <td>0</td>\n",
       "      <td>0</td>\n",
       "      <td>0</td>\n",
       "      <td>0</td>\n",
       "    </tr>\n",
       "    <tr>\n",
       "      <th>1079</th>\n",
       "      <td>0</td>\n",
       "      <td>0</td>\n",
       "      <td>0</td>\n",
       "      <td>0</td>\n",
       "      <td>0</td>\n",
       "      <td>0</td>\n",
       "      <td>0</td>\n",
       "      <td>0</td>\n",
       "      <td>0</td>\n",
       "      <td>0</td>\n",
       "      <td>...</td>\n",
       "      <td>0</td>\n",
       "      <td>0</td>\n",
       "      <td>0</td>\n",
       "      <td>0</td>\n",
       "      <td>0</td>\n",
       "      <td>0</td>\n",
       "      <td>0</td>\n",
       "      <td>0</td>\n",
       "      <td>0</td>\n",
       "      <td>0</td>\n",
       "    </tr>\n",
       "    <tr>\n",
       "      <th>1080</th>\n",
       "      <td>0</td>\n",
       "      <td>0</td>\n",
       "      <td>0</td>\n",
       "      <td>0</td>\n",
       "      <td>0</td>\n",
       "      <td>0</td>\n",
       "      <td>0</td>\n",
       "      <td>0</td>\n",
       "      <td>0</td>\n",
       "      <td>0</td>\n",
       "      <td>...</td>\n",
       "      <td>0</td>\n",
       "      <td>0</td>\n",
       "      <td>0</td>\n",
       "      <td>0</td>\n",
       "      <td>0</td>\n",
       "      <td>0</td>\n",
       "      <td>0</td>\n",
       "      <td>0</td>\n",
       "      <td>0</td>\n",
       "      <td>0</td>\n",
       "    </tr>\n",
       "    <tr>\n",
       "      <th>1081</th>\n",
       "      <td>0</td>\n",
       "      <td>0</td>\n",
       "      <td>0</td>\n",
       "      <td>0</td>\n",
       "      <td>0</td>\n",
       "      <td>0</td>\n",
       "      <td>0</td>\n",
       "      <td>0</td>\n",
       "      <td>0</td>\n",
       "      <td>0</td>\n",
       "      <td>...</td>\n",
       "      <td>0</td>\n",
       "      <td>0</td>\n",
       "      <td>0</td>\n",
       "      <td>0</td>\n",
       "      <td>0</td>\n",
       "      <td>0</td>\n",
       "      <td>0</td>\n",
       "      <td>0</td>\n",
       "      <td>0</td>\n",
       "      <td>0</td>\n",
       "    </tr>\n",
       "  </tbody>\n",
       "</table>\n",
       "<p>1082 rows × 3209 columns</p>\n",
       "</div>"
      ],
      "text/plain": [
       "      0121  0207  02073162414  020903  021  05  06  061104  07046744435  \\\n",
       "0        0     0            0       0    0   0   0       0            0   \n",
       "1        0     0            0       0    0   0   0       0            0   \n",
       "2        0     0            0       0    0   0   0       0            0   \n",
       "3        0     0            0       0    0   0   0       0            0   \n",
       "4        0     0            0       0    0   0   0       0            0   \n",
       "...    ...   ...          ...     ...  ...  ..  ..     ...          ...   \n",
       "1077     0     0            0       0    0   0   0       0            0   \n",
       "1078     0     0            0       0    0   0   0       0            0   \n",
       "1079     0     0            0       0    0   0   0       0            0   \n",
       "1080     0     0            0       0    0   0   0       0            0   \n",
       "1081     0     0            0       0    0   0   0       0            0   \n",
       "\n",
       "      07099833605  ...  youre  youve  yoville  yr  yummy  yuo  yup  zebra  \\\n",
       "0               0  ...      0      0        0   0      0    0    0      0   \n",
       "1               0  ...      0      0        0   0      0    0    0      0   \n",
       "2               0  ...      0      0        0   0      0    0    0      0   \n",
       "3               0  ...      0      0        0   0      0    0    0      0   \n",
       "4               0  ...      0      0        0   0      0    0    0      0   \n",
       "...           ...  ...    ...    ...      ...  ..    ...  ...  ...    ...   \n",
       "1077            0  ...      0      0        0   0      0    0    0      0   \n",
       "1078            0  ...      0      0        0   0      0    0    0      0   \n",
       "1079            0  ...      0      0        0   0      0    0    0      0   \n",
       "1080            0  ...      0      0        0   0      0    0    0      0   \n",
       "1081            0  ...      0      0        0   0      0    0    0      0   \n",
       "\n",
       "      zed  zero  \n",
       "0       0     0  \n",
       "1       0     0  \n",
       "2       0     0  \n",
       "3       0     0  \n",
       "4       0     0  \n",
       "...   ...   ...  \n",
       "1077    0     0  \n",
       "1078    0     0  \n",
       "1079    0     0  \n",
       "1080    0     0  \n",
       "1081    0     0  \n",
       "\n",
       "[1082 rows x 3209 columns]"
      ]
     },
     "execution_count": 617,
     "metadata": {},
     "output_type": "execute_result"
    }
   ],
   "source": [
    "df_bow_vec = pd.DataFrame(A.toarray(), columns=vectorizer.get_feature_names_out())\n",
    "df_bow_vec"
   ]
  },
  {
   "cell_type": "code",
   "execution_count": 618,
   "metadata": {},
   "outputs": [],
   "source": [
    "# split the data\n",
    "X_train, X_test, y_train, y_test = train_test_split(df_bow_vec, y, test_size = 0.2, random_state = 42)"
   ]
  },
  {
   "cell_type": "markdown",
   "metadata": {},
   "source": [
    "#### 5.2.1. Testing Machine Learning Models"
   ]
  },
  {
   "cell_type": "code",
   "execution_count": 619,
   "metadata": {},
   "outputs": [
    {
     "name": "stdout",
     "output_type": "stream",
     "text": [
      "=== Logistic Regression ===\n",
      "Train score:  0.9965317919075144\n",
      "Test score:  0.9447004608294931\n",
      "\n",
      "\n",
      "=== Support Vector Machines ===\n",
      "Train score:  1.0\n",
      "Test score:  0.9631336405529954\n",
      "\n",
      "\n",
      "=== Naive Bayes ===\n",
      "Train score:  0.9653179190751445\n",
      "Test score:  0.8894009216589862\n",
      "\n",
      "\n",
      "=== Decision Trees ===\n",
      "Train score:  0.915606936416185\n",
      "Test score:  0.9078341013824884\n"
     ]
    }
   ],
   "source": [
    "# init and fit the models\n",
    "lr_model = LogisticRegression().fit(X_train, y_train)\n",
    "svm_model = SVC(kernel='linear', probability=True).fit(X_train, y_train)\n",
    "nb_model = GaussianNB().fit(X_train, y_train)\n",
    "dt_model = DecisionTreeClassifier(max_depth=4).fit(X_train, y_train)\n",
    "\n",
    "# transform test set\n",
    "B = vectorizer.transform(X_test)\n",
    "\n",
    "# print the scores\n",
    "print('=== Logistic Regression ===')\n",
    "print('Train score: ', lr_model.score(X_train, y_train))\n",
    "print('Test score: ', lr_model.score(X_test, y_test))\n",
    "\n",
    "print('\\n')\n",
    "\n",
    "print('=== Support Vector Machines ===')\n",
    "print('Train score: ', svm_model.score(X_train, y_train))\n",
    "print('Test score: ', svm_model.score(X_test, y_test))\n",
    "\n",
    "print('\\n')\n",
    "\n",
    "print('=== Naive Bayes ===')\n",
    "print('Train score: ', nb_model.score(X_train, y_train))\n",
    "print('Test score: ', nb_model.score(X_test, y_test))\n",
    "\n",
    "print('\\n')\n",
    "\n",
    "print('=== Decision Trees ===')\n",
    "print('Train score: ', dt_model.score(X_train, y_train))\n",
    "print('Test score: ', dt_model.score(X_test, y_test))"
   ]
  },
  {
   "cell_type": "code",
   "execution_count": 620,
   "metadata": {},
   "outputs": [],
   "source": [
    "# get predictions for each model\n",
    "lr_predict = lr_model.predict(X_test)\n",
    "svm_predict = svm_model.predict(X_test)\n",
    "nb_predict = nb_model.predict(X_test)\n",
    "dt_predict = dt_model.predict(X_test)\n",
    "\n",
    "\n",
    "# get probability for each model\n",
    "lr_proba = lr_model.predict_proba(X_test)[:, 1]\n",
    "svm_proba = svm_model.predict_proba(X_test)[:, 1]\n",
    "nb_proba = nb_model.predict_proba(X_test)[:, 1]\n",
    "dt_proba = dt_model.predict_proba(X_test)[:, 1]\n",
    "\n",
    "# calculate fpr and tpr for each model\n",
    "fpr_lr, tpr_lr, _ = metrics.roc_curve(y_test, lr_proba)\n",
    "fpr_svm, tpr_svm, _ = metrics.roc_curve(y_test, svm_proba)\n",
    "fpr_nb, tpr_nb, _ = metrics.roc_curve(y_test, nb_proba)\n",
    "fpr_dt, tpr_dt, _ = metrics.roc_curve(y_test, dt_proba)\n",
    "\n",
    "# calculate roc curve for each model\n",
    "roc_auc_lr = metrics.auc(fpr_lr, tpr_lr)\n",
    "roc_auc_svm = metrics.auc(fpr_svm, tpr_svm)\n",
    "roc_auc_nb = metrics.auc(fpr_nb, tpr_nb)\n",
    "roc_auc_dt = metrics.auc(fpr_dt, tpr_dt)"
   ]
  },
  {
   "cell_type": "code",
   "execution_count": 621,
   "metadata": {},
   "outputs": [
    {
     "data": {
      "text/plain": [
       "array([0.08707124, 0.08707124, 0.08707124, 0.87755102, 0.08707124,\n",
       "       0.08707124, 0.08707124, 1.        , 0.08707124, 0.08707124,\n",
       "       0.08707124, 0.08707124, 0.08707124, 0.08707124, 0.08707124,\n",
       "       0.08707124, 0.08707124, 0.08707124, 0.08707124, 0.08707124,\n",
       "       0.08707124, 0.87755102, 0.08707124, 0.08707124, 0.08707124,\n",
       "       0.08707124, 0.08707124, 0.08707124, 0.08707124, 0.08707124,\n",
       "       0.08707124, 0.08707124, 0.08707124, 0.08707124, 0.08707124,\n",
       "       0.08707124, 0.08707124, 0.08707124, 0.08707124, 0.08707124,\n",
       "       0.08707124, 0.08707124, 0.08707124, 0.08707124, 0.08707124,\n",
       "       0.08707124, 0.08707124, 0.08707124, 0.08707124, 0.08707124,\n",
       "       0.08707124, 0.08707124, 0.08707124, 0.08707124, 0.08707124,\n",
       "       0.08707124, 0.08707124, 0.08707124, 0.08707124, 0.08707124,\n",
       "       0.08707124, 0.08707124, 0.08707124, 1.        , 0.08707124,\n",
       "       0.08707124, 0.08707124, 0.08707124, 0.08707124, 0.08707124,\n",
       "       0.08707124, 0.08707124, 0.92857143, 0.08707124, 0.08707124,\n",
       "       0.08707124, 0.87755102, 1.        , 0.08707124, 0.08707124,\n",
       "       0.08707124, 0.08707124, 0.08707124, 1.        , 0.08707124,\n",
       "       0.08707124, 0.87755102, 0.08707124, 0.08707124, 0.08707124,\n",
       "       0.08707124, 0.08707124, 0.08707124, 0.08707124, 0.87755102,\n",
       "       0.08707124, 0.08707124, 0.08707124, 0.08707124, 0.08707124,\n",
       "       0.08707124, 0.08707124, 0.08707124, 0.08707124, 0.08707124,\n",
       "       0.08707124, 0.08707124, 0.08707124, 0.08707124, 1.        ,\n",
       "       0.08707124, 0.08707124, 0.08707124, 0.08707124, 0.08707124,\n",
       "       0.08707124, 0.08707124, 0.08707124, 0.08707124, 0.08707124,\n",
       "       0.08707124, 0.08707124, 0.08707124, 0.92857143, 0.08707124,\n",
       "       0.08707124, 0.08707124, 0.08707124, 0.08707124, 0.08707124,\n",
       "       0.87755102, 1.        , 0.08707124, 0.08707124, 0.08707124,\n",
       "       0.08707124, 0.08707124, 0.08707124, 0.08707124, 0.08707124,\n",
       "       0.87755102, 0.08707124, 0.08707124, 0.08707124, 0.08707124,\n",
       "       0.87755102, 0.08707124, 0.87755102, 0.08707124, 0.08707124,\n",
       "       0.08707124, 0.08707124, 0.08707124, 0.08707124, 0.08707124,\n",
       "       0.08707124, 0.08707124, 0.08707124, 0.08707124, 0.08707124,\n",
       "       0.08707124, 0.08707124, 0.08707124, 0.08707124, 0.08707124,\n",
       "       0.08707124, 0.08707124, 0.08707124, 0.08707124, 0.08707124,\n",
       "       0.08707124, 0.08707124, 0.08707124, 0.08707124, 0.08707124,\n",
       "       0.92857143, 0.08707124, 0.08707124, 0.08707124, 0.08707124,\n",
       "       0.08707124, 0.08707124, 0.08707124, 0.08707124, 0.08707124,\n",
       "       0.08707124, 0.08707124, 0.08707124, 0.08707124, 0.08707124,\n",
       "       0.08707124, 0.08707124, 0.08707124, 0.08707124, 0.08707124,\n",
       "       0.08707124, 0.08707124, 0.08707124, 0.08707124, 0.08707124,\n",
       "       0.08707124, 0.08707124, 0.08707124, 0.08707124, 0.08707124,\n",
       "       0.08707124, 0.08707124, 0.08707124, 1.        , 0.08707124,\n",
       "       0.08707124, 1.        , 0.08707124, 0.08707124, 0.08707124,\n",
       "       0.08707124, 0.08707124])"
      ]
     },
     "execution_count": 621,
     "metadata": {},
     "output_type": "execute_result"
    }
   ],
   "source": [
    "dt_proba"
   ]
  },
  {
   "cell_type": "code",
   "execution_count": 647,
   "metadata": {},
   "outputs": [
    {
     "data": {
      "image/png": "[encoded data removed]",
      "text/plain": [
       "<Figure size 576x576 with 1 Axes>"
      ]
     },
     "metadata": {
      "needs_background": "light"
     },
     "output_type": "display_data"
    }
   ],
   "source": [
    "# set figure size\n",
    "plt.figure(figsize=[8,8])\n",
    "\n",
    "# plot each of the models\n",
    "plt.plot(fpr_lr, tpr_lr, color='cyan', lw = 2, label = 'ROC LR curve (area = %0.2f)' % roc_auc_lr)\n",
    "plt.plot(fpr_svm, tpr_svm, color='r', lw = 2, label = 'ROC SVM curve (area = %0.3f)' % roc_auc_svm)\n",
    "plt.plot(fpr_nb, tpr_nb, color='g', lw = 2, label = 'ROC NB curve (area = %0.2f)' % roc_auc_nb)\n",
    "plt.plot(fpr_nb, tpr_nb, color='purple', lw = 2, label = 'ROC DT curve (area = %0.2f)' % roc_auc_dt)\n",
    "\n",
    "plt.plot([0, 1], [0, 1], color = 'navy', lw = 2, linestyle = '--')\n",
    "plt.xlim([-0.05, 1.0])\n",
    "plt.ylim([-0.05, 1.05])\n",
    "plt.xlabel('False Positive Rate', fontsize=18)\n",
    "plt.ylabel('True Positive Rate', fontsize=18)\n",
    "plt.title('Receiver Operating Characteristic', fontsize=18)\n",
    "plt.legend(loc=\"lower right\")\n",
    "plt.show()"
   ]
  },
  {
   "cell_type": "code",
   "execution_count": 623,
   "metadata": {
    "ExecuteTime": {
     "end_time": "2019-06-17T01:35:22.212854Z",
     "start_time": "2019-06-17T01:35:22.040284Z"
    },
    "id": "eJZpD903LcgQ"
   },
   "outputs": [],
   "source": [
    "# helper function to show results and charts\n",
    "def show_summary_report(actual, prediction, probabilities):\n",
    "\n",
    "    if isinstance(actual, pd.Series):\n",
    "        actual = actual.values.astype(int)\n",
    "    prediction = prediction.astype(int)\n",
    "\n",
    "    accuracy_ = accuracy_score(actual, prediction)\n",
    "    precision_ = precision_score(actual, prediction)\n",
    "    recall_ = recall_score(actual, prediction)\n",
    "    roc_auc_ = roc_auc_score(actual, probabilities)\n",
    "\n",
    "    print('Accuracy : %.4f [TP / N] Proportion of predicted labels that match the true labels. Best: 1, Worst: 0' % accuracy_)\n",
    "    print('Precision: %.4f [TP / (TP + FP)] Not to label a negative sample as positive.        Best: 1, Worst: 0' % precision_)\n",
    "    print('Recall   : %.4f [TP / (TP + FN)] Find all the positive samples.                     Best: 1, Worst: 0' % recall_)\n",
    "    print('ROC AUC  : %.4f                                                                     Best: 1, Worst: < 0.5' % roc_auc_)\n",
    "    print('-' * 107)\n",
    "    print('TP: True Positives, FP: False Positives, TN: True Negatives, FN: False Negatives, N: Number of samples')\n",
    "\n",
    "    # Confusion Matrix\n",
    "    mat = confusion_matrix(actual, prediction)\n",
    "\n",
    "    # Precision/Recall\n",
    "    precision, recall, _ = precision_recall_curve(actual, probabilities)\n",
    "    average_precision = average_precision_score(actual, probabilities)\n",
    "    \n",
    "    # Compute ROC curve and ROC area\n",
    "    fpr, tpr, _ = roc_curve(actual, probabilities)\n",
    "    roc_auc = auc(fpr, tpr)\n",
    "\n",
    "\n",
    "    # plot\n",
    "    fig, ax = plt.subplots(1, 3, figsize = (18, 6))\n",
    "    fig.subplots_adjust(left = 0.02, right = 0.98, wspace = 0.2)\n",
    "\n",
    "    # Confusion Matrix\n",
    "    sns.heatmap(mat.T, square = True, annot = True, fmt = 'd', cbar = False, cmap = 'Blues', ax = ax[0])\n",
    "\n",
    "    ax[0].set_title('Confusion Matrix')\n",
    "    ax[0].set_xlabel('True label')\n",
    "    ax[0].set_ylabel('Predicted label')\n",
    "    \n",
    "    # Precision/Recall\n",
    "    step_kwargs = {'step': 'post'}\n",
    "    ax[1].step(recall, precision, color = 'b', alpha = 0.2, where = 'post')\n",
    "    ax[1].fill_between(recall, precision, alpha = 0.2, color = 'b', **step_kwargs)\n",
    "    ax[1].set_ylim([0.0, 1.0])\n",
    "    ax[1].set_xlim([0.0, 1.0])\n",
    "    ax[1].set_xlabel('Recall')\n",
    "    ax[1].set_ylabel('Precision')\n",
    "    ax[1].set_title('2-class Precision-Recall curve')\n",
    "\n",
    "    # ROC\n",
    "    ax[2].plot(fpr, tpr, color = 'darkorange', lw = 2, label = 'ROC curve (AUC = %0.2f)' % roc_auc)\n",
    "    ax[2].plot([0, 1], [0, 1], color = 'navy', lw = 2, linestyle = '--')\n",
    "    ax[2].set_xlim([0.0, 1.0])\n",
    "    ax[2].set_ylim([0.0, 1.0])\n",
    "    ax[2].set_xlabel('False Positive Rate')\n",
    "    ax[2].set_ylabel('True Positive Rate')\n",
    "    ax[2].set_title('Receiver Operating Characteristic')\n",
    "    ax[2].legend(loc = 'lower right')\n",
    "\n",
    "    plt.show()\n",
    "    \n",
    "    return (accuracy_, precision_, recall_, roc_auc_)"
   ]
  },
  {
   "cell_type": "code",
   "execution_count": 624,
   "metadata": {},
   "outputs": [
    {
     "name": "stdout",
     "output_type": "stream",
     "text": [
      "\n",
      "\n",
      "\n",
      "========== LOGISTIC REGRESSION ==========\n",
      "\n",
      "\n",
      "Accuracy : 0.9447 [TP / N] Proportion of predicted labels that match the true labels. Best: 1, Worst: 0\n",
      "Precision: 1.0000 [TP / (TP + FP)] Not to label a negative sample as positive.        Best: 1, Worst: 0\n",
      "Recall   : 0.6667 [TP / (TP + FN)] Find all the positive samples.                     Best: 1, Worst: 0\n",
      "ROC AUC  : 0.9972                                                                     Best: 1, Worst: < 0.5\n",
      "-----------------------------------------------------------------------------------------------------------\n",
      "TP: True Positives, FP: False Positives, TN: True Negatives, FN: False Negatives, N: Number of samples\n"
     ]
    },
    {
     "data": {
      "image/png": "[encoded data removed]",
      "text/plain": [
       "<Figure size 1296x432 with 3 Axes>"
      ]
     },
     "metadata": {
      "needs_background": "light"
     },
     "output_type": "display_data"
    },
    {
     "name": "stdout",
     "output_type": "stream",
     "text": [
      "\n",
      "\n",
      "\n",
      "==========SUPPORT VECTOR MACHINES ==========\n",
      "\n",
      "\n",
      "Accuracy : 0.9631 [TP / N] Proportion of predicted labels that match the true labels. Best: 1, Worst: 0\n",
      "Precision: 1.0000 [TP / (TP + FP)] Not to label a negative sample as positive.        Best: 1, Worst: 0\n",
      "Recall   : 0.7778 [TP / (TP + FN)] Find all the positive samples.                     Best: 1, Worst: 0\n",
      "ROC AUC  : 0.9962                                                                     Best: 1, Worst: < 0.5\n",
      "-----------------------------------------------------------------------------------------------------------\n",
      "TP: True Positives, FP: False Positives, TN: True Negatives, FN: False Negatives, N: Number of samples\n"
     ]
    },
    {
     "data": {
      "image/png": "[encoded data removed]",
      "text/plain": [
       "<Figure size 1296x432 with 3 Axes>"
      ]
     },
     "metadata": {
      "needs_background": "light"
     },
     "output_type": "display_data"
    },
    {
     "name": "stdout",
     "output_type": "stream",
     "text": [
      "\n",
      "\n",
      "\n",
      "========== NAIVE BAYES ==========\n",
      "\n",
      "\n",
      "Accuracy : 0.8894 [TP / N] Proportion of predicted labels that match the true labels. Best: 1, Worst: 0\n",
      "Precision: 0.6111 [TP / (TP + FP)] Not to label a negative sample as positive.        Best: 1, Worst: 0\n",
      "Recall   : 0.9167 [TP / (TP + FN)] Find all the positive samples.                     Best: 1, Worst: 0\n",
      "ROC AUC  : 0.9003                                                                     Best: 1, Worst: < 0.5\n",
      "-----------------------------------------------------------------------------------------------------------\n",
      "TP: True Positives, FP: False Positives, TN: True Negatives, FN: False Negatives, N: Number of samples\n"
     ]
    },
    {
     "data": {
      "image/png": "[encoded data removed]",
      "text/plain": [
       "<Figure size 1296x432 with 3 Axes>"
      ]
     },
     "metadata": {
      "needs_background": "light"
     },
     "output_type": "display_data"
    },
    {
     "name": "stdout",
     "output_type": "stream",
     "text": [
      "\n",
      "\n",
      "\n",
      "========== DECISION TREES ==========\n",
      "\n",
      "\n",
      "Accuracy : 0.9078 [TP / N] Proportion of predicted labels that match the true labels. Best: 1, Worst: 0\n",
      "Precision: 0.9000 [TP / (TP + FP)] Not to label a negative sample as positive.        Best: 1, Worst: 0\n",
      "Recall   : 0.5000 [TP / (TP + FN)] Find all the positive samples.                     Best: 1, Worst: 0\n",
      "ROC AUC  : 0.7452                                                                     Best: 1, Worst: < 0.5\n",
      "-----------------------------------------------------------------------------------------------------------\n",
      "TP: True Positives, FP: False Positives, TN: True Negatives, FN: False Negatives, N: Number of samples\n"
     ]
    },
    {
     "data": {
      "image/png": "[encoded data removed]",
      "text/plain": [
       "<Figure size 1296x432 with 3 Axes>"
      ]
     },
     "metadata": {
      "needs_background": "light"
     },
     "output_type": "display_data"
    },
    {
     "data": {
      "text/plain": [
       "(0.9078341013824884, 0.9, 0.5, 0.7452424800491099)"
      ]
     },
     "execution_count": 624,
     "metadata": {},
     "output_type": "execute_result"
    }
   ],
   "source": [
    "# summary reports of each of the models\n",
    "print('\\n\\n')\n",
    "print('========== LOGISTIC REGRESSION ==========')\n",
    "print('\\n')\n",
    "show_summary_report(y_test, lr_predict, lr_proba)\n",
    "\n",
    "print('\\n\\n')\n",
    "\n",
    "print('==========SUPPORT VECTOR MACHINES ==========')\n",
    "print('\\n')\n",
    "show_summary_report(y_test, svm_predict, svm_proba)\n",
    "\n",
    "print('\\n\\n')\n",
    "\n",
    "print('========== NAIVE BAYES ==========')\n",
    "print('\\n')\n",
    "show_summary_report(y_test, nb_predict, nb_proba)\n",
    "\n",
    "\n",
    "print('\\n\\n')\n",
    "\n",
    "print('========== DECISION TREES ==========')\n",
    "print('\\n')\n",
    "show_summary_report(y_test, dt_predict, dt_proba)"
   ]
  },
  {
   "cell_type": "markdown",
   "metadata": {},
   "source": [
    "### 5.3. Bag-of-Words using TF-IDF"
   ]
  },
  {
   "cell_type": "code",
   "execution_count": 625,
   "metadata": {},
   "outputs": [],
   "source": [
    "# init TfidfVectorizer()\n",
    "tfidf = TfidfVectorizer(stop_words='english')\n",
    "\n",
    "# fit and transform the model\n",
    "B = tfidf.fit_transform(X, y)"
   ]
  },
  {
   "cell_type": "code",
   "execution_count": 626,
   "metadata": {},
   "outputs": [
    {
     "data": {
      "text/html": [
       "<div>\n",
       "<style scoped>\n",
       "    .dataframe tbody tr th:only-of-type {\n",
       "        vertical-align: middle;\n",
       "    }\n",
       "\n",
       "    .dataframe tbody tr th {\n",
       "        vertical-align: top;\n",
       "    }\n",
       "\n",
       "    .dataframe thead th {\n",
       "        text-align: right;\n",
       "    }\n",
       "</style>\n",
       "<table border=\"1\" class=\"dataframe\">\n",
       "  <thead>\n",
       "    <tr style=\"text-align: right;\">\n",
       "      <th></th>\n",
       "      <th>0121</th>\n",
       "      <th>0207</th>\n",
       "      <th>02073162414</th>\n",
       "      <th>020903</th>\n",
       "      <th>021</th>\n",
       "      <th>05</th>\n",
       "      <th>06</th>\n",
       "      <th>061104</th>\n",
       "      <th>07046744435</th>\n",
       "      <th>07099833605</th>\n",
       "      <th>...</th>\n",
       "      <th>youre</th>\n",
       "      <th>youve</th>\n",
       "      <th>yoville</th>\n",
       "      <th>yr</th>\n",
       "      <th>yummy</th>\n",
       "      <th>yuo</th>\n",
       "      <th>yup</th>\n",
       "      <th>zebra</th>\n",
       "      <th>zed</th>\n",
       "      <th>zero</th>\n",
       "    </tr>\n",
       "  </thead>\n",
       "  <tbody>\n",
       "    <tr>\n",
       "      <th>0</th>\n",
       "      <td>0.0</td>\n",
       "      <td>0.0</td>\n",
       "      <td>0.0</td>\n",
       "      <td>0.0</td>\n",
       "      <td>0.0</td>\n",
       "      <td>0.0</td>\n",
       "      <td>0.0</td>\n",
       "      <td>0.0</td>\n",
       "      <td>0.0</td>\n",
       "      <td>0.0</td>\n",
       "      <td>...</td>\n",
       "      <td>0.0</td>\n",
       "      <td>0.0</td>\n",
       "      <td>0.0</td>\n",
       "      <td>0.0</td>\n",
       "      <td>0.0</td>\n",
       "      <td>0.0</td>\n",
       "      <td>0.0</td>\n",
       "      <td>0.0</td>\n",
       "      <td>0.0</td>\n",
       "      <td>0.0</td>\n",
       "    </tr>\n",
       "    <tr>\n",
       "      <th>1</th>\n",
       "      <td>0.0</td>\n",
       "      <td>0.0</td>\n",
       "      <td>0.0</td>\n",
       "      <td>0.0</td>\n",
       "      <td>0.0</td>\n",
       "      <td>0.0</td>\n",
       "      <td>0.0</td>\n",
       "      <td>0.0</td>\n",
       "      <td>0.0</td>\n",
       "      <td>0.0</td>\n",
       "      <td>...</td>\n",
       "      <td>0.0</td>\n",
       "      <td>0.0</td>\n",
       "      <td>0.0</td>\n",
       "      <td>0.0</td>\n",
       "      <td>0.0</td>\n",
       "      <td>0.0</td>\n",
       "      <td>0.0</td>\n",
       "      <td>0.0</td>\n",
       "      <td>0.0</td>\n",
       "      <td>0.0</td>\n",
       "    </tr>\n",
       "    <tr>\n",
       "      <th>2</th>\n",
       "      <td>0.0</td>\n",
       "      <td>0.0</td>\n",
       "      <td>0.0</td>\n",
       "      <td>0.0</td>\n",
       "      <td>0.0</td>\n",
       "      <td>0.0</td>\n",
       "      <td>0.0</td>\n",
       "      <td>0.0</td>\n",
       "      <td>0.0</td>\n",
       "      <td>0.0</td>\n",
       "      <td>...</td>\n",
       "      <td>0.0</td>\n",
       "      <td>0.0</td>\n",
       "      <td>0.0</td>\n",
       "      <td>0.0</td>\n",
       "      <td>0.0</td>\n",
       "      <td>0.0</td>\n",
       "      <td>0.0</td>\n",
       "      <td>0.0</td>\n",
       "      <td>0.0</td>\n",
       "      <td>0.0</td>\n",
       "    </tr>\n",
       "    <tr>\n",
       "      <th>3</th>\n",
       "      <td>0.0</td>\n",
       "      <td>0.0</td>\n",
       "      <td>0.0</td>\n",
       "      <td>0.0</td>\n",
       "      <td>0.0</td>\n",
       "      <td>0.0</td>\n",
       "      <td>0.0</td>\n",
       "      <td>0.0</td>\n",
       "      <td>0.0</td>\n",
       "      <td>0.0</td>\n",
       "      <td>...</td>\n",
       "      <td>0.0</td>\n",
       "      <td>0.0</td>\n",
       "      <td>0.0</td>\n",
       "      <td>0.0</td>\n",
       "      <td>0.0</td>\n",
       "      <td>0.0</td>\n",
       "      <td>0.0</td>\n",
       "      <td>0.0</td>\n",
       "      <td>0.0</td>\n",
       "      <td>0.0</td>\n",
       "    </tr>\n",
       "    <tr>\n",
       "      <th>4</th>\n",
       "      <td>0.0</td>\n",
       "      <td>0.0</td>\n",
       "      <td>0.0</td>\n",
       "      <td>0.0</td>\n",
       "      <td>0.0</td>\n",
       "      <td>0.0</td>\n",
       "      <td>0.0</td>\n",
       "      <td>0.0</td>\n",
       "      <td>0.0</td>\n",
       "      <td>0.0</td>\n",
       "      <td>...</td>\n",
       "      <td>0.0</td>\n",
       "      <td>0.0</td>\n",
       "      <td>0.0</td>\n",
       "      <td>0.0</td>\n",
       "      <td>0.0</td>\n",
       "      <td>0.0</td>\n",
       "      <td>0.0</td>\n",
       "      <td>0.0</td>\n",
       "      <td>0.0</td>\n",
       "      <td>0.0</td>\n",
       "    </tr>\n",
       "    <tr>\n",
       "      <th>...</th>\n",
       "      <td>...</td>\n",
       "      <td>...</td>\n",
       "      <td>...</td>\n",
       "      <td>...</td>\n",
       "      <td>...</td>\n",
       "      <td>...</td>\n",
       "      <td>...</td>\n",
       "      <td>...</td>\n",
       "      <td>...</td>\n",
       "      <td>...</td>\n",
       "      <td>...</td>\n",
       "      <td>...</td>\n",
       "      <td>...</td>\n",
       "      <td>...</td>\n",
       "      <td>...</td>\n",
       "      <td>...</td>\n",
       "      <td>...</td>\n",
       "      <td>...</td>\n",
       "      <td>...</td>\n",
       "      <td>...</td>\n",
       "      <td>...</td>\n",
       "    </tr>\n",
       "    <tr>\n",
       "      <th>1077</th>\n",
       "      <td>0.0</td>\n",
       "      <td>0.0</td>\n",
       "      <td>0.0</td>\n",
       "      <td>0.0</td>\n",
       "      <td>0.0</td>\n",
       "      <td>0.0</td>\n",
       "      <td>0.0</td>\n",
       "      <td>0.0</td>\n",
       "      <td>0.0</td>\n",
       "      <td>0.0</td>\n",
       "      <td>...</td>\n",
       "      <td>0.0</td>\n",
       "      <td>0.0</td>\n",
       "      <td>0.0</td>\n",
       "      <td>0.0</td>\n",
       "      <td>0.0</td>\n",
       "      <td>0.0</td>\n",
       "      <td>0.0</td>\n",
       "      <td>0.0</td>\n",
       "      <td>0.0</td>\n",
       "      <td>0.0</td>\n",
       "    </tr>\n",
       "    <tr>\n",
       "      <th>1078</th>\n",
       "      <td>0.0</td>\n",
       "      <td>0.0</td>\n",
       "      <td>0.0</td>\n",
       "      <td>0.0</td>\n",
       "      <td>0.0</td>\n",
       "      <td>0.0</td>\n",
       "      <td>0.0</td>\n",
       "      <td>0.0</td>\n",
       "      <td>0.0</td>\n",
       "      <td>0.0</td>\n",
       "      <td>...</td>\n",
       "      <td>0.0</td>\n",
       "      <td>0.0</td>\n",
       "      <td>0.0</td>\n",
       "      <td>0.0</td>\n",
       "      <td>0.0</td>\n",
       "      <td>0.0</td>\n",
       "      <td>0.0</td>\n",
       "      <td>0.0</td>\n",
       "      <td>0.0</td>\n",
       "      <td>0.0</td>\n",
       "    </tr>\n",
       "    <tr>\n",
       "      <th>1079</th>\n",
       "      <td>0.0</td>\n",
       "      <td>0.0</td>\n",
       "      <td>0.0</td>\n",
       "      <td>0.0</td>\n",
       "      <td>0.0</td>\n",
       "      <td>0.0</td>\n",
       "      <td>0.0</td>\n",
       "      <td>0.0</td>\n",
       "      <td>0.0</td>\n",
       "      <td>0.0</td>\n",
       "      <td>...</td>\n",
       "      <td>0.0</td>\n",
       "      <td>0.0</td>\n",
       "      <td>0.0</td>\n",
       "      <td>0.0</td>\n",
       "      <td>0.0</td>\n",
       "      <td>0.0</td>\n",
       "      <td>0.0</td>\n",
       "      <td>0.0</td>\n",
       "      <td>0.0</td>\n",
       "      <td>0.0</td>\n",
       "    </tr>\n",
       "    <tr>\n",
       "      <th>1080</th>\n",
       "      <td>0.0</td>\n",
       "      <td>0.0</td>\n",
       "      <td>0.0</td>\n",
       "      <td>0.0</td>\n",
       "      <td>0.0</td>\n",
       "      <td>0.0</td>\n",
       "      <td>0.0</td>\n",
       "      <td>0.0</td>\n",
       "      <td>0.0</td>\n",
       "      <td>0.0</td>\n",
       "      <td>...</td>\n",
       "      <td>0.0</td>\n",
       "      <td>0.0</td>\n",
       "      <td>0.0</td>\n",
       "      <td>0.0</td>\n",
       "      <td>0.0</td>\n",
       "      <td>0.0</td>\n",
       "      <td>0.0</td>\n",
       "      <td>0.0</td>\n",
       "      <td>0.0</td>\n",
       "      <td>0.0</td>\n",
       "    </tr>\n",
       "    <tr>\n",
       "      <th>1081</th>\n",
       "      <td>0.0</td>\n",
       "      <td>0.0</td>\n",
       "      <td>0.0</td>\n",
       "      <td>0.0</td>\n",
       "      <td>0.0</td>\n",
       "      <td>0.0</td>\n",
       "      <td>0.0</td>\n",
       "      <td>0.0</td>\n",
       "      <td>0.0</td>\n",
       "      <td>0.0</td>\n",
       "      <td>...</td>\n",
       "      <td>0.0</td>\n",
       "      <td>0.0</td>\n",
       "      <td>0.0</td>\n",
       "      <td>0.0</td>\n",
       "      <td>0.0</td>\n",
       "      <td>0.0</td>\n",
       "      <td>0.0</td>\n",
       "      <td>0.0</td>\n",
       "      <td>0.0</td>\n",
       "      <td>0.0</td>\n",
       "    </tr>\n",
       "  </tbody>\n",
       "</table>\n",
       "<p>1082 rows × 3209 columns</p>\n",
       "</div>"
      ],
      "text/plain": [
       "      0121  0207  02073162414  020903  021   05   06  061104  07046744435  \\\n",
       "0      0.0   0.0          0.0     0.0  0.0  0.0  0.0     0.0          0.0   \n",
       "1      0.0   0.0          0.0     0.0  0.0  0.0  0.0     0.0          0.0   \n",
       "2      0.0   0.0          0.0     0.0  0.0  0.0  0.0     0.0          0.0   \n",
       "3      0.0   0.0          0.0     0.0  0.0  0.0  0.0     0.0          0.0   \n",
       "4      0.0   0.0          0.0     0.0  0.0  0.0  0.0     0.0          0.0   \n",
       "...    ...   ...          ...     ...  ...  ...  ...     ...          ...   \n",
       "1077   0.0   0.0          0.0     0.0  0.0  0.0  0.0     0.0          0.0   \n",
       "1078   0.0   0.0          0.0     0.0  0.0  0.0  0.0     0.0          0.0   \n",
       "1079   0.0   0.0          0.0     0.0  0.0  0.0  0.0     0.0          0.0   \n",
       "1080   0.0   0.0          0.0     0.0  0.0  0.0  0.0     0.0          0.0   \n",
       "1081   0.0   0.0          0.0     0.0  0.0  0.0  0.0     0.0          0.0   \n",
       "\n",
       "      07099833605  ...  youre  youve  yoville   yr  yummy  yuo  yup  zebra  \\\n",
       "0             0.0  ...    0.0    0.0      0.0  0.0    0.0  0.0  0.0    0.0   \n",
       "1             0.0  ...    0.0    0.0      0.0  0.0    0.0  0.0  0.0    0.0   \n",
       "2             0.0  ...    0.0    0.0      0.0  0.0    0.0  0.0  0.0    0.0   \n",
       "3             0.0  ...    0.0    0.0      0.0  0.0    0.0  0.0  0.0    0.0   \n",
       "4             0.0  ...    0.0    0.0      0.0  0.0    0.0  0.0  0.0    0.0   \n",
       "...           ...  ...    ...    ...      ...  ...    ...  ...  ...    ...   \n",
       "1077          0.0  ...    0.0    0.0      0.0  0.0    0.0  0.0  0.0    0.0   \n",
       "1078          0.0  ...    0.0    0.0      0.0  0.0    0.0  0.0  0.0    0.0   \n",
       "1079          0.0  ...    0.0    0.0      0.0  0.0    0.0  0.0  0.0    0.0   \n",
       "1080          0.0  ...    0.0    0.0      0.0  0.0    0.0  0.0  0.0    0.0   \n",
       "1081          0.0  ...    0.0    0.0      0.0  0.0    0.0  0.0  0.0    0.0   \n",
       "\n",
       "      zed  zero  \n",
       "0     0.0   0.0  \n",
       "1     0.0   0.0  \n",
       "2     0.0   0.0  \n",
       "3     0.0   0.0  \n",
       "4     0.0   0.0  \n",
       "...   ...   ...  \n",
       "1077  0.0   0.0  \n",
       "1078  0.0   0.0  \n",
       "1079  0.0   0.0  \n",
       "1080  0.0   0.0  \n",
       "1081  0.0   0.0  \n",
       "\n",
       "[1082 rows x 3209 columns]"
      ]
     },
     "execution_count": 626,
     "metadata": {},
     "output_type": "execute_result"
    }
   ],
   "source": [
    "\n",
    "df_bow_tfidf = pd.DataFrame(B.toarray(), columns=tfidf.get_feature_names_out())\n",
    "df_bow_tfidf"
   ]
  },
  {
   "cell_type": "code",
   "execution_count": 627,
   "metadata": {},
   "outputs": [],
   "source": [
    "# split the data\n",
    "X_train, X_test, y_train, y_test = train_test_split(df_bow_tfidf, y, test_size = 0.2, random_state = 42)"
   ]
  },
  {
   "cell_type": "markdown",
   "metadata": {},
   "source": [
    "#### 5.3.1. Testing Machine Learning Models"
   ]
  },
  {
   "cell_type": "code",
   "execution_count": 628,
   "metadata": {},
   "outputs": [
    {
     "name": "stdout",
     "output_type": "stream",
     "text": [
      "=== Logistic Regression ===\n",
      "Train score:  0.923699421965318\n",
      "Test score:  0.9032258064516129\n",
      "\n",
      "\n",
      "=== Support Vector Machines ===\n",
      "Train score:  1.0\n",
      "Test score:  0.9216589861751152\n",
      "\n",
      "\n",
      "=== Naive Bayes ===\n",
      "Train score:  0.9653179190751445\n",
      "Test score:  0.8986175115207373\n",
      "\n",
      "\n",
      "=== Decision Trees ===\n",
      "Train score:  1.0\n",
      "Test score:  0.9447004608294931\n"
     ]
    }
   ],
   "source": [
    "lr_tfid_model = LogisticRegression().fit(X_train, y_train)\n",
    "svm_tfidf_model = SVC(probability=True).fit(X_train, y_train)\n",
    "nb_tfidf_model = GaussianNB().fit(X_train, y_train)\n",
    "dt_tfidf_model = DecisionTreeClassifier().fit(X_train, y_train)\n",
    "\n",
    "# print the scores\n",
    "print('=== Logistic Regression ===')\n",
    "print('Train score: ', lr_tfid_model.score(X_train, y_train))\n",
    "print('Test score: ', lr_tfid_model.score(X_test, y_test))\n",
    "\n",
    "print('\\n')\n",
    "\n",
    "print('=== Support Vector Machines ===')\n",
    "print('Train score: ', svm_tfidf_model.score(X_train, y_train))\n",
    "print('Test score: ', svm_tfidf_model.score(X_test, y_test))\n",
    "\n",
    "print('\\n')\n",
    "\n",
    "print('=== Naive Bayes ===')\n",
    "print('Train score: ', nb_tfidf_model.score(X_train, y_train))\n",
    "print('Test score: ', nb_tfidf_model.score(X_test, y_test))\n",
    "\n",
    "print('\\n')\n",
    "\n",
    "print('=== Decision Trees ===')\n",
    "print('Train score: ', dt_tfidf_model.score(X_train, y_train))\n",
    "print('Test score: ', dt_tfidf_model.score(X_test, y_test))"
   ]
  },
  {
   "cell_type": "markdown",
   "metadata": {},
   "source": [
    "##### Observations\n",
    "- There is overfitting of the data\n",
    "    - Although the Logistic Regression Model is doing better"
   ]
  },
  {
   "cell_type": "code",
   "execution_count": 629,
   "metadata": {},
   "outputs": [],
   "source": [
    "# get predictions for each model\n",
    "lr_predict = lr_tfid_model.predict(X_test)\n",
    "svm_predict = svm_tfidf_model.predict(X_test)\n",
    "nb_predict = nb_tfidf_model.predict(X_test)\n",
    "dt_predict = dt_tfidf_model.predict(X_test)\n",
    "\n",
    "\n",
    "# get probability for each model\n",
    "lr_proba = lr_tfid_model.predict_proba(X_test)[:, 1]\n",
    "svm_proba = svm_tfidf_model.predict_proba(X_test)[:, 1]\n",
    "nb_proba = nb_tfidf_model.predict_proba(X_test)[:, 1]\n",
    "dt_proba = dt_tfidf_model.predict_proba(X_test)[:, 1]\n",
    "\n",
    "# calculate fpr and tpr for each model\n",
    "fpr_lr, tpr_lr, _ = metrics.roc_curve(y_test, lr_proba)\n",
    "fpr_svm, tpr_svm, _ = metrics.roc_curve(y_test, svm_proba)\n",
    "fpr_nb, tpr_nb, _ = metrics.roc_curve(y_test, nb_proba)\n",
    "fpr_dt, tpr_dt, _ = metrics.roc_curve(y_test, dt_proba)\n",
    "\n",
    "# calculate roc curve for each model\n",
    "roc_auc_lr = metrics.auc(fpr_lr, tpr_lr)\n",
    "roc_auc_svm = metrics.auc(fpr_svm, tpr_svm)\n",
    "roc_auc_nb = metrics.auc(fpr_nb, tpr_nb)\n",
    "roc_auc_dt = metrics.auc(fpr_dt, tpr_dt)"
   ]
  },
  {
   "cell_type": "code",
   "execution_count": 630,
   "metadata": {},
   "outputs": [
    {
     "data": {
      "image/png": "[encoded data removed]",
      "text/plain": [
       "<Figure size 576x576 with 1 Axes>"
      ]
     },
     "metadata": {
      "needs_background": "light"
     },
     "output_type": "display_data"
    }
   ],
   "source": [
    "# set figure size\n",
    "plt.figure(figsize=[8,8])\n",
    "\n",
    "# plot each of the models\n",
    "plt.plot(fpr_lr, tpr_lr, color='cyan', lw = 2, label = 'ROC LR curve (area = %0.2f)' % roc_auc_lr)\n",
    "plt.plot(fpr_svm, tpr_svm, color='r', lw = 2, label = 'ROC SVM curve (area = %0.3f)' % roc_auc_svm)\n",
    "plt.plot(fpr_nb, tpr_nb, color='g', lw = 2, label = 'ROC NB curve (area = %0.2f)' % roc_auc_nb)\n",
    "plt.plot(fpr_nb, tpr_nb, color='purple', lw = 2, label = 'ROC DT curve (area = %0.2f)' % roc_auc_dt)\n",
    "\n",
    "plt.plot([0, 1], [0, 1], color = 'navy', lw = 2, linestyle = '--')\n",
    "plt.xlim([-0.05, 1.0])\n",
    "plt.ylim([-0.05, 1.05])\n",
    "plt.xlabel('False Positive Rate', fontsize=18)\n",
    "plt.ylabel('True Positive Rate', fontsize=18)\n",
    "plt.title('Receiver Operating Characteristic', fontsize=18)\n",
    "plt.legend(loc=\"lower right\")\n",
    "plt.show()"
   ]
  },
  {
   "cell_type": "code",
   "execution_count": 631,
   "metadata": {},
   "outputs": [
    {
     "name": "stdout",
     "output_type": "stream",
     "text": [
      "\n",
      "\n",
      "\n",
      "========== LOGISTIC REGRESSION ==========\n",
      "\n",
      "\n",
      "Accuracy : 0.9032 [TP / N] Proportion of predicted labels that match the true labels. Best: 1, Worst: 0\n",
      "Precision: 1.0000 [TP / (TP + FP)] Not to label a negative sample as positive.        Best: 1, Worst: 0\n",
      "Recall   : 0.4167 [TP / (TP + FN)] Find all the positive samples.                     Best: 1, Worst: 0\n",
      "ROC AUC  : 0.9948                                                                     Best: 1, Worst: < 0.5\n",
      "-----------------------------------------------------------------------------------------------------------\n",
      "TP: True Positives, FP: False Positives, TN: True Negatives, FN: False Negatives, N: Number of samples\n"
     ]
    },
    {
     "data": {
      "image/png": "[encoded data removed]",
      "text/plain": [
       "<Figure size 1296x432 with 3 Axes>"
      ]
     },
     "metadata": {
      "needs_background": "light"
     },
     "output_type": "display_data"
    },
    {
     "name": "stdout",
     "output_type": "stream",
     "text": [
      "\n",
      "\n",
      "\n",
      "==========SUPPORT VECTOR MACHINES ==========\n",
      "\n",
      "\n",
      "Accuracy : 0.9217 [TP / N] Proportion of predicted labels that match the true labels. Best: 1, Worst: 0\n",
      "Precision: 1.0000 [TP / (TP + FP)] Not to label a negative sample as positive.        Best: 1, Worst: 0\n",
      "Recall   : 0.5278 [TP / (TP + FN)] Find all the positive samples.                     Best: 1, Worst: 0\n",
      "ROC AUC  : 0.9945                                                                     Best: 1, Worst: < 0.5\n",
      "-----------------------------------------------------------------------------------------------------------\n",
      "TP: True Positives, FP: False Positives, TN: True Negatives, FN: False Negatives, N: Number of samples\n"
     ]
    },
    {
     "data": {
      "image/png": "[encoded data removed]",
      "text/plain": [
       "<Figure size 1296x432 with 3 Axes>"
      ]
     },
     "metadata": {
      "needs_background": "light"
     },
     "output_type": "display_data"
    },
    {
     "name": "stdout",
     "output_type": "stream",
     "text": [
      "\n",
      "\n",
      "\n",
      "========== NAIVE BAYES ==========\n",
      "\n",
      "\n",
      "Accuracy : 0.8986 [TP / N] Proportion of predicted labels that match the true labels. Best: 1, Worst: 0\n",
      "Precision: 0.6346 [TP / (TP + FP)] Not to label a negative sample as positive.        Best: 1, Worst: 0\n",
      "Recall   : 0.9167 [TP / (TP + FN)] Find all the positive samples.                     Best: 1, Worst: 0\n",
      "ROC AUC  : 0.9058                                                                     Best: 1, Worst: < 0.5\n",
      "-----------------------------------------------------------------------------------------------------------\n",
      "TP: True Positives, FP: False Positives, TN: True Negatives, FN: False Negatives, N: Number of samples\n"
     ]
    },
    {
     "data": {
      "image/png": "[encoded data removed]",
      "text/plain": [
       "<Figure size 1296x432 with 3 Axes>"
      ]
     },
     "metadata": {
      "needs_background": "light"
     },
     "output_type": "display_data"
    },
    {
     "name": "stdout",
     "output_type": "stream",
     "text": [
      "\n",
      "\n",
      "\n",
      "========== DECISION TREES ==========\n",
      "\n",
      "\n",
      "Accuracy : 0.9447 [TP / N] Proportion of predicted labels that match the true labels. Best: 1, Worst: 0\n",
      "Precision: 0.8333 [TP / (TP + FP)] Not to label a negative sample as positive.        Best: 1, Worst: 0\n",
      "Recall   : 0.8333 [TP / (TP + FN)] Find all the positive samples.                     Best: 1, Worst: 0\n",
      "ROC AUC  : 0.9001                                                                     Best: 1, Worst: < 0.5\n",
      "-----------------------------------------------------------------------------------------------------------\n",
      "TP: True Positives, FP: False Positives, TN: True Negatives, FN: False Negatives, N: Number of samples\n"
     ]
    },
    {
     "data": {
      "image/png": "[encoded data removed]",
      "text/plain": [
       "<Figure size 1296x432 with 3 Axes>"
      ]
     },
     "metadata": {
      "needs_background": "light"
     },
     "output_type": "display_data"
    },
    {
     "data": {
      "text/plain": [
       "(0.9447004608294931,\n",
       " 0.8333333333333334,\n",
       " 0.8333333333333334,\n",
       " 0.9000920810313077)"
      ]
     },
     "execution_count": 631,
     "metadata": {},
     "output_type": "execute_result"
    }
   ],
   "source": [
    "# summary reports of each of the models\n",
    "print('\\n\\n')\n",
    "print('========== LOGISTIC REGRESSION ==========')\n",
    "print('\\n')\n",
    "show_summary_report(y_test, lr_predict, lr_proba)\n",
    "\n",
    "print('\\n\\n')\n",
    "\n",
    "print('==========SUPPORT VECTOR MACHINES ==========')\n",
    "print('\\n')\n",
    "show_summary_report(y_test, svm_predict, svm_proba)\n",
    "\n",
    "print('\\n\\n')\n",
    "\n",
    "print('========== NAIVE BAYES ==========')\n",
    "print('\\n')\n",
    "show_summary_report(y_test, nb_predict, nb_proba)\n",
    "\n",
    "\n",
    "print('\\n\\n')\n",
    "\n",
    "print('========== DECISION TREES ==========')\n",
    "print('\\n')\n",
    "show_summary_report(y_test, dt_predict, dt_proba)"
   ]
  },
  {
   "cell_type": "markdown",
   "metadata": {},
   "source": [
    "##### Observations\n",
    "- There is a low recall rate\n",
    "    - Suggested that the dataset may be imbalanced\n",
    "- Spam detection prefers high precision as we don't want to misclassify important messages that are non-spam"
   ]
  },
  {
   "cell_type": "markdown",
   "metadata": {},
   "source": [
    "### 5.4. Balancing the Dataset and Re-evaluating"
   ]
  },
  {
   "cell_type": "markdown",
   "metadata": {},
   "source": [
    "#### 5.4.1. Resampling the dataset"
   ]
  },
  {
   "cell_type": "code",
   "execution_count": 632,
   "metadata": {},
   "outputs": [
    {
     "data": {
      "text/plain": [
       "0    884\n",
       "1    198\n",
       "Name: Label, dtype: int64"
      ]
     },
     "execution_count": 632,
     "metadata": {},
     "output_type": "execute_result"
    }
   ],
   "source": [
    "df['Label'].value_counts()"
   ]
  },
  {
   "cell_type": "markdown",
   "metadata": {},
   "source": [
    "##### Observations\n",
    "- Confirms our findings - dataset was imbalanced"
   ]
  },
  {
   "cell_type": "code",
   "execution_count": 633,
   "metadata": {},
   "outputs": [],
   "source": [
    "df_minority = df[df['Label'] == 1]"
   ]
  },
  {
   "cell_type": "code",
   "execution_count": 634,
   "metadata": {},
   "outputs": [
    {
     "data": {
      "text/html": [
       "<div>\n",
       "<style scoped>\n",
       "    .dataframe tbody tr th:only-of-type {\n",
       "        vertical-align: middle;\n",
       "    }\n",
       "\n",
       "    .dataframe tbody tr th {\n",
       "        vertical-align: top;\n",
       "    }\n",
       "\n",
       "    .dataframe thead th {\n",
       "        text-align: right;\n",
       "    }\n",
       "</style>\n",
       "<table border=\"1\" class=\"dataframe\">\n",
       "  <thead>\n",
       "    <tr style=\"text-align: right;\">\n",
       "      <th></th>\n",
       "      <th>Message_body</th>\n",
       "      <th>Label</th>\n",
       "      <th>text_lemmatized</th>\n",
       "    </tr>\n",
       "  </thead>\n",
       "  <tbody>\n",
       "    <tr>\n",
       "      <th>4</th>\n",
       "      <td>this is the 2nd time we have tried 2 contact u...</td>\n",
       "      <td>1</td>\n",
       "      <td>2nd time tried 2 contact u u 750 pound prize 2...</td>\n",
       "    </tr>\n",
       "    <tr>\n",
       "      <th>5</th>\n",
       "      <td>reminder from o2 to get 2 50 pounds free call ...</td>\n",
       "      <td>1</td>\n",
       "      <td>reminder o2 get 2 50 pound free call credit de...</td>\n",
       "    </tr>\n",
       "    <tr>\n",
       "      <th>30</th>\n",
       "      <td>asked 3mobile if 0870 chatlines inclu in free ...</td>\n",
       "      <td>1</td>\n",
       "      <td>asked 3mobile 0870 chatlines inclu free min in...</td>\n",
       "    </tr>\n",
       "    <tr>\n",
       "      <th>33</th>\n",
       "      <td>want explicit sex in 30 secs ring 02073162414 ...</td>\n",
       "      <td>1</td>\n",
       "      <td>want explicit sex 30 sec ring 02073162414 cost...</td>\n",
       "    </tr>\n",
       "    <tr>\n",
       "      <th>44</th>\n",
       "      <td>private your 2003 account statement for shows ...</td>\n",
       "      <td>1</td>\n",
       "      <td>private 2003 account statement show 800 un-red...</td>\n",
       "    </tr>\n",
       "    <tr>\n",
       "      <th>...</th>\n",
       "      <td>...</td>\n",
       "      <td>...</td>\n",
       "      <td>...</td>\n",
       "    </tr>\n",
       "    <tr>\n",
       "      <th>97</th>\n",
       "      <td>urgent call 09066350750 from your landline you...</td>\n",
       "      <td>1</td>\n",
       "      <td>urgent call 09066350750 landline complimentary...</td>\n",
       "    </tr>\n",
       "    <tr>\n",
       "      <th>98</th>\n",
       "      <td>had your contract mobile 11 mnths latest motor...</td>\n",
       "      <td>1</td>\n",
       "      <td>contract mobile 11 mnths latest motorola nokia...</td>\n",
       "    </tr>\n",
       "    <tr>\n",
       "      <th>99</th>\n",
       "      <td>congratulations ur awarded 500 of cd vouchers ...</td>\n",
       "      <td>1</td>\n",
       "      <td>congratulation ur awarded 500 cd voucher 125gi...</td>\n",
       "    </tr>\n",
       "    <tr>\n",
       "      <th>102</th>\n",
       "      <td>urgent this is the 2nd attempt to contact uu h...</td>\n",
       "      <td>1</td>\n",
       "      <td>urgent 2nd attempt contact uu 1000call 0907151...</td>\n",
       "    </tr>\n",
       "    <tr>\n",
       "      <th>105</th>\n",
       "      <td>wanna have a laugh try chit-chat on your mobil...</td>\n",
       "      <td>1</td>\n",
       "      <td>wanna laugh try chit-chat mobile logon txting ...</td>\n",
       "    </tr>\n",
       "  </tbody>\n",
       "</table>\n",
       "<p>198 rows × 3 columns</p>\n",
       "</div>"
      ],
      "text/plain": [
       "                                          Message_body  Label  \\\n",
       "4    this is the 2nd time we have tried 2 contact u...      1   \n",
       "5    reminder from o2 to get 2 50 pounds free call ...      1   \n",
       "30   asked 3mobile if 0870 chatlines inclu in free ...      1   \n",
       "33   want explicit sex in 30 secs ring 02073162414 ...      1   \n",
       "44   private your 2003 account statement for shows ...      1   \n",
       "..                                                 ...    ...   \n",
       "97   urgent call 09066350750 from your landline you...      1   \n",
       "98   had your contract mobile 11 mnths latest motor...      1   \n",
       "99   congratulations ur awarded 500 of cd vouchers ...      1   \n",
       "102  urgent this is the 2nd attempt to contact uu h...      1   \n",
       "105  wanna have a laugh try chit-chat on your mobil...      1   \n",
       "\n",
       "                                       text_lemmatized  \n",
       "4    2nd time tried 2 contact u u 750 pound prize 2...  \n",
       "5    reminder o2 get 2 50 pound free call credit de...  \n",
       "30   asked 3mobile 0870 chatlines inclu free min in...  \n",
       "33   want explicit sex 30 sec ring 02073162414 cost...  \n",
       "44   private 2003 account statement show 800 un-red...  \n",
       "..                                                 ...  \n",
       "97   urgent call 09066350750 landline complimentary...  \n",
       "98   contract mobile 11 mnths latest motorola nokia...  \n",
       "99   congratulation ur awarded 500 cd voucher 125gi...  \n",
       "102  urgent 2nd attempt contact uu 1000call 0907151...  \n",
       "105  wanna laugh try chit-chat mobile logon txting ...  \n",
       "\n",
       "[198 rows x 3 columns]"
      ]
     },
     "execution_count": 634,
     "metadata": {},
     "output_type": "execute_result"
    }
   ],
   "source": [
    "df_minority"
   ]
  },
  {
   "cell_type": "code",
   "execution_count": 635,
   "metadata": {},
   "outputs": [],
   "source": [
    "#create two different dataframe of majority and minority class \n",
    "df_majority = df[(df['Label']==0)] \n",
    "df_minority = df[(df['Label']==1)]"
   ]
  },
  {
   "cell_type": "code",
   "execution_count": 636,
   "metadata": {},
   "outputs": [],
   "source": [
    "df_minority_upsampled = resample(df_minority, \n",
    "                                replace=True,    # sample with replacement\n",
    "                                n_samples= 884, # to match majority class\n",
    "                                random_state=42)  # reproducible results"
   ]
  },
  {
   "cell_type": "code",
   "execution_count": 637,
   "metadata": {},
   "outputs": [
    {
     "data": {
      "text/html": [
       "<div>\n",
       "<style scoped>\n",
       "    .dataframe tbody tr th:only-of-type {\n",
       "        vertical-align: middle;\n",
       "    }\n",
       "\n",
       "    .dataframe tbody tr th {\n",
       "        vertical-align: top;\n",
       "    }\n",
       "\n",
       "    .dataframe thead th {\n",
       "        text-align: right;\n",
       "    }\n",
       "</style>\n",
       "<table border=\"1\" class=\"dataframe\">\n",
       "  <thead>\n",
       "    <tr style=\"text-align: right;\">\n",
       "      <th></th>\n",
       "      <th>Message_body</th>\n",
       "      <th>Label</th>\n",
       "      <th>text_lemmatized</th>\n",
       "    </tr>\n",
       "  </thead>\n",
       "  <tbody>\n",
       "    <tr>\n",
       "      <th>799</th>\n",
       "      <td>your unique user id is 1172 for removal send s...</td>\n",
       "      <td>1</td>\n",
       "      <td>unique user id 1172 removal send stop 87239 cu...</td>\n",
       "    </tr>\n",
       "    <tr>\n",
       "      <th>57</th>\n",
       "      <td>thanks for your subscription to ringtone uk yo...</td>\n",
       "      <td>1</td>\n",
       "      <td>thanks subscription ringtone uk mobile charged...</td>\n",
       "    </tr>\n",
       "    <tr>\n",
       "      <th>704</th>\n",
       "      <td>free messagethanks for using the auction subsc...</td>\n",
       "      <td>1</td>\n",
       "      <td>free messagethanks using auction subscription ...</td>\n",
       "    </tr>\n",
       "    <tr>\n",
       "      <th>108</th>\n",
       "      <td>txt call to no 86888 claim your reward of 3 ho...</td>\n",
       "      <td>1</td>\n",
       "      <td>txt call 86888 claim reward 3 hour talk time u...</td>\n",
       "    </tr>\n",
       "    <tr>\n",
       "      <th>815</th>\n",
       "      <td>your weekly cool-mob tones are ready to downlo...</td>\n",
       "      <td>1</td>\n",
       "      <td>weekly cool-mob tone ready download week new t...</td>\n",
       "    </tr>\n",
       "    <tr>\n",
       "      <th>...</th>\n",
       "      <td>...</td>\n",
       "      <td>...</td>\n",
       "      <td>...</td>\n",
       "    </tr>\n",
       "    <tr>\n",
       "      <th>540</th>\n",
       "      <td>ur cash-balance is currently 500 pounds - to m...</td>\n",
       "      <td>1</td>\n",
       "      <td>ur cash-balance currently 500 pound - maximize...</td>\n",
       "    </tr>\n",
       "    <tr>\n",
       "      <th>300</th>\n",
       "      <td>if you dont your prize will go to another cust...</td>\n",
       "      <td>1</td>\n",
       "      <td>dont prize go another customer tc www t-c biz ...</td>\n",
       "    </tr>\n",
       "    <tr>\n",
       "      <th>46</th>\n",
       "      <td>you are awarded a sipix digital camera call 09...</td>\n",
       "      <td>1</td>\n",
       "      <td>awarded sipix digital camera call 09061221061 ...</td>\n",
       "    </tr>\n",
       "    <tr>\n",
       "      <th>456</th>\n",
       "      <td>december only had your mobile 11mths you are e...</td>\n",
       "      <td>1</td>\n",
       "      <td>december mobile 11mths entitled update latest ...</td>\n",
       "    </tr>\n",
       "    <tr>\n",
       "      <th>97</th>\n",
       "      <td>urgent call 09066350750 from your landline you...</td>\n",
       "      <td>1</td>\n",
       "      <td>urgent call 09066350750 landline complimentary...</td>\n",
       "    </tr>\n",
       "  </tbody>\n",
       "</table>\n",
       "<p>884 rows × 3 columns</p>\n",
       "</div>"
      ],
      "text/plain": [
       "                                          Message_body  Label  \\\n",
       "799  your unique user id is 1172 for removal send s...      1   \n",
       "57   thanks for your subscription to ringtone uk yo...      1   \n",
       "704  free messagethanks for using the auction subsc...      1   \n",
       "108  txt call to no 86888 claim your reward of 3 ho...      1   \n",
       "815  your weekly cool-mob tones are ready to downlo...      1   \n",
       "..                                                 ...    ...   \n",
       "540  ur cash-balance is currently 500 pounds - to m...      1   \n",
       "300  if you dont your prize will go to another cust...      1   \n",
       "46   you are awarded a sipix digital camera call 09...      1   \n",
       "456  december only had your mobile 11mths you are e...      1   \n",
       "97   urgent call 09066350750 from your landline you...      1   \n",
       "\n",
       "                                       text_lemmatized  \n",
       "799  unique user id 1172 removal send stop 87239 cu...  \n",
       "57   thanks subscription ringtone uk mobile charged...  \n",
       "704  free messagethanks using auction subscription ...  \n",
       "108  txt call 86888 claim reward 3 hour talk time u...  \n",
       "815  weekly cool-mob tone ready download week new t...  \n",
       "..                                                 ...  \n",
       "540  ur cash-balance currently 500 pound - maximize...  \n",
       "300  dont prize go another customer tc www t-c biz ...  \n",
       "46   awarded sipix digital camera call 09061221061 ...  \n",
       "456  december mobile 11mths entitled update latest ...  \n",
       "97   urgent call 09066350750 landline complimentary...  \n",
       "\n",
       "[884 rows x 3 columns]"
      ]
     },
     "execution_count": 637,
     "metadata": {},
     "output_type": "execute_result"
    }
   ],
   "source": [
    "df_minority_upsampled"
   ]
  },
  {
   "cell_type": "code",
   "execution_count": 638,
   "metadata": {},
   "outputs": [],
   "source": [
    "df_upsampled = pd.concat([df_minority_upsampled, df_majority])"
   ]
  },
  {
   "cell_type": "code",
   "execution_count": 639,
   "metadata": {},
   "outputs": [
    {
     "data": {
      "text/plain": [
       "1    884\n",
       "0    884\n",
       "Name: Label, dtype: int64"
      ]
     },
     "execution_count": 639,
     "metadata": {},
     "output_type": "execute_result"
    }
   ],
   "source": [
    "df_upsampled['Label'].value_counts()"
   ]
  },
  {
   "cell_type": "code",
   "execution_count": 640,
   "metadata": {},
   "outputs": [
    {
     "data": {
      "text/plain": [
       "<1768x3199 sparse matrix of type '<class 'numpy.float64'>'\n",
       "\twith 18552 stored elements in Compressed Sparse Row format>"
      ]
     },
     "execution_count": 640,
     "metadata": {},
     "output_type": "execute_result"
    }
   ],
   "source": [
    "# init TfidfVectorizer()\n",
    "tfidf_upsampled = TfidfVectorizer(stop_words='english')\n",
    "\n",
    "# fit and transform the model\n",
    "C = tfidf_upsampled.fit_transform(df_upsampled['text_lemmatized'], df_upsampled['Label'])\n",
    "C"
   ]
  },
  {
   "cell_type": "code",
   "execution_count": 650,
   "metadata": {},
   "outputs": [
    {
     "data": {
      "text/html": [
       "<div>\n",
       "<style scoped>\n",
       "    .dataframe tbody tr th:only-of-type {\n",
       "        vertical-align: middle;\n",
       "    }\n",
       "\n",
       "    .dataframe tbody tr th {\n",
       "        vertical-align: top;\n",
       "    }\n",
       "\n",
       "    .dataframe thead th {\n",
       "        text-align: right;\n",
       "    }\n",
       "</style>\n",
       "<table border=\"1\" class=\"dataframe\">\n",
       "  <thead>\n",
       "    <tr style=\"text-align: right;\">\n",
       "      <th></th>\n",
       "      <th>0121</th>\n",
       "      <th>0207</th>\n",
       "      <th>02073162414</th>\n",
       "      <th>020903</th>\n",
       "      <th>021</th>\n",
       "      <th>05</th>\n",
       "      <th>06</th>\n",
       "      <th>061104</th>\n",
       "      <th>07046744435</th>\n",
       "      <th>07099833605</th>\n",
       "      <th>...</th>\n",
       "      <th>youre</th>\n",
       "      <th>youve</th>\n",
       "      <th>yoville</th>\n",
       "      <th>yr</th>\n",
       "      <th>yummy</th>\n",
       "      <th>yuo</th>\n",
       "      <th>yup</th>\n",
       "      <th>zebra</th>\n",
       "      <th>zed</th>\n",
       "      <th>zero</th>\n",
       "    </tr>\n",
       "  </thead>\n",
       "  <tbody>\n",
       "    <tr>\n",
       "      <th>0</th>\n",
       "      <td>0.0</td>\n",
       "      <td>0.0</td>\n",
       "      <td>0.0</td>\n",
       "      <td>0.0</td>\n",
       "      <td>0.0</td>\n",
       "      <td>0.0</td>\n",
       "      <td>0.0</td>\n",
       "      <td>0.0</td>\n",
       "      <td>0.0</td>\n",
       "      <td>0.0</td>\n",
       "      <td>...</td>\n",
       "      <td>0.0</td>\n",
       "      <td>0.0</td>\n",
       "      <td>0.0</td>\n",
       "      <td>0.0</td>\n",
       "      <td>0.0</td>\n",
       "      <td>0.0</td>\n",
       "      <td>0.0</td>\n",
       "      <td>0.0</td>\n",
       "      <td>0.0</td>\n",
       "      <td>0.0</td>\n",
       "    </tr>\n",
       "    <tr>\n",
       "      <th>1</th>\n",
       "      <td>0.0</td>\n",
       "      <td>0.0</td>\n",
       "      <td>0.0</td>\n",
       "      <td>0.0</td>\n",
       "      <td>0.0</td>\n",
       "      <td>0.0</td>\n",
       "      <td>0.0</td>\n",
       "      <td>0.0</td>\n",
       "      <td>0.0</td>\n",
       "      <td>0.0</td>\n",
       "      <td>...</td>\n",
       "      <td>0.0</td>\n",
       "      <td>0.0</td>\n",
       "      <td>0.0</td>\n",
       "      <td>0.0</td>\n",
       "      <td>0.0</td>\n",
       "      <td>0.0</td>\n",
       "      <td>0.0</td>\n",
       "      <td>0.0</td>\n",
       "      <td>0.0</td>\n",
       "      <td>0.0</td>\n",
       "    </tr>\n",
       "    <tr>\n",
       "      <th>2</th>\n",
       "      <td>0.0</td>\n",
       "      <td>0.0</td>\n",
       "      <td>0.0</td>\n",
       "      <td>0.0</td>\n",
       "      <td>0.0</td>\n",
       "      <td>0.0</td>\n",
       "      <td>0.0</td>\n",
       "      <td>0.0</td>\n",
       "      <td>0.0</td>\n",
       "      <td>0.0</td>\n",
       "      <td>...</td>\n",
       "      <td>0.0</td>\n",
       "      <td>0.0</td>\n",
       "      <td>0.0</td>\n",
       "      <td>0.0</td>\n",
       "      <td>0.0</td>\n",
       "      <td>0.0</td>\n",
       "      <td>0.0</td>\n",
       "      <td>0.0</td>\n",
       "      <td>0.0</td>\n",
       "      <td>0.0</td>\n",
       "    </tr>\n",
       "    <tr>\n",
       "      <th>3</th>\n",
       "      <td>0.0</td>\n",
       "      <td>0.0</td>\n",
       "      <td>0.0</td>\n",
       "      <td>0.0</td>\n",
       "      <td>0.0</td>\n",
       "      <td>0.0</td>\n",
       "      <td>0.0</td>\n",
       "      <td>0.0</td>\n",
       "      <td>0.0</td>\n",
       "      <td>0.0</td>\n",
       "      <td>...</td>\n",
       "      <td>0.0</td>\n",
       "      <td>0.0</td>\n",
       "      <td>0.0</td>\n",
       "      <td>0.0</td>\n",
       "      <td>0.0</td>\n",
       "      <td>0.0</td>\n",
       "      <td>0.0</td>\n",
       "      <td>0.0</td>\n",
       "      <td>0.0</td>\n",
       "      <td>0.0</td>\n",
       "    </tr>\n",
       "    <tr>\n",
       "      <th>4</th>\n",
       "      <td>0.0</td>\n",
       "      <td>0.0</td>\n",
       "      <td>0.0</td>\n",
       "      <td>0.0</td>\n",
       "      <td>0.0</td>\n",
       "      <td>0.0</td>\n",
       "      <td>0.0</td>\n",
       "      <td>0.0</td>\n",
       "      <td>0.0</td>\n",
       "      <td>0.0</td>\n",
       "      <td>...</td>\n",
       "      <td>0.0</td>\n",
       "      <td>0.0</td>\n",
       "      <td>0.0</td>\n",
       "      <td>0.0</td>\n",
       "      <td>0.0</td>\n",
       "      <td>0.0</td>\n",
       "      <td>0.0</td>\n",
       "      <td>0.0</td>\n",
       "      <td>0.0</td>\n",
       "      <td>0.0</td>\n",
       "    </tr>\n",
       "    <tr>\n",
       "      <th>...</th>\n",
       "      <td>...</td>\n",
       "      <td>...</td>\n",
       "      <td>...</td>\n",
       "      <td>...</td>\n",
       "      <td>...</td>\n",
       "      <td>...</td>\n",
       "      <td>...</td>\n",
       "      <td>...</td>\n",
       "      <td>...</td>\n",
       "      <td>...</td>\n",
       "      <td>...</td>\n",
       "      <td>...</td>\n",
       "      <td>...</td>\n",
       "      <td>...</td>\n",
       "      <td>...</td>\n",
       "      <td>...</td>\n",
       "      <td>...</td>\n",
       "      <td>...</td>\n",
       "      <td>...</td>\n",
       "      <td>...</td>\n",
       "      <td>...</td>\n",
       "    </tr>\n",
       "    <tr>\n",
       "      <th>1763</th>\n",
       "      <td>0.0</td>\n",
       "      <td>0.0</td>\n",
       "      <td>0.0</td>\n",
       "      <td>0.0</td>\n",
       "      <td>0.0</td>\n",
       "      <td>0.0</td>\n",
       "      <td>0.0</td>\n",
       "      <td>0.0</td>\n",
       "      <td>0.0</td>\n",
       "      <td>0.0</td>\n",
       "      <td>...</td>\n",
       "      <td>0.0</td>\n",
       "      <td>0.0</td>\n",
       "      <td>0.0</td>\n",
       "      <td>0.0</td>\n",
       "      <td>0.0</td>\n",
       "      <td>0.0</td>\n",
       "      <td>0.0</td>\n",
       "      <td>0.0</td>\n",
       "      <td>0.0</td>\n",
       "      <td>0.0</td>\n",
       "    </tr>\n",
       "    <tr>\n",
       "      <th>1764</th>\n",
       "      <td>0.0</td>\n",
       "      <td>0.0</td>\n",
       "      <td>0.0</td>\n",
       "      <td>0.0</td>\n",
       "      <td>0.0</td>\n",
       "      <td>0.0</td>\n",
       "      <td>0.0</td>\n",
       "      <td>0.0</td>\n",
       "      <td>0.0</td>\n",
       "      <td>0.0</td>\n",
       "      <td>...</td>\n",
       "      <td>0.0</td>\n",
       "      <td>0.0</td>\n",
       "      <td>0.0</td>\n",
       "      <td>0.0</td>\n",
       "      <td>0.0</td>\n",
       "      <td>0.0</td>\n",
       "      <td>0.0</td>\n",
       "      <td>0.0</td>\n",
       "      <td>0.0</td>\n",
       "      <td>0.0</td>\n",
       "    </tr>\n",
       "    <tr>\n",
       "      <th>1765</th>\n",
       "      <td>0.0</td>\n",
       "      <td>0.0</td>\n",
       "      <td>0.0</td>\n",
       "      <td>0.0</td>\n",
       "      <td>0.0</td>\n",
       "      <td>0.0</td>\n",
       "      <td>0.0</td>\n",
       "      <td>0.0</td>\n",
       "      <td>0.0</td>\n",
       "      <td>0.0</td>\n",
       "      <td>...</td>\n",
       "      <td>0.0</td>\n",
       "      <td>0.0</td>\n",
       "      <td>0.0</td>\n",
       "      <td>0.0</td>\n",
       "      <td>0.0</td>\n",
       "      <td>0.0</td>\n",
       "      <td>0.0</td>\n",
       "      <td>0.0</td>\n",
       "      <td>0.0</td>\n",
       "      <td>0.0</td>\n",
       "    </tr>\n",
       "    <tr>\n",
       "      <th>1766</th>\n",
       "      <td>0.0</td>\n",
       "      <td>0.0</td>\n",
       "      <td>0.0</td>\n",
       "      <td>0.0</td>\n",
       "      <td>0.0</td>\n",
       "      <td>0.0</td>\n",
       "      <td>0.0</td>\n",
       "      <td>0.0</td>\n",
       "      <td>0.0</td>\n",
       "      <td>0.0</td>\n",
       "      <td>...</td>\n",
       "      <td>0.0</td>\n",
       "      <td>0.0</td>\n",
       "      <td>0.0</td>\n",
       "      <td>0.0</td>\n",
       "      <td>0.0</td>\n",
       "      <td>0.0</td>\n",
       "      <td>0.0</td>\n",
       "      <td>0.0</td>\n",
       "      <td>0.0</td>\n",
       "      <td>0.0</td>\n",
       "    </tr>\n",
       "    <tr>\n",
       "      <th>1767</th>\n",
       "      <td>0.0</td>\n",
       "      <td>0.0</td>\n",
       "      <td>0.0</td>\n",
       "      <td>0.0</td>\n",
       "      <td>0.0</td>\n",
       "      <td>0.0</td>\n",
       "      <td>0.0</td>\n",
       "      <td>0.0</td>\n",
       "      <td>0.0</td>\n",
       "      <td>0.0</td>\n",
       "      <td>...</td>\n",
       "      <td>0.0</td>\n",
       "      <td>0.0</td>\n",
       "      <td>0.0</td>\n",
       "      <td>0.0</td>\n",
       "      <td>0.0</td>\n",
       "      <td>0.0</td>\n",
       "      <td>0.0</td>\n",
       "      <td>0.0</td>\n",
       "      <td>0.0</td>\n",
       "      <td>0.0</td>\n",
       "    </tr>\n",
       "  </tbody>\n",
       "</table>\n",
       "<p>1768 rows × 3199 columns</p>\n",
       "</div>"
      ],
      "text/plain": [
       "      0121  0207  02073162414  020903  021   05   06  061104  07046744435  \\\n",
       "0      0.0   0.0          0.0     0.0  0.0  0.0  0.0     0.0          0.0   \n",
       "1      0.0   0.0          0.0     0.0  0.0  0.0  0.0     0.0          0.0   \n",
       "2      0.0   0.0          0.0     0.0  0.0  0.0  0.0     0.0          0.0   \n",
       "3      0.0   0.0          0.0     0.0  0.0  0.0  0.0     0.0          0.0   \n",
       "4      0.0   0.0          0.0     0.0  0.0  0.0  0.0     0.0          0.0   \n",
       "...    ...   ...          ...     ...  ...  ...  ...     ...          ...   \n",
       "1763   0.0   0.0          0.0     0.0  0.0  0.0  0.0     0.0          0.0   \n",
       "1764   0.0   0.0          0.0     0.0  0.0  0.0  0.0     0.0          0.0   \n",
       "1765   0.0   0.0          0.0     0.0  0.0  0.0  0.0     0.0          0.0   \n",
       "1766   0.0   0.0          0.0     0.0  0.0  0.0  0.0     0.0          0.0   \n",
       "1767   0.0   0.0          0.0     0.0  0.0  0.0  0.0     0.0          0.0   \n",
       "\n",
       "      07099833605  ...  youre  youve  yoville   yr  yummy  yuo  yup  zebra  \\\n",
       "0             0.0  ...    0.0    0.0      0.0  0.0    0.0  0.0  0.0    0.0   \n",
       "1             0.0  ...    0.0    0.0      0.0  0.0    0.0  0.0  0.0    0.0   \n",
       "2             0.0  ...    0.0    0.0      0.0  0.0    0.0  0.0  0.0    0.0   \n",
       "3             0.0  ...    0.0    0.0      0.0  0.0    0.0  0.0  0.0    0.0   \n",
       "4             0.0  ...    0.0    0.0      0.0  0.0    0.0  0.0  0.0    0.0   \n",
       "...           ...  ...    ...    ...      ...  ...    ...  ...  ...    ...   \n",
       "1763          0.0  ...    0.0    0.0      0.0  0.0    0.0  0.0  0.0    0.0   \n",
       "1764          0.0  ...    0.0    0.0      0.0  0.0    0.0  0.0  0.0    0.0   \n",
       "1765          0.0  ...    0.0    0.0      0.0  0.0    0.0  0.0  0.0    0.0   \n",
       "1766          0.0  ...    0.0    0.0      0.0  0.0    0.0  0.0  0.0    0.0   \n",
       "1767          0.0  ...    0.0    0.0      0.0  0.0    0.0  0.0  0.0    0.0   \n",
       "\n",
       "      zed  zero  \n",
       "0     0.0   0.0  \n",
       "1     0.0   0.0  \n",
       "2     0.0   0.0  \n",
       "3     0.0   0.0  \n",
       "4     0.0   0.0  \n",
       "...   ...   ...  \n",
       "1763  0.0   0.0  \n",
       "1764  0.0   0.0  \n",
       "1765  0.0   0.0  \n",
       "1766  0.0   0.0  \n",
       "1767  0.0   0.0  \n",
       "\n",
       "[1768 rows x 3199 columns]"
      ]
     },
     "execution_count": 650,
     "metadata": {},
     "output_type": "execute_result"
    }
   ],
   "source": [
    "df_upsampled_bow_tfidf = pd.DataFrame(C.toarray(), columns=tfidf_upsampled.get_feature_names_out())\n",
    "df_upsampled_bow_tfidf"
   ]
  },
  {
   "cell_type": "markdown",
   "metadata": {},
   "source": [
    "#### 5.4.1 Testing Machine Learning Models"
   ]
  },
  {
   "cell_type": "code",
   "execution_count": 642,
   "metadata": {},
   "outputs": [],
   "source": [
    "# split the data\n",
    "X_train, X_test, y_train, y_test = train_test_split(df_upsampled_bow_tfidf, df_upsampled['Label'], test_size = 0.2, random_state = 42)"
   ]
  },
  {
   "cell_type": "code",
   "execution_count": 643,
   "metadata": {},
   "outputs": [
    {
     "name": "stdout",
     "output_type": "stream",
     "text": [
      "=== Logistic Regression ===\n",
      "Train score:  0.9936350777934936\n",
      "Test score:  0.9830508474576272\n",
      "\n",
      "\n",
      "=== Support Vector Machines ===\n",
      "Train score:  1.0\n",
      "Test score:  0.9887005649717514\n",
      "\n",
      "\n",
      "=== Naive Bayes ===\n",
      "Train score:  0.9794908062234795\n",
      "Test score:  0.940677966101695\n",
      "\n",
      "\n",
      "=== Decision Trees ===\n",
      "Train score:  1.0\n",
      "Test score:  0.9661016949152542\n"
     ]
    }
   ],
   "source": [
    "lr_upsampled_tfid_model = LogisticRegression().fit(X_train, y_train)\n",
    "svm_upsampled_tfidf_model = SVC(probability=True).fit(X_train, y_train)\n",
    "nb_upsampled_tfidf_model = GaussianNB().fit(X_train, y_train)\n",
    "dt_upsampled_tfidf_model = DecisionTreeClassifier().fit(X_train, y_train)\n",
    "\n",
    "# print the scores\n",
    "print('=== Logistic Regression ===')\n",
    "print('Train score: ', lr_upsampled_tfid_model.score(X_train, y_train))\n",
    "print('Test score: ', lr_upsampled_tfid_model.score(X_test, y_test))\n",
    "\n",
    "print('\\n')\n",
    "\n",
    "print('=== Support Vector Machines ===')\n",
    "print('Train score: ', svm_upsampled_tfidf_model.score(X_train, y_train))\n",
    "print('Test score: ', svm_upsampled_tfidf_model.score(X_test, y_test))\n",
    "\n",
    "print('\\n')\n",
    "\n",
    "print('=== Naive Bayes ===')\n",
    "print('Train score: ', nb_upsampled_tfidf_model.score(X_train, y_train))\n",
    "print('Test score: ', nb_upsampled_tfidf_model.score(X_test, y_test))\n",
    "\n",
    "print('\\n')\n",
    "\n",
    "print('=== Decision Trees ===')\n",
    "print('Train score: ', dt_upsampled_tfidf_model.score(X_train, y_train))\n",
    "print('Test score: ', dt_upsampled_tfidf_model.score(X_test, y_test))"
   ]
  },
  {
   "cell_type": "code",
   "execution_count": 644,
   "metadata": {},
   "outputs": [],
   "source": [
    "# get predictions for each model\n",
    "lr_predict = lr_upsampled_tfid_model.predict(X_test)\n",
    "svm_predict = svm_upsampled_tfidf_model.predict(X_test)\n",
    "nb_predict = nb_upsampled_tfidf_model.predict(X_test)\n",
    "dt_predict = dt_upsampled_tfidf_model.predict(X_test)\n",
    "\n",
    "\n",
    "# get probability for each model\n",
    "lr_proba = lr_upsampled_tfid_model.predict_proba(X_test)[:, 1]\n",
    "svm_proba = svm_upsampled_tfidf_model.predict_proba(X_test)[:, 1]\n",
    "nb_proba = nb_upsampled_tfidf_model.predict_proba(X_test)[:, 1]\n",
    "dt_proba = dt_upsampled_tfidf_model.predict_proba(X_test)[:, 1]\n",
    "\n",
    "# calculate fpr and tpr for each model\n",
    "fpr_lr, tpr_lr, _ = metrics.roc_curve(y_test, lr_proba)\n",
    "fpr_svm, tpr_svm, _ = metrics.roc_curve(y_test, svm_proba)\n",
    "fpr_nb, tpr_nb, _ = metrics.roc_curve(y_test, nb_proba)\n",
    "fpr_dt, tpr_dt, _ = metrics.roc_curve(y_test, dt_proba)\n",
    "\n",
    "# calculate roc curve for each model\n",
    "roc_auc_lr = metrics.auc(fpr_lr, tpr_lr)\n",
    "roc_auc_svm = metrics.auc(fpr_svm, tpr_svm)\n",
    "roc_auc_nb = metrics.auc(fpr_nb, tpr_nb)\n",
    "roc_auc_dt = metrics.auc(fpr_dt, tpr_dt)"
   ]
  },
  {
   "cell_type": "code",
   "execution_count": 645,
   "metadata": {},
   "outputs": [
    {
     "data": {
      "image/png": "[encoded data removed]",
      "text/plain": [
       "<Figure size 576x576 with 1 Axes>"
      ]
     },
     "metadata": {
      "needs_background": "light"
     },
     "output_type": "display_data"
    }
   ],
   "source": [
    "# set figure size\n",
    "plt.figure(figsize=[8,8])\n",
    "\n",
    "# plot each of the models\n",
    "plt.plot(fpr_lr, tpr_lr, color='cyan', lw = 2, label = 'ROC LR curve (area = %0.2f)' % roc_auc_lr)\n",
    "plt.plot(fpr_svm, tpr_svm, color='r', lw = 2, label = 'ROC SVM curve (area = %0.3f)' % roc_auc_svm)\n",
    "plt.plot(fpr_nb, tpr_nb, color='g', lw = 2, label = 'ROC NB curve (area = %0.2f)' % roc_auc_nb)\n",
    "plt.plot(fpr_nb, tpr_nb, color='purple', lw = 2, label = 'ROC DT curve (area = %0.2f)' % roc_auc_dt)\n",
    "\n",
    "plt.plot([0, 1], [0, 1], color = 'navy', lw = 2, linestyle = '--')\n",
    "plt.xlim([-0.05, 1.0])\n",
    "plt.ylim([-0.05, 1.05])\n",
    "plt.xlabel('False Positive Rate', fontsize=18)\n",
    "plt.ylabel('True Positive Rate', fontsize=18)\n",
    "plt.title('Receiver Operating Characteristic', fontsize=18)\n",
    "plt.legend(loc=\"lower right\")\n",
    "plt.show()"
   ]
  },
  {
   "cell_type": "code",
   "execution_count": 646,
   "metadata": {},
   "outputs": [
    {
     "name": "stdout",
     "output_type": "stream",
     "text": [
      "\n",
      "\n",
      "\n",
      "========== LOGISTIC REGRESSION ==========\n",
      "\n",
      "\n",
      "Accuracy : 0.9831 [TP / N] Proportion of predicted labels that match the true labels. Best: 1, Worst: 0\n",
      "Precision: 0.9891 [TP / (TP + FP)] Not to label a negative sample as positive.        Best: 1, Worst: 0\n",
      "Recall   : 0.9785 [TP / (TP + FN)] Find all the positive samples.                     Best: 1, Worst: 0\n",
      "ROC AUC  : 0.9983                                                                     Best: 1, Worst: < 0.5\n",
      "-----------------------------------------------------------------------------------------------------------\n",
      "TP: True Positives, FP: False Positives, TN: True Negatives, FN: False Negatives, N: Number of samples\n"
     ]
    },
    {
     "data": {
      "image/png": "[encoded data removed]",
      "text/plain": [
       "<Figure size 1296x432 with 3 Axes>"
      ]
     },
     "metadata": {
      "needs_background": "light"
     },
     "output_type": "display_data"
    },
    {
     "name": "stdout",
     "output_type": "stream",
     "text": [
      "\n",
      "\n",
      "\n",
      "==========SUPPORT VECTOR MACHINES ==========\n",
      "\n",
      "\n",
      "Accuracy : 0.9887 [TP / N] Proportion of predicted labels that match the true labels. Best: 1, Worst: 0\n",
      "Precision: 0.9946 [TP / (TP + FP)] Not to label a negative sample as positive.        Best: 1, Worst: 0\n",
      "Recall   : 0.9839 [TP / (TP + FN)] Find all the positive samples.                     Best: 1, Worst: 0\n",
      "ROC AUC  : 0.9998                                                                     Best: 1, Worst: < 0.5\n",
      "-----------------------------------------------------------------------------------------------------------\n",
      "TP: True Positives, FP: False Positives, TN: True Negatives, FN: False Negatives, N: Number of samples\n"
     ]
    },
    {
     "data": {
      "image/png": "[encoded data removed]",
      "text/plain": [
       "<Figure size 1296x432 with 3 Axes>"
      ]
     },
     "metadata": {
      "needs_background": "light"
     },
     "output_type": "display_data"
    },
    {
     "name": "stdout",
     "output_type": "stream",
     "text": [
      "\n",
      "\n",
      "\n",
      "========== NAIVE BAYES ==========\n",
      "\n",
      "\n",
      "Accuracy : 0.9407 [TP / N] Proportion of predicted labels that match the true labels. Best: 1, Worst: 0\n",
      "Precision: 0.9064 [TP / (TP + FP)] Not to label a negative sample as positive.        Best: 1, Worst: 0\n",
      "Recall   : 0.9892 [TP / (TP + FN)] Find all the positive samples.                     Best: 1, Worst: 0\n",
      "ROC AUC  : 0.9381                                                                     Best: 1, Worst: < 0.5\n",
      "-----------------------------------------------------------------------------------------------------------\n",
      "TP: True Positives, FP: False Positives, TN: True Negatives, FN: False Negatives, N: Number of samples\n"
     ]
    },
    {
     "data": {
      "image/png": "[encoded data removed]",
      "text/plain": [
       "<Figure size 1296x432 with 3 Axes>"
      ]
     },
     "metadata": {
      "needs_background": "light"
     },
     "output_type": "display_data"
    },
    {
     "name": "stdout",
     "output_type": "stream",
     "text": [
      "\n",
      "\n",
      "\n",
      "========== DECISION TREES ==========\n",
      "\n",
      "\n",
      "Accuracy : 0.9661 [TP / N] Proportion of predicted labels that match the true labels. Best: 1, Worst: 0\n",
      "Precision: 0.9394 [TP / (TP + FP)] Not to label a negative sample as positive.        Best: 1, Worst: 0\n",
      "Recall   : 1.0000 [TP / (TP + FN)] Find all the positive samples.                     Best: 1, Worst: 0\n",
      "ROC AUC  : 0.9643                                                                     Best: 1, Worst: < 0.5\n",
      "-----------------------------------------------------------------------------------------------------------\n",
      "TP: True Positives, FP: False Positives, TN: True Negatives, FN: False Negatives, N: Number of samples\n"
     ]
    },
    {
     "data": {
      "image/png": "[encoded data removed]",
      "text/plain": [
       "<Figure size 1296x432 with 3 Axes>"
      ]
     },
     "metadata": {
      "needs_background": "light"
     },
     "output_type": "display_data"
    },
    {
     "data": {
      "text/plain": [
       "(0.9661016949152542, 0.9393939393939394, 1.0, 0.9642857142857143)"
      ]
     },
     "execution_count": 646,
     "metadata": {},
     "output_type": "execute_result"
    }
   ],
   "source": [
    "# summary reports of each of the models\n",
    "print('\\n\\n')\n",
    "print('========== LOGISTIC REGRESSION ==========')\n",
    "print('\\n')\n",
    "show_summary_report(y_test, lr_predict, lr_proba)\n",
    "\n",
    "print('\\n\\n')\n",
    "\n",
    "print('==========SUPPORT VECTOR MACHINES ==========')\n",
    "print('\\n')\n",
    "show_summary_report(y_test, svm_predict, svm_proba)\n",
    "\n",
    "print('\\n\\n')\n",
    "\n",
    "print('========== NAIVE BAYES ==========')\n",
    "print('\\n')\n",
    "show_summary_report(y_test, nb_predict, nb_proba)\n",
    "\n",
    "\n",
    "print('\\n\\n')\n",
    "\n",
    "print('========== DECISION TREES ==========')\n",
    "print('\\n')\n",
    "show_summary_report(y_test, dt_predict, dt_proba)"
   ]
  },
  {
   "cell_type": "markdown",
   "metadata": {},
   "source": [
    "##### Observations\n",
    "- Recall increased drastically\n",
    "- Resampling of the dataset improved overall performance"
   ]
  },
  {
   "cell_type": "markdown",
   "metadata": {},
   "source": [
    "## <b>6. Summary"
   ]
  },
  {
   "cell_type": "markdown",
   "metadata": {},
   "source": [
    "- Models were effective in detecting spam messages\n",
    "- With resampling, we were able to balance the dataset and improve overall performance – namely recall\n",
    "- Recommendation\n",
    "    - SVM Model\n",
    "        - Performed well due to smaller dataset\n",
    "        - More effective in higher dimensional spaces\n",
    "        - Relatively memory efficient\n",
    "- Further Improvements\n",
    "    - Implementing hyper-parameters \n"
   ]
  }
 ],
 "metadata": {
  "kernelspec": {
   "display_name": "Python 3.10.5 64-bit",
   "language": "python",
   "name": "python3"
  },
  "language_info": {
   "codemirror_mode": {
    "name": "ipython",
    "version": 3
   },
   "file_extension": ".py",
   "mimetype": "text/x-python",
   "name": "python",
   "nbconvert_exporter": "python",
   "pygments_lexer": "ipython3",
   "version": "3.10.5"
  },
  "orig_nbformat": 4,
  "vscode": {
   "interpreter": {
    "hash": "9984f5fd75a63c97ca99c2798f42e19f0a03eb88a13709c8345053888d20478e"
   }
  }
 },
 "nbformat": 4,
 "nbformat_minor": 2
}
