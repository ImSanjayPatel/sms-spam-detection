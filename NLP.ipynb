{
 "cells": [
  {
   "cell_type": "markdown",
   "metadata": {},
   "source": [
    "# Mini Project 3"
   ]
  },
  {
   "cell_type": "markdown",
   "metadata": {},
   "source": [
    "## Fetch the data"
   ]
  },
  {
   "cell_type": "code",
   "execution_count": 200,
   "metadata": {},
   "outputs": [],
   "source": [
    "# import libraries\n",
    "import numpy as np\n",
    "import pandas as pd\n",
    "import matplotlib.pyplot as plt\n",
    "import seaborn as sns\n",
    "\n",
    "import re\n",
    "import spacy\n",
    "import nltk\n",
    "from nltk.stem.porter import *\n",
    "from spacy.lang.en.stop_words import STOP_WORDS\n",
    "\n",
    "import string\n",
    "\n",
    "import sklearn\n",
    "\n",
    "from sklearn.feature_extraction.text import CountVectorizer\n",
    "from sklearn.feature_extraction.text import TfidfVectorizer\n",
    "\n",
    "from sklearn.svm import SVC\n",
    "from sklearn import metrics\n",
    "\n",
    "from sklearn.model_selection import train_test_split"
   ]
  },
  {
   "cell_type": "code",
   "execution_count": 201,
   "metadata": {},
   "outputs": [],
   "source": [
    "# import the spam email csv\n",
    "df = pd.read_csv('email_train.csv', encoding='unicode_escape')"
   ]
  },
  {
   "cell_type": "code",
   "execution_count": 202,
   "metadata": {},
   "outputs": [
    {
     "data": {
      "text/html": [
       "<div>\n",
       "<style scoped>\n",
       "    .dataframe tbody tr th:only-of-type {\n",
       "        vertical-align: middle;\n",
       "    }\n",
       "\n",
       "    .dataframe tbody tr th {\n",
       "        vertical-align: top;\n",
       "    }\n",
       "\n",
       "    .dataframe thead th {\n",
       "        text-align: right;\n",
       "    }\n",
       "</style>\n",
       "<table border=\"1\" class=\"dataframe\">\n",
       "  <thead>\n",
       "    <tr style=\"text-align: right;\">\n",
       "      <th></th>\n",
       "      <th>S. No.</th>\n",
       "      <th>Message_body</th>\n",
       "      <th>Label</th>\n",
       "    </tr>\n",
       "  </thead>\n",
       "  <tbody>\n",
       "    <tr>\n",
       "      <th>0</th>\n",
       "      <td>1</td>\n",
       "      <td>Rofl. Its true to its name</td>\n",
       "      <td>Non-Spam</td>\n",
       "    </tr>\n",
       "    <tr>\n",
       "      <th>1</th>\n",
       "      <td>2</td>\n",
       "      <td>The guy did some bitching but I acted like i'd...</td>\n",
       "      <td>Non-Spam</td>\n",
       "    </tr>\n",
       "    <tr>\n",
       "      <th>2</th>\n",
       "      <td>3</td>\n",
       "      <td>Pity, * was in mood for that. So...any other s...</td>\n",
       "      <td>Non-Spam</td>\n",
       "    </tr>\n",
       "    <tr>\n",
       "      <th>3</th>\n",
       "      <td>4</td>\n",
       "      <td>Will ü b going to esplanade fr home?</td>\n",
       "      <td>Non-Spam</td>\n",
       "    </tr>\n",
       "    <tr>\n",
       "      <th>4</th>\n",
       "      <td>5</td>\n",
       "      <td>This is the 2nd time we have tried 2 contact u...</td>\n",
       "      <td>Spam</td>\n",
       "    </tr>\n",
       "  </tbody>\n",
       "</table>\n",
       "</div>"
      ],
      "text/plain": [
       "   S. No.                                       Message_body     Label\n",
       "0       1                         Rofl. Its true to its name  Non-Spam\n",
       "1       2  The guy did some bitching but I acted like i'd...  Non-Spam\n",
       "2       3  Pity, * was in mood for that. So...any other s...  Non-Spam\n",
       "3       4               Will ü b going to esplanade fr home?  Non-Spam\n",
       "4       5  This is the 2nd time we have tried 2 contact u...      Spam"
      ]
     },
     "execution_count": 202,
     "metadata": {},
     "output_type": "execute_result"
    }
   ],
   "source": [
    "df.head()"
   ]
  },
  {
   "cell_type": "code",
   "execution_count": 203,
   "metadata": {},
   "outputs": [
    {
     "data": {
      "text/plain": [
       "S. No.          0\n",
       "Message_body    0\n",
       "Label           0\n",
       "dtype: int64"
      ]
     },
     "execution_count": 203,
     "metadata": {},
     "output_type": "execute_result"
    }
   ],
   "source": [
    "# check if there are any null values\n",
    "df.isna().sum()"
   ]
  },
  {
   "cell_type": "code",
   "execution_count": 204,
   "metadata": {},
   "outputs": [
    {
     "name": "stdout",
     "output_type": "stream",
     "text": [
      "<class 'pandas.core.frame.DataFrame'>\n",
      "RangeIndex: 957 entries, 0 to 956\n",
      "Data columns (total 3 columns):\n",
      " #   Column        Non-Null Count  Dtype \n",
      "---  ------        --------------  ----- \n",
      " 0   S. No.        957 non-null    int64 \n",
      " 1   Message_body  957 non-null    object\n",
      " 2   Label         957 non-null    object\n",
      "dtypes: int64(1), object(2)\n",
      "memory usage: 22.6+ KB\n"
     ]
    }
   ],
   "source": [
    "# check data types\n",
    "df.info()"
   ]
  },
  {
   "cell_type": "code",
   "execution_count": 205,
   "metadata": {},
   "outputs": [],
   "source": [
    "df['Message_body'] = df['Message_body'].astype('string')"
   ]
  },
  {
   "cell_type": "code",
   "execution_count": 206,
   "metadata": {},
   "outputs": [
    {
     "name": "stdout",
     "output_type": "stream",
     "text": [
      "<class 'pandas.core.frame.DataFrame'>\n",
      "RangeIndex: 957 entries, 0 to 956\n",
      "Data columns (total 3 columns):\n",
      " #   Column        Non-Null Count  Dtype \n",
      "---  ------        --------------  ----- \n",
      " 0   S. No.        957 non-null    int64 \n",
      " 1   Message_body  957 non-null    string\n",
      " 2   Label         957 non-null    object\n",
      "dtypes: int64(1), object(1), string(1)\n",
      "memory usage: 22.6+ KB\n"
     ]
    }
   ],
   "source": [
    "df.info()"
   ]
  },
  {
   "cell_type": "code",
   "execution_count": 207,
   "metadata": {},
   "outputs": [],
   "source": [
    "# remove unnecessary columns\n",
    "df.drop(columns=['S. No.'], inplace=True)"
   ]
  },
  {
   "cell_type": "code",
   "execution_count": 208,
   "metadata": {},
   "outputs": [],
   "source": [
    "# change label column to 0s and 1s\n",
    "df['Label'].replace({'Non-Spam': 0, 'Spam': 1}, inplace=True)"
   ]
  },
  {
   "cell_type": "code",
   "execution_count": 209,
   "metadata": {},
   "outputs": [
    {
     "data": {
      "text/plain": [
       "Message_body    0\n",
       "Label           0\n",
       "dtype: int64"
      ]
     },
     "execution_count": 209,
     "metadata": {},
     "output_type": "execute_result"
    }
   ],
   "source": [
    "# check if there are any null values\n",
    "df.isna().sum()"
   ]
  },
  {
   "cell_type": "code",
   "execution_count": 210,
   "metadata": {},
   "outputs": [
    {
     "data": {
      "text/html": [
       "<div>\n",
       "<style scoped>\n",
       "    .dataframe tbody tr th:only-of-type {\n",
       "        vertical-align: middle;\n",
       "    }\n",
       "\n",
       "    .dataframe tbody tr th {\n",
       "        vertical-align: top;\n",
       "    }\n",
       "\n",
       "    .dataframe thead th {\n",
       "        text-align: right;\n",
       "    }\n",
       "</style>\n",
       "<table border=\"1\" class=\"dataframe\">\n",
       "  <thead>\n",
       "    <tr style=\"text-align: right;\">\n",
       "      <th></th>\n",
       "      <th>Message_body</th>\n",
       "      <th>Label</th>\n",
       "    </tr>\n",
       "  </thead>\n",
       "  <tbody>\n",
       "    <tr>\n",
       "      <th>0</th>\n",
       "      <td>Rofl. Its true to its name</td>\n",
       "      <td>0</td>\n",
       "    </tr>\n",
       "    <tr>\n",
       "      <th>1</th>\n",
       "      <td>The guy did some bitching but I acted like i'd...</td>\n",
       "      <td>0</td>\n",
       "    </tr>\n",
       "    <tr>\n",
       "      <th>2</th>\n",
       "      <td>Pity, * was in mood for that. So...any other s...</td>\n",
       "      <td>0</td>\n",
       "    </tr>\n",
       "    <tr>\n",
       "      <th>3</th>\n",
       "      <td>Will ü b going to esplanade fr home?</td>\n",
       "      <td>0</td>\n",
       "    </tr>\n",
       "    <tr>\n",
       "      <th>4</th>\n",
       "      <td>This is the 2nd time we have tried 2 contact u...</td>\n",
       "      <td>1</td>\n",
       "    </tr>\n",
       "  </tbody>\n",
       "</table>\n",
       "</div>"
      ],
      "text/plain": [
       "                                        Message_body  Label\n",
       "0                         Rofl. Its true to its name      0\n",
       "1  The guy did some bitching but I acted like i'd...      0\n",
       "2  Pity, * was in mood for that. So...any other s...      0\n",
       "3               Will ü b going to esplanade fr home?      0\n",
       "4  This is the 2nd time we have tried 2 contact u...      1"
      ]
     },
     "execution_count": 210,
     "metadata": {},
     "output_type": "execute_result"
    }
   ],
   "source": [
    "df.head()"
   ]
  },
  {
   "cell_type": "markdown",
   "metadata": {},
   "source": [
    "## Clean the data"
   ]
  },
  {
   "cell_type": "code",
   "execution_count": 211,
   "metadata": {},
   "outputs": [],
   "source": [
    "def clean_text(text):\n",
    "    \n",
    "    # remove full stops\n",
    "    text = re.sub(r'\\.', '', text)\n",
    "\n",
    "    # remove punctuation\n",
    "    text = re.sub(r'[!?*,()/:-;+=#&^@<>£\\\"\\']', '', text)\n",
    "    text = re.sub(r'ü', 'u', text)\n",
    "\n",
    "    return text"
   ]
  },
  {
   "cell_type": "code",
   "execution_count": 212,
   "metadata": {},
   "outputs": [],
   "source": [
    "df['Message_body'] = df['Message_body'].apply(clean_text)"
   ]
  },
  {
   "cell_type": "code",
   "execution_count": 213,
   "metadata": {},
   "outputs": [
    {
     "data": {
      "text/html": [
       "<div>\n",
       "<style scoped>\n",
       "    .dataframe tbody tr th:only-of-type {\n",
       "        vertical-align: middle;\n",
       "    }\n",
       "\n",
       "    .dataframe tbody tr th {\n",
       "        vertical-align: top;\n",
       "    }\n",
       "\n",
       "    .dataframe thead th {\n",
       "        text-align: right;\n",
       "    }\n",
       "</style>\n",
       "<table border=\"1\" class=\"dataframe\">\n",
       "  <thead>\n",
       "    <tr style=\"text-align: right;\">\n",
       "      <th></th>\n",
       "      <th>Message_body</th>\n",
       "      <th>Label</th>\n",
       "    </tr>\n",
       "  </thead>\n",
       "  <tbody>\n",
       "    <tr>\n",
       "      <th>518</th>\n",
       "      <td>Yeah so basically any time next week you can g...</td>\n",
       "      <td>0</td>\n",
       "    </tr>\n",
       "    <tr>\n",
       "      <th>485</th>\n",
       "      <td>Aiya we discuss later lar Pick u up at 4 is it</td>\n",
       "      <td>0</td>\n",
       "    </tr>\n",
       "    <tr>\n",
       "      <th>941</th>\n",
       "      <td>Im on the bus Love you</td>\n",
       "      <td>0</td>\n",
       "    </tr>\n",
       "    <tr>\n",
       "      <th>904</th>\n",
       "      <td>Ladies first and genus second k</td>\n",
       "      <td>0</td>\n",
       "    </tr>\n",
       "    <tr>\n",
       "      <th>760</th>\n",
       "      <td>Call me when u finish then i come n pick u</td>\n",
       "      <td>0</td>\n",
       "    </tr>\n",
       "    <tr>\n",
       "      <th>877</th>\n",
       "      <td>Didnt try g and I decided not to head out</td>\n",
       "      <td>0</td>\n",
       "    </tr>\n",
       "    <tr>\n",
       "      <th>719</th>\n",
       "      <td>I am in escape theatre now  Going to watch KAV...</td>\n",
       "      <td>0</td>\n",
       "    </tr>\n",
       "    <tr>\n",
       "      <th>315</th>\n",
       "      <td>I didnt get anything da</td>\n",
       "      <td>0</td>\n",
       "    </tr>\n",
       "    <tr>\n",
       "      <th>509</th>\n",
       "      <td>Geeeee  Your internet is really bad today eh</td>\n",
       "      <td>0</td>\n",
       "    </tr>\n",
       "    <tr>\n",
       "      <th>709</th>\n",
       "      <td>Thanks  and  Or bomb and date as my phone want...</td>\n",
       "      <td>0</td>\n",
       "    </tr>\n",
       "    <tr>\n",
       "      <th>905</th>\n",
       "      <td>Ok no prob</td>\n",
       "      <td>0</td>\n",
       "    </tr>\n",
       "    <tr>\n",
       "      <th>549</th>\n",
       "      <td>Dear 0776xxxxxxx Uve been invited to XCHAT Thi...</td>\n",
       "      <td>1</td>\n",
       "    </tr>\n",
       "    <tr>\n",
       "      <th>707</th>\n",
       "      <td>Hey a guy I know is breathing down my neck to ...</td>\n",
       "      <td>0</td>\n",
       "    </tr>\n",
       "    <tr>\n",
       "      <th>79</th>\n",
       "      <td>U studying in sch or going home Anyway ill b g...</td>\n",
       "      <td>0</td>\n",
       "    </tr>\n",
       "    <tr>\n",
       "      <th>947</th>\n",
       "      <td>Sorry Ill call later In meeting</td>\n",
       "      <td>0</td>\n",
       "    </tr>\n",
       "    <tr>\n",
       "      <th>555</th>\n",
       "      <td>You have WON a guaranteed 1000 cash or a 2000 ...</td>\n",
       "      <td>1</td>\n",
       "    </tr>\n",
       "    <tr>\n",
       "      <th>484</th>\n",
       "      <td>Hey happy birthday</td>\n",
       "      <td>0</td>\n",
       "    </tr>\n",
       "    <tr>\n",
       "      <th>664</th>\n",
       "      <td>FREE POLYPHONIC RINGTONE Text SUPER to 87131 ...</td>\n",
       "      <td>1</td>\n",
       "    </tr>\n",
       "    <tr>\n",
       "      <th>924</th>\n",
       "      <td>You are being ripped off Get your mobile conte...</td>\n",
       "      <td>1</td>\n",
       "    </tr>\n",
       "    <tr>\n",
       "      <th>944</th>\n",
       "      <td>They finally came to fix the ceiling</td>\n",
       "      <td>0</td>\n",
       "    </tr>\n",
       "    <tr>\n",
       "      <th>682</th>\n",
       "      <td>For many things its an antibiotic and it can b...</td>\n",
       "      <td>0</td>\n",
       "    </tr>\n",
       "    <tr>\n",
       "      <th>930</th>\n",
       "      <td>K k pa Had your lunch aha</td>\n",
       "      <td>0</td>\n",
       "    </tr>\n",
       "    <tr>\n",
       "      <th>921</th>\n",
       "      <td>Are you planning to come chennai</td>\n",
       "      <td>0</td>\n",
       "    </tr>\n",
       "    <tr>\n",
       "      <th>830</th>\n",
       "      <td>Not for possession especially not first offense</td>\n",
       "      <td>0</td>\n",
       "    </tr>\n",
       "    <tr>\n",
       "      <th>685</th>\n",
       "      <td>Whenwhere do I pick you up</td>\n",
       "      <td>0</td>\n",
       "    </tr>\n",
       "    <tr>\n",
       "      <th>711</th>\n",
       "      <td>Same to u</td>\n",
       "      <td>0</td>\n",
       "    </tr>\n",
       "    <tr>\n",
       "      <th>263</th>\n",
       "      <td>Ill be at yours in about 3 mins but look out f...</td>\n",
       "      <td>0</td>\n",
       "    </tr>\n",
       "    <tr>\n",
       "      <th>383</th>\n",
       "      <td>I just cooked a rather nice salmon a la you</td>\n",
       "      <td>0</td>\n",
       "    </tr>\n",
       "    <tr>\n",
       "      <th>862</th>\n",
       "      <td>Yar but they say got some error</td>\n",
       "      <td>0</td>\n",
       "    </tr>\n",
       "    <tr>\n",
       "      <th>281</th>\n",
       "      <td>An excellent thought by a misundrstud frnd I k...</td>\n",
       "      <td>0</td>\n",
       "    </tr>\n",
       "    <tr>\n",
       "      <th>379</th>\n",
       "      <td>ree entry in 2 a weekly comp for a chance to w...</td>\n",
       "      <td>1</td>\n",
       "    </tr>\n",
       "    <tr>\n",
       "      <th>108</th>\n",
       "      <td>Txt CALL to No 86888  claim your reward of 3 h...</td>\n",
       "      <td>1</td>\n",
       "    </tr>\n",
       "    <tr>\n",
       "      <th>691</th>\n",
       "      <td>I know dat feelin had it with Pete Wuld get wi...</td>\n",
       "      <td>0</td>\n",
       "    </tr>\n",
       "    <tr>\n",
       "      <th>894</th>\n",
       "      <td>Customer service announcement We recently trie...</td>\n",
       "      <td>1</td>\n",
       "    </tr>\n",
       "    <tr>\n",
       "      <th>732</th>\n",
       "      <td>I hope your pee burns tonite</td>\n",
       "      <td>0</td>\n",
       "    </tr>\n",
       "    <tr>\n",
       "      <th>73</th>\n",
       "      <td>SMS SERVICES for your inclusive text credits p...</td>\n",
       "      <td>1</td>\n",
       "    </tr>\n",
       "    <tr>\n",
       "      <th>376</th>\n",
       "      <td>Oh oh Den muz change plan liao Go back have to...</td>\n",
       "      <td>0</td>\n",
       "    </tr>\n",
       "    <tr>\n",
       "      <th>482</th>\n",
       "      <td>Omg if its not one thing its another My cat ha...</td>\n",
       "      <td>0</td>\n",
       "    </tr>\n",
       "    <tr>\n",
       "      <th>602</th>\n",
       "      <td>Dear Voucher holder Have your next meal on us ...</td>\n",
       "      <td>1</td>\n",
       "    </tr>\n",
       "    <tr>\n",
       "      <th>810</th>\n",
       "      <td>Dont make life too stressfull Always find time...</td>\n",
       "      <td>0</td>\n",
       "    </tr>\n",
       "    <tr>\n",
       "      <th>478</th>\n",
       "      <td>St andre virgils cream</td>\n",
       "      <td>0</td>\n",
       "    </tr>\n",
       "    <tr>\n",
       "      <th>422</th>\n",
       "      <td>Oh unintentionally not bad timing Great Finger...</td>\n",
       "      <td>0</td>\n",
       "    </tr>\n",
       "    <tr>\n",
       "      <th>888</th>\n",
       "      <td>It is a good thing Im now getting the connecti...</td>\n",
       "      <td>0</td>\n",
       "    </tr>\n",
       "    <tr>\n",
       "      <th>790</th>\n",
       "      <td>Quite lor But dun tell him wait he get complacent</td>\n",
       "      <td>0</td>\n",
       "    </tr>\n",
       "    <tr>\n",
       "      <th>788</th>\n",
       "      <td>U R THE MOST BEAUTIFUL GIRL IVE EVER SEEN U R ...</td>\n",
       "      <td>0</td>\n",
       "    </tr>\n",
       "    <tr>\n",
       "      <th>632</th>\n",
       "      <td>Hey do you want anything to buy</td>\n",
       "      <td>0</td>\n",
       "    </tr>\n",
       "    <tr>\n",
       "      <th>228</th>\n",
       "      <td>And of course you should make a stink</td>\n",
       "      <td>0</td>\n",
       "    </tr>\n",
       "    <tr>\n",
       "      <th>54</th>\n",
       "      <td>Ya im referin to meis ex wat No ah waitin 4 u ...</td>\n",
       "      <td>0</td>\n",
       "    </tr>\n",
       "    <tr>\n",
       "      <th>758</th>\n",
       "      <td>Whats up my own oga Left my phone at home and ...</td>\n",
       "      <td>0</td>\n",
       "    </tr>\n",
       "    <tr>\n",
       "      <th>623</th>\n",
       "      <td>Check maili have mailed varma and kept copy to...</td>\n",
       "      <td>0</td>\n",
       "    </tr>\n",
       "  </tbody>\n",
       "</table>\n",
       "</div>"
      ],
      "text/plain": [
       "                                          Message_body  Label\n",
       "518  Yeah so basically any time next week you can g...      0\n",
       "485     Aiya we discuss later lar Pick u up at 4 is it      0\n",
       "941                             Im on the bus Love you      0\n",
       "904                   Ladies first and genus second k       0\n",
       "760         Call me when u finish then i come n pick u      0\n",
       "877          Didnt try g and I decided not to head out      0\n",
       "719  I am in escape theatre now  Going to watch KAV...      0\n",
       "315                            I didnt get anything da      0\n",
       "509      Geeeee  Your internet is really bad today eh       0\n",
       "709  Thanks  and  Or bomb and date as my phone want...      0\n",
       "905                                         Ok no prob      0\n",
       "549  Dear 0776xxxxxxx Uve been invited to XCHAT Thi...      1\n",
       "707  Hey a guy I know is breathing down my neck to ...      0\n",
       "79   U studying in sch or going home Anyway ill b g...      0\n",
       "947                    Sorry Ill call later In meeting      0\n",
       "555  You have WON a guaranteed 1000 cash or a 2000 ...      1\n",
       "484                                 Hey happy birthday      0\n",
       "664   FREE POLYPHONIC RINGTONE Text SUPER to 87131 ...      1\n",
       "924  You are being ripped off Get your mobile conte...      1\n",
       "944               They finally came to fix the ceiling      0\n",
       "682  For many things its an antibiotic and it can b...      0\n",
       "930                          K k pa Had your lunch aha      0\n",
       "921                   Are you planning to come chennai      0\n",
       "830    Not for possession especially not first offense      0\n",
       "685                         Whenwhere do I pick you up      0\n",
       "711                                          Same to u      0\n",
       "263  Ill be at yours in about 3 mins but look out f...      0\n",
       "383        I just cooked a rather nice salmon a la you      0\n",
       "862                    Yar but they say got some error      0\n",
       "281  An excellent thought by a misundrstud frnd I k...      0\n",
       "379  ree entry in 2 a weekly comp for a chance to w...      1\n",
       "108  Txt CALL to No 86888  claim your reward of 3 h...      1\n",
       "691  I know dat feelin had it with Pete Wuld get wi...      0\n",
       "894  Customer service announcement We recently trie...      1\n",
       "732                       I hope your pee burns tonite      0\n",
       "73   SMS SERVICES for your inclusive text credits p...      1\n",
       "376  Oh oh Den muz change plan liao Go back have to...      0\n",
       "482  Omg if its not one thing its another My cat ha...      0\n",
       "602  Dear Voucher holder Have your next meal on us ...      1\n",
       "810  Dont make life too stressfull Always find time...      0\n",
       "478                             St andre virgils cream      0\n",
       "422  Oh unintentionally not bad timing Great Finger...      0\n",
       "888  It is a good thing Im now getting the connecti...      0\n",
       "790  Quite lor But dun tell him wait he get complacent      0\n",
       "788  U R THE MOST BEAUTIFUL GIRL IVE EVER SEEN U R ...      0\n",
       "632                    Hey do you want anything to buy      0\n",
       "228              And of course you should make a stink      0\n",
       "54   Ya im referin to meis ex wat No ah waitin 4 u ...      0\n",
       "758  Whats up my own oga Left my phone at home and ...      0\n",
       "623  Check maili have mailed varma and kept copy to...      0"
      ]
     },
     "execution_count": 213,
     "metadata": {},
     "output_type": "execute_result"
    }
   ],
   "source": [
    "df.sample(50)"
   ]
  },
  {
   "cell_type": "code",
   "execution_count": 214,
   "metadata": {},
   "outputs": [],
   "source": [
    "nlp = spacy.load('en_core_web_md')"
   ]
  },
  {
   "cell_type": "code",
   "execution_count": 215,
   "metadata": {},
   "outputs": [],
   "source": [
    "doc = nlp(df['Message_body'][1])"
   ]
  },
  {
   "cell_type": "code",
   "execution_count": 216,
   "metadata": {},
   "outputs": [
    {
     "data": {
      "text/plain": [
       "The guy did some bitching but I acted like id be interested in buying something else next week and he gave it to us for free"
      ]
     },
     "execution_count": 216,
     "metadata": {},
     "output_type": "execute_result"
    }
   ],
   "source": [
    "doc"
   ]
  },
  {
   "cell_type": "code",
   "execution_count": 217,
   "metadata": {},
   "outputs": [
    {
     "name": "stdout",
     "output_type": "stream",
     "text": [
      "The\n",
      "guy\n",
      "did\n",
      "some\n",
      "bitching\n",
      "but\n",
      "I\n",
      "acted\n",
      "like\n",
      "i\n",
      "d\n",
      "be\n",
      "interested\n",
      "in\n",
      "buying\n",
      "something\n",
      "else\n",
      "next\n",
      "week\n",
      "and\n",
      "he\n",
      "gave\n",
      "it\n",
      "to\n",
      "us\n",
      "for\n",
      "free\n"
     ]
    }
   ],
   "source": [
    "for token in doc:\n",
    "    print(token.text)"
   ]
  },
  {
   "cell_type": "code",
   "execution_count": 218,
   "metadata": {},
   "outputs": [],
   "source": [
    "token_list = []"
   ]
  },
  {
   "cell_type": "code",
   "execution_count": 219,
   "metadata": {},
   "outputs": [],
   "source": [
    "# change all text to lowercase\n",
    "df['Message_body'] = df['Message_body'].apply(lambda s: s.lower())"
   ]
  },
  {
   "cell_type": "code",
   "execution_count": 220,
   "metadata": {},
   "outputs": [
    {
     "data": {
      "text/plain": [
       "0                              rofl its true to its name\n",
       "1      the guy did some bitching but i acted like id ...\n",
       "2      pity  was in mood for that soany other suggest...\n",
       "3                    will u b going to esplanade fr home\n",
       "4      this is the 2nd time we have tried 2 contact u...\n",
       "                             ...                        \n",
       "952    hows my favourite person today r u workin hard...\n",
       "953                        how much you got for cleaning\n",
       "954    sorry da i gone mad so many pending works what...\n",
       "955                                    wat time u finish\n",
       "956                       just glad to be talking to you\n",
       "Name: Message_body, Length: 957, dtype: object"
      ]
     },
     "execution_count": 220,
     "metadata": {},
     "output_type": "execute_result"
    }
   ],
   "source": [
    "df['Message_body']"
   ]
  },
  {
   "cell_type": "code",
   "execution_count": 221,
   "metadata": {},
   "outputs": [
    {
     "name": "stdout",
     "output_type": "stream",
     "text": [
      " 1| 'The'\n",
      " 2| 'guy'\n",
      " 3| 'did'\n",
      " 4| 'some'\n",
      " 5| 'bitching'\n",
      " 6| 'but'\n",
      " 7| 'I'\n",
      " 8| 'acted'\n",
      " 9| 'like'\n",
      "10| 'i'\n",
      "11| 'd'\n",
      "12| 'be'\n",
      "13| 'interested'\n",
      "14| 'in'\n",
      "15| 'buying'\n",
      "16| 'something'\n",
      "17| 'else'\n",
      "18| 'next'\n",
      "19| 'week'\n",
      "20| 'and'\n",
      "21| 'he'\n",
      "22| 'gave'\n",
      "23| 'it'\n",
      "24| 'to'\n",
      "25| 'us'\n",
      "26| 'for'\n",
      "27| 'free'\n"
     ]
    }
   ],
   "source": [
    "for i, t in enumerate(doc): # t is token, i is index\n",
    "    print('%2d| %r' % (i+1, t.text))\n",
    "    token_list.append(t.text)\n",
    "    if t.text == '.':\n",
    "        break"
   ]
  },
  {
   "cell_type": "code",
   "execution_count": 222,
   "metadata": {},
   "outputs": [],
   "source": [
    "# attempt to stem\n",
    "stemmer = PorterStemmer()"
   ]
  },
  {
   "cell_type": "code",
   "execution_count": 223,
   "metadata": {},
   "outputs": [
    {
     "name": "stdout",
     "output_type": "stream",
     "text": [
      "['The', 'guy', 'did', 'some', 'bitching', 'but', 'I', 'acted', 'like', 'i', 'd', 'be', 'interested', 'in', 'buying', 'something', 'else', 'next', 'week', 'and', 'he', 'gave', 'it', 'to', 'us', 'for', 'free']\n"
     ]
    }
   ],
   "source": [
    "print(token_list)"
   ]
  },
  {
   "cell_type": "code",
   "execution_count": 224,
   "metadata": {},
   "outputs": [],
   "source": [
    "sent2 = token_list"
   ]
  },
  {
   "cell_type": "code",
   "execution_count": 225,
   "metadata": {},
   "outputs": [
    {
     "name": "stdout",
     "output_type": "stream",
     "text": [
      "the\n",
      "guy\n",
      "did\n",
      "some\n",
      "bitch\n",
      "but\n",
      "i\n",
      "act\n",
      "like\n",
      "i\n",
      "d\n",
      "be\n",
      "interest\n",
      "in\n",
      "buy\n",
      "someth\n",
      "els\n",
      "next\n",
      "week\n",
      "and\n",
      "he\n",
      "gave\n",
      "it\n",
      "to\n",
      "us\n",
      "for\n",
      "free\n"
     ]
    }
   ],
   "source": [
    "for token in (token_list):\n",
    "    print(stemmer.stem(token))"
   ]
  },
  {
   "cell_type": "code",
   "execution_count": 226,
   "metadata": {},
   "outputs": [],
   "source": [
    "def stem_words():\n",
    "\n",
    "    for i, t in enumerate(doc): # t is token, i is index\n",
    "        print('%2d| %r' % (i+1, t.text))\n",
    "        token_list.append(t.text)\n",
    "        if t.text == '.':\n",
    "            break\n",
    "\n",
    "    for token in (token_list):\n",
    "        print(stemmer.stem(token))\n"
   ]
  },
  {
   "cell_type": "code",
   "execution_count": 227,
   "metadata": {},
   "outputs": [],
   "source": [
    "stop_words = list(STOP_WORDS)"
   ]
  },
  {
   "cell_type": "markdown",
   "metadata": {},
   "source": [
    "## Attempt at evaluating"
   ]
  },
  {
   "cell_type": "code",
   "execution_count": 228,
   "metadata": {},
   "outputs": [],
   "source": [
    "# Features and Labels\n",
    "X = df['Message_body']\n",
    "y = df['Label']\n",
    "\n",
    "# split the dataset\n",
    "X_train, X_test, y_train, y_test = train_test_split(X, y, test_size = 0.2, random_state = 42)"
   ]
  },
  {
   "cell_type": "code",
   "execution_count": 229,
   "metadata": {},
   "outputs": [],
   "source": [
    "counts = CountVectorizer()"
   ]
  },
  {
   "cell_type": "code",
   "execution_count": 231,
   "metadata": {},
   "outputs": [],
   "source": [
    "# do the actual counting\n",
    "A = counts.fit_transform(X_train, y_train)"
   ]
  },
  {
   "cell_type": "code",
   "execution_count": 232,
   "metadata": {},
   "outputs": [
    {
     "name": "stdout",
     "output_type": "stream",
     "text": [
      "['0121', '0207', '020903', '060505', '061104', '07808247860', '07808726822', '0784987', '0800', '08000839402', '08000930705', '08001950382', '08002986906', '08006344447', '083', '0844', '08448350055', '08452810073', '08701213186', '08701417012', '08701417012150p', '08702840625comuk', '08708034412', '0871', '08712300220', '08712405020', '08712460324', '0871277810710pmin', '08714712412', '08715203652', '08715203656', '08715203685', '08715205273', '08717507382', '08717509990', '08718720201', '08718726270', '08718726270150gbpmtmsg18', '087187272008', '08718738002', '08719180219', '08719899229', '09050000332', '09050090044', '09058094507', '09058094583', '09061213237', '09061221061', '09061221066', '09061743386', '09061790121', '09061790126', '09063458130', '09064015307', '09064019014', '09066361921', '09066364311', '09066380611', '09066649731from', '09077818151', '09094646631', '09095350301', '10', '100', '1000', '10000', '100000', '1030', '10am', '10p', '1172', '11mths', '12', '125', '128', '12hrs', '130', '131004', '13404', '140', '150', '150p', '150perweeksub', '150pmeg', '150pmin', '150pmsgrcvd', '150pmtmsgrcvd18', '150ppm', '150ptext', '151', '15541', '16', '165', '169', '177', '18', '180', '1st', '1winawk', '200', '2000', '2003', '2004', '2025050', '20f', '211104', '220', '250', '255', '25f', '25p', '261004', '28', '28days', '29100', '2b', '2bold', '2geva', '2moro', '2morrow', '2morrowxxxx', '2mrw', '2nd', '2nite', '2optout', '2p', '2u', '2watershd', '2when', '2yr', '2yrs', '300', '3030', '30s', '32000', '3350', '350', '3510i', '36504', '373', '3g', '3gbp', '3hrs', '3mins', '3qxj9', '3ss', '3wks', '400', '402', '40411', '40gb', '42049', '42810', '434', '440', '4403ldnw1a7rw18', '45', '450pw', '45239', '4882', '48922', '4eva', '4get', '4thnovbehind', '4u', '4years', '500', '5000', '5i', '5mls', '5p', '5we', '6031', '6089', '60pmin', '61200', '62468', '62735450', '6hl', '6pm', '712', '7250', '750', '7634', '7684', '78', '786', '7pm', '7zs', '800', '8007', '80082', '80182', '8077', '81010', '83039', '83118', '83355', '84128custcare', '84199', '85', '86021', '861', '864233', '86688', '86888', '87066', '87131', '872', '87239', '88039', '88888', '89545', '8wp', '900', '910', '9758', '9ae', '9pm', '9t', 'aah', 'abdomen', 'able', 'about', 'absolutely', 'abt', 'accent', 'access', 'accident', 'accommodationvouchers', 'account', 'accounts', 'achanammarakheshqatar', 'acted', 'actually', 'ad', 'add', 'added', 'addie', 'adding', 'address', 'adds', 'admin', 'admission', 'adore', 'adress', 'adrink', 'adventuring', 'advisors', 'afraid', 'after', 'afternoon', 'afterwards', 'aftr', 'again', 'against', 'age', 'age16', 'ago', 'ah', 'aha', 'ahhhhjust', 'ahmad', 'aight', 'airport', 'aiyah', 'aiyo', 'ajith', 'akon', 'alaikkumpride', 'aletter', 'alex', 'alfie', 'all', 'allah', 'almost', 'alone', 'along', 'already', 'alright', 'also', 'always', 'am', 'amount', 'amp', 'amt', 'amused', 'an', 'and', 'andre', 'andres', 'angry', 'animation', 'another', 'ans', 'answer', 'antibiotic', 'any', 'anybody', 'anyone', 'anyones', 'anythiing', 'anything', 'anytime', 'anyway', 'apo', 'apparently', 'applebees', 'apply', 'aquarius', 'arcade', 'ard', 'ardé', 'are', 'area', 'arent', 'argh', 'argue', 'argument', 'arm', 'armand', 'arng', 'around', 'arrange', 'arsenal', 'art', 'arun', 'as', 'asap', 'asapok', 'asda', 'asian', 'ask', 'askd', 'askin', 'asks', 'asleep', 'ass', 'assessment', 'assistance', 'at', 'atlanta', 'atlast', 'attached', 'attempt', 'auction', 'audition', 'available', 'ave', 'await', 'awake', 'award', 'awarded', 'away', 'awesome', 'awkward', 'axel', 'ayn', 'ayo', 'b4', 'babe', 'babes', 'babies', 'baby', 'back', 'bad', 'badass', 'bag', 'balance', 'bank', 'banks', 'barely', 'barmed', 'barring', 'basic', 'basically', 'bath', 'bathe', 'bathing', 'battle', 'bawling', 'bb', 'bcoz', 'bcz', 'bday', 'be', 'beatings', 'beautiful', 'beauty', 'because', 'become', 'becoz', 'bed', 'bedrm', 'been', 'beendropping', 'beer', 'before', 'bein', 'being', 'believe', 'bell', 'belong', 'belt', 'benefits', 'bennys', 'bergkamp', 'best', 'better', 'between', 'bf', 'bffs', 'bid', 'big', 'bill', 'biolas', 'birds', 'birth', 'birthday', 'bit', 'bitching', 'black', 'bless', 'blessings', 'bluetooth', 'bluray', 'bmw', 'bold', 'bomb', 'bone', 'bong', 'bonus', 'boobs', 'book', 'booked', 'books', 'booty', 'bored', 'boring', 'born', 'bornplease', 'boss', 'boston', 'both', 'bother', 'bottle', 'bottom', 'bought', 'boundaries', 'bout', 'box', 'box177', 'box334sk38ch', 'box39822', 'box95qu', 'boy', 'boyfriend', 'boys', 'boytoy', 'brain', 'brand', 'brb', 'break', 'breaks', 'breathing', 'bright', 'bring', 'broad', 'broke', 'brolly', 'broth', 'brothas', 'brother', 'bruce', 'bslvyl', 'bt', 'bthere', 'btwn', 'bucks', 'bud', 'bugis', 'building', 'built', 'bulbs', 'burns', 'bus', 'business', 'busy', 'but', 'buy', 'buying', 'buz', 'bx420', 'by', 'cake', 'calculation', 'calicut', 'california', 'call', 'call2optout674', 'call2optoutlf56', 'called', 'caller', 'calling', 'calls', 'calls150ppm', 'calm', 'camcorder', 'came', 'camera', 'cameravideo', 'camry', 'can', 'canal', 'cancel', 'cancelled', 'cannt', 'cant', 'canteen', 'capacity', 'capital', 'captain', 'car', 'card', 'care', 'career', 'careinsha', 'cares', 'careswt', 'carly', 'caroline', 'cars', 'cartoon', 'cash', 'cat', 'cause', 'cbe', 'cbiz', 'cc', 'cd', 'cds', 'ceiling', 'celebrate', 'celebration', 'cell', 'chance', 'change', 'changed', 'changing', 'chapel', 'characters', 'charge', 'charged150pmsg2', 'charity', 'chase', 'chastity', 'chat', 'cheaper', 'cheat', 'cheating', 'chechi', 'check', 'checking', 'cheers', 'chennai', 'cherish', 'chest', 'chick', 'chicken', 'chief', 'chikku', 'childish', 'childporn', 'children', 'childs', 'chloe', 'choose', 'choosing', 'chosen', 'christ', 'chuck', 'church', 'cinema', 'citizen', 'claim', 'claims', 'clarify', 'clas', 'class', 'clean', 'cleaning', 'clearer', 'clearly', 'click', 'close', 'clover', 'club', 'cm2', 'coast', 'code', 'code4xx26', 'coincidence', 'colany', 'colin', 'collapsed', 'colleagues', 'collect', 'collection', 'college', 'colour', 'colourful', 'come', 'comedy', 'coming', 'command', 'common', 'comp', 'company', 'compensation', 'competition', 'complacent', 'complete', 'completely', 'complimentary', 'computer', 'conditions', 'confirm', 'confirmdeny', 'confirmed', 'confuses', 'congrats', 'congratulations', 'connection', 'considering', 'console', 'constantly', 'contact', 'content', 'continued', 'contract', 'control', 'convey', 'cooked', 'cool', 'cops', 'copy', 'correct', 'correctly', 'cos', 'cost', 'cost150pm', 'costa', 'costume', 'couch', 'could', 'coulda', 'counts', 'couple', 'course', 'court', 'cover', 'craigslist', 'cramps', 'crash', 'crave', 'craziest', 'crazy', 'cream', 'created', 'credit', 'credits', 'creep', 'cribbs', 'crisis', 'cross', 'crossing', 'cruise', 'cs', 'cum', 'cumming', 'cup', 'current', 'currently', 'customer', 'customercare', 'customers', 'customersqueriesnetvisionukcom', 'cut', 'cuz', 'da', 'dad', 'daddy', 'dado', 'dads', 'dai', 'dajst', 'dangerous', 'darkest', 'darlin', 'darling', 'darlinim', 'darren', 'dat', 'date', 'dates', 'dating', 'datingi', 'datoday', 'dawhats', 'dawhere', 'day', 'days', 'de', 'deal', 'dealing', 'dear', 'dearslp', 'decades', 'december', 'decided', 'deep', 'deepest', 'deer', 'def', 'defer', 'definitely', 'del', 'delay', 'deliveredtomorrow', 'delivery', 'demand', 'den', 'denis', 'dental', 'dentists', 'dept', 'derek', 'desert', 'desires', 'desk', 'details', 'device', 'dey', 'dhoni', 'dialling', 'diamond', 'diapers', 'did', 'didn', 'didnt', 'die', 'diet', 'diff', 'difference', 'differences', 'different', 'difficult', 'difficulties', 'digital', 'din', 'dinner', 'dino', 'dint', 'direct', 'directly', 'dis', 'disagreeable', 'disappointment', 'disaster', 'discount', 'discuss', 'distance', 'disturbing', 'dload', 'dnt', 'do', 'doc', 'docs', 'doctor', 'does', 'doesnt', 'dog', 'doin', 'doing', 'doingwhat', 'dokey', 'dollar', 'dolls', 'don', 'donate', 'done', 'donno', 'dont', 'double', 'doubt', 'dough', 'down', 'download', 'downloaded', 'downloads', 'draw', 'dreading', 'dream', 'dreams', 'dreamsmuah', 'dreamstake', 'dress', 'drink', 'drinks', 'drive', 'drivin', 'driving', 'drmstake', 'drop', 'dropped', 'drugs', 'drunken', 'dude', 'dudette', 'due', 'dull', 'dumb', 'dump', 'dun', 'dunno', 'durban', 'dysentry', 'each', 'earlier', 'early', 'earn', 'east', 'easy', 'eat', 'eatin', 'ecstacy', 'eerie', 'effect', 'effects', 'efreefone', 'egg', 'eggs', 'eh', 'eight', 'either', 'elaine', 'else', 'em', 'email', 'end', 'ending', 'endless', 'ends', 'energy', 'eng', 'england', 'english', 'enjoy', 'enjoyin', 'ennal', 'enough', 'enter', 'entitled', 'entry', 'enufcredeit', 'enuff', 'epsilon', 'er', 'ericsson', 'erotic', 'error', 'escape', 'ese', 'especially', 'esplanade', 'etc', 'ettans', 'eve', 'even', 'evening', 'ever', 'every', 'everybody', 'everyone', 'everything', 'evng', 'evrey', 'ex', 'exact', 'exactly', 'exam', 'exams', 'excellent', 'except', 'exchanged', 'excuse', 'exe', 'executive', 'exmpel', 'expects', 'expensive', 'expires', 'exposed', 'express', 'extra', 'eyed', 'eyes', 'fab', 'face', 'facebook', 'facilities', 'failed', 'failing', 'failure', 'family', 'familymay', 'fancy', 'fantasies', 'far', 'farrell', 'father', 'fault', 'favor', 'favorite', 'favour', 'feb', 'feed', 'feel', 'feelin', 'feeling', 'fees', 'feet', 'fell', 'female', 'fever', 'few', 'fgkslpo', 'fgkslpopw', 'fifteen', 'fight', 'fighting', 'fights', 'figure', 'file', 'fill', 'filling', 'fills', 'film', 'final', 'finally', 'finance', 'find', 'fine', 'fingers', 'finish', 'finished', 'fire', 'fired', 'firmware', 'first', 'fix', 'fixed', 'flag', 'flaky', 'flat', 'flew', 'flies', 'flights', 'flip', 'flirting', 'fne', 'follows', 'fone', 'foned', 'food', 'fool', 'for', 'foregate', 'forever', 'forget', 'forgot', 'forgotten', 'forgt', 'formsdon', 'forward', 'found', 'fowler', 'fr', 'frankie', 'franxx', 'free', 'freeentry', 'freefone', 'freinds', 'fret', 'fri', 'friend', 'friends', 'friendship', 'frm', 'frnd', 'frnds', 'frndship', 'frog', 'from', 'fromm', 'fromwrk', 'front', 'frontierville', 'fuck', 'fucking', 'fuckinniceselfishdeviousbitchanywayi', 'fucks', 'full', 'fullonsmscom', 'fun', 'fund', 'funeral', 'fuuuuck', 'fyi', 'gailxx', 'gain', 'gal', 'galsu', 'game', 'games', 'gap', 'gaps', 'garage', 'garden', 'gas', 'gastroenteritis', 'gave', 'gay', 'gd', 'ge', 'geeee', 'geeeee', 'gek1510', 'generally', 'genes', 'gentle', 'gently', 'geoenvironmental', 'germany', 'get', 'get4an18th', 'gets', 'getting', 'gift', 'girl', 'girlfrnd', 'girls', 'gist', 'give', 'giving', 'givits', 'glad', 'go', 'go2', 'goal', 'god', 'gods', 'goes', 'goigng', 'goin', 'going', 'gokila', 'gone', 'gonna', 'good', 'goodenvironment', 'goodnight', 'goodnite', 'gorgeous', 'got', 'gotmarried', 'goto', 'goverment', 'gr8', 'grace', 'grahmbell', 'grazed', 'great', 'grins', 'grocers', 'group', 'grownup', 'gt', 'guai', 'guaranteed', 'gud', 'gudk', 'guess', 'guidance', 'guides', 'gut', 'guy', 'guys', 'gving', 'gym', 'gynae', 'gyno', 'had', 'haf', 'haha', 'hahahause', 'hai', 'hair', 'half', 'halloween', 'ham', 'hand', 'handed', 'handle', 'hands', 'handset', 'happen', 'happened', 'happiest', 'happiness', 'happy', 'hard', 'has', 'hasnt', 'hassling', 'hat', 'haughaighgtujhyguj', 'hav', 'have', 'havent', 'having', 'he', 'head', 'healthy', 'heap', 'hear', 'hearin', 'heart', 'heavily', 'hehe', 'hell', 'hello', 'hellohow', 'help', 'helping', 'helps', 'henry', 'her', 'here', 'herethanksi', 'hes', 'hey', 'hgsuite3422lands', 'hi', 'hide', 'hides', 'hii', 'hill', 'him', 'his', 'history', 'hitechnical', 'hiwhat', 'hmm', 'hmmm', 'hmmmbut', 'hmmmstill', 'ho', 'holby', 'hold', 'holding', 'holiday', 'holidayso', 'holla', 'hols', 'holy', 'home', 'hooch', 'hoody', 'hope', 'hopefully', 'hopeing', 'horrible', 'hospital', 'hostel', 'hotel', 'hour', 'hours', 'house', 'how', 'hows', 'hr', 'hsbc', 'httptms', 'hu', 'huge', 'huh', 'humanities', 'hungry', 'hurry', 'hurt', 'hurts', 'husband', 'hv', 'ibhltd', 'ibiza', 'ibored', 'ic', 'ice', 'id', 'idconvey', 'ideas', 'identifier', 'idiot', 'idk', 'if', 'ignore', 'ileave', 'ill', 'illness', 'im', 'imagine', 'imat', 'imma', 'implications', 'important', 'impossible', 'improve', 'in', 'in2', 'inc', 'inches', 'include', 'inclusive', 'inconvenience', 'inconvenient', 'indeed', 'indian', 'indianpls', 'indians', 'indicate', 'indyarockscom', 'infections', 'influx', 'info', 'inform', 'information', 'inshah', 'inside', 'installing', 'interested', 'interesting', 'internet', 'into', 'intro', 'invaders', 'invited', 'inviting', 'invnted', 'iouri', 'ip4', 'ipod', 'iq', 'iriver', 'irritation', 'irulinae', 'is', 'island', 'islove', 'isnt', 'issues', 'it', 'italian', 'itcould', 'iti', 'itleave', 'its', 'itsnot', 'itu', 'ive', 'iz', 'izzit', 'jacket', 'jackpot', 'jade', 'jamster', 'jane', 'japanese', 'jason', 'java', 'jay', 'jd', 'jeevithathile', 'jerk', 'jiu', 'job', 'jogging', 'join', 'joinedso', 'joking', 'journey', 'jsut', 'juicy', 'jumpers', 'june', 'jus', 'just', 'juz', 'kafter', 'kaila', 'kane', 'kanoanyway', 'kappa', 'karnan', 'kate', 'kavalan', 'keep', 'keeping', 'keeps', 'kept', 'kerala', 'keypad', 'kick', 'kid', 'kids', 'kidz', 'kill', 'kind', 'kiosk', 'kiss', 'kisses', 'kits', 'kkcongratulation', 'kkhow', 'kkim', 'kkthis', 'knackered', 'knees', 'knew', 'know', 'knowing', 'knw', 'konw', 'kotees', 'ksry', 'kthen', 'kwish', 'l8r', 'la', 'lab', 'lacsthats', 'lacsthere', 'ladies', 'lamp', 'land', 'landing', 'landline', 'lands', 'lar', 'last', 'late', 'latebut', 'lately', 'later', 'latest', 'laugh', 'laughing', 'lccltd', 'ldnw15h', 'le', 'leading', 'least', 'leastwhich', 'leave', 'leaving', 'lecturer', 'left', 'leg', 'legitimat', 'legs', 'leh', 'lei', 'lemme', 'lesson', 'lessons', 'let', 'lets', 'letter', 'letters', 'li', 'liao', 'liaoso', 'liaotoo', 'life', 'lift', 'light', 'lik', 'like', 'liked', 'limit', 'limiting', 'line', 'linerental', 'link', 'lionm', 'lionp', 'lions', 'list', 'listen', 'listening', 'lists', 'lit', 'little', 'live', 'liver', 'liverpool', 'living', 'll', 'lmao', 'loads', 'local', 'lock', 'logging', 'login', 'logo', 'logopic', 'lol', 'london', 'loneliness', 'lonely', 'long', 'longer', 'lonlines', 'look', 'looked', 'looking', 'looks', 'loooooool', 'lor', 'lorgoin', 'lorwe', 'loses', 'loss', 'lost', 'lot', 'loti', 'lotta', 'lotz', 'lou', 'loud', 'lounge', 'love', 'loved', 'lovely', 'loves', 'loving', 'lowes', 'loyal', 'lst', 'ltd', 'ltdecimalgt', 'ltgt', 'lttimegt', 'luck', 'lucozade', 'lucozadecoukwrc', 'lunch', 'lush', 'luv', 'lyricalladie21f', 'm221bp', 'm227xy', 'm8s', 'machan', 'mad', 'made', 'mah', 'mail', 'mailed', 'maili', 'maintain', 'maintaining', 'make', 'makes', 'making', 'malaria', 'mall', 'man', 'manage', 'manageable', 'managed', 'many', 'march', 'margaret', 'margin', 'mark', 'market', 'massive', 'masters', 'match', 'matches', 'mate', 'mates', 'mathematics', 'maturity', 'max10mins', 'maximize', 'may', 'mayb', 'maybe', 'mb', 'me', 'mean', 'meaning', 'means', 'meant', 'measure', 'med', 'meds', 'meet', 'meeting', 'mega', 'meh', 'meis', 'membership', 'membershiptake', 'memories', 'men', 'mentor', 'meremove', 'message', 'messages', 'messagethanks', 'messenger', 'met', 'middle', 'midnight', 'might', 'mileage', 'miles', 'min', 'mina', 'mind', 'mine', 'minimum', 'minor', 'mins', 'minstexts', 'minute', 'minutes', 'miracle', 'mis', 'miserable', 'miss', 'missed', 'missing', 'mistakeu', 'mite', 'mitsake', 'mmm', 'mns', 'mob', 'mobile', 'mobiles', 'mobileupd8', 'mode', 'model', 'module', 'modules', 'mokka', 'mom', 'moment', 'moments', 'moms', 'mon', 'monday', 'money', 'moneyi', 'mono', 'month', 'months', 'mood', 'moons', 'moralone', 'more', 'morning', 'morphine', 'most', 'mother', 'mountain', 'mountains', 'mouse', 'move', 'moving', 'moyep', 'mp3', 'mr', 'mre', 'mrt', 'msg', 'msgs', 'msgticketkioskvalid', 'mth', 'mths', 'mtnl', 'mu', 'much', 'mum', 'mumbai', 'mumhas', 'mums', 'music', 'must', 'musta', 'mustprovide', 'muz', 'my', 'myself', 'n8', 'na', 'naked', 'name', 'nap', 'nat', 'natalie', 'natalja', 'national', 'naughty', 'navigate', 'near', 'necessarily', 'necessary', 'neck', 'need', 'needs', 'neekunna', 'neither', 'nervous', 'network', 'networking', 'neva', 'never', 'new', 'news', 'next', 'nhs', 'ni8', 'ni8swt', 'nice', 'nichols', 'nigeria', 'night', 'nights', 'nightswe', 'nightswt', 'nimya', 'nimyapls', 'nite', 'nitros', 'nmde', 'no', 'no1', 'nobody', 'noe', 'nokia', 'nokias', 'noline', 'none', 'nonetheless', 'nope', 'norm150ptone', 'normal', 'northampton', 'not', 'note', 'nothing', 'nottel', 'notxtcouk', 'now', 'now1', 'nr31', 'nt', 'ntwk', 'number', 'numberpls', 'numberrespectful', 'numbers', 'nuther', 'nvm', 'nw', 'nyc', 'nyt', 'nìte', 'o2', 'o2coukgames', 'obviously', 'occupy', 'of', 'ofcourse', 'off', 'offer', 'offers', 'office', 'officestill', 'official', 'oga', 'oh', 'ok', 'okay', 'okey', 'okie', 'okok', 'okthenwhats', 'olayiwolas', 'old', 'omg', 'on', 'once', 'one', 'ones', 'oni', 'online', 'only', 'onwards', 'onwords', 'ooooooh', 'oops', 'open', 'opener', 'openings', 'operator', 'opportunity', 'opposite', 'opt', 'optout', 'or', 'orange', 'orchard', 'order', 'oredi', 'orh', 'orig', 'original', 'oso', 'other', 'others', 'otherwise', 'ou', 'our', 'ourbacks', 'out', 'outside', 'outsomewhere', 'outta', 'over', 'overdid', 'ovulatewhen', 'owed', 'own', 'oyster', 'oz', 'p399', 'pa', 'packs', 'paid', 'pain', 'painful', 'panther', 'pap', 'paper', 'paperwork', 'parent', 'parentnot', 'parents', 'park', 'parking', 'part', 'party', 'pass', 'passed', 'password', 'passwordsatmsms', 'past', 'patients', 'patrick', 'paul', 'pause', 'peach', 'pee', 'pence', 'pendent', 'pending', 'people', 'per', 'percent', 'perfume', 'period', 'person', 'personal', 'persons', 'pete', 'petexxx', 'petrol', 'phne', 'phone', 'phonebook', 'phones', 'photoshop', 'pic', 'pick', 'picked', 'picking', 'pictures', 'pie', 'pig', 'pilates', 'pin', 'pink', 'pisces', 'pissed', 'pity', 'pix', 'pizza', 'place', 'placement', 'plan', 'planettalkinstantcom', 'planning', 'play', 'player', 'players', 'playi', 'please', 'pleased', 'pleasure', 'pleasured', 'pls', 'plus', 'plz', 'pm', 'po', 'pobox', 'pobox202', 'pobox334', 'pocay', 'pod', 'point', 'points', 'police', 'polo', 'poly', 'polyph', 'polyphonic', 'polys', 'polytruepixringtonesgames', 'poor', 'poorly', 'pop', 'popcornjust', 'port', 'possession', 'possible', 'postcode', 'pound', 'pounds', 'pours', 'pouts', 'power', 'powerful', 'ppl', 'prabha', 'practicing', 'prakasam', 'prakasamanu', 'prasanth', 'pray', 'preferably', 'prem', 'premium', 'prepare', 'prepayment', 'preponed', 'prescription', 'present', 'president', 'presnts', 'press', 'pretty', 'previous', 'price', 'pride', 'princess', 'priscillas', 'private', 'prize', 'prob', 'probably', 'problem', 'problems', 'profit', 'program', 'project', 'prometazine', 'promise', 'property', 'protect', 'proverb', 'pshewmissing', 'pub', 'pubs', 'pull', 'punishment', 'punto', 'purchase', 'pussy', 'put', 'qatarrakhesh', 'qbank', 'quarter', 'queries', 'question', 'quick', 'quite', 'quoting', 'radio', 'raed', 'rael', 'rain', 'raining', 'raise', 'raj', 'rajipls', 'rajitha', 'rally', 'ramen', 'ran', 'randomly', 'ranju', 'rate', 'rates', 'rather', 'rats', 'rd', 're', 'reach', 'reached', 'reaching', 'read', 'ready', 'real', 'realise', 'realising', 'realize', 'realized', 'really', 'realy', 'reapply', 'reason', 'reasonable', 'reassurance', 'receipts', 'receive', 'received', 'recently', 'records', 'red', 'redeemed', 'reduce', 'ree', 'reference', 'referin', 'regarding', 'regards', 'regret', 'relation', 'relatives', 'relax', 'released', 'rem', 'remain', 'remains', 'remember', 'remind', 'reminder', 'removal', 'remove', 'rencontre', 'renewal', 'rental', 'rentl', 'rents', 'repair', 'repeating', 'replace', 'reply', 'report', 'representative', 'request', 'require', 'resent', 'resolved', 'respectful', 'response', 'responsibilities', 'rest', 'resume', 'resuming', 'return', 'returns', 'revealing', 'reverse', 'review', 'reward', 'rewarding', 'rhode', 'rich', 'ride', 'right', 'rights', 'ring', 'ringtone', 'ripped', 'rite', 'robinson', 'rofl', 'role', 'room', 'round', 'roww1j6hl', 'royal', 'rs', 'rstm', 'rub', 'rule', 'rumbling', 'run', 'rush', 'rushing', 's8', 'sae', 'safe', 'saibaba', 'said', 'sake', 'salary', 'sale', 'salesman', 'sall', 'salmon', 'salt', 'same', 'sane', 'santa', 'sar', 'sarasota', 'sashimi', 'sat', 'saturday', 'save', 'savings', 'saw', 'say', 'saying', 'says', 'sch', 'school', 'scores', 'scotsman', 'scream', 'screaming', 'sd', 'sday', 'second', 'secrets', 'sections', 'see', 'seeds', 'seeing', 'seems', 'seen', 'select', 'selected', 'selection', 'self', 'sell', 'selling', 'sem', 'semester', 'sen', 'send', 'sending', 'sense', 'sensitive', 'sent', 'senthil', 'seperatedud', 'seriously', 'service', 'services', 'set', 'settings', 'seven', 'shall', 'shame', 'shanilrakhesh', 'share', 'shd', 'she', 'shelf', 'shes', 'shexy', 'shijas', 'shijutta', 'shindig', 'shirts', 'shit', 'shitjustfound', 'shjas', 'shld', 'shoes', 'shop', 'shoppin', 'shopping', 'shopwe', 'shortage', 'shot', 'should', 'shouldnt', 'shoving', 'show', 'shower', 'shows', 'shrub', 'shu', 'shud', 'shuhui', 'shut', 'si', 'sib', 'side', 'sight', 'sign', 'sim', 'simple', 'since', 'sing', 'singapore', 'sipix', 'sir', 'sirs', 'sirsalam', 'sis', 'sister', 'sisters', 'site', 'sitll', 'sitting', 'situation', 'sivatats', 'six', 'sk3', 'sk38xh', 'skilgme', 'skip', 'skype', 'skyving', 'slacking', 'slave', 'sleep', 'sleepin', 'sleepsweet', 'slept', 'slide', 'slightly', 'slow', 'slowly', 'small', 'smaller', 'smart', 'smashed', 'smile', 'smiles', 'smiling', 'sms', 'smsshsexnetun', 'smth', 'sn', 'sneham', 'snow', 'so', 'soany', 'sofa', 'software', 'sol', 'solihull', 'some', 'somebody', 'someone', 'someonethat', 'someonone', 'somethin', 'something', 'sometime', 'somewhere', 'song', 'songs', 'sony', 'soon', 'sooner', 'soonxxx', 'sorry', 'sort', 'sorting', 'sound', 'sounds', 'source', 'south', 'soz', 'sp', 'space', 'spacebucks', 'spanish', 'sparkling', 'speak', 'special', 'specially', 'spend', 'spent', 'spile', 'spiritual', 'splat', 'splleing', 'spook', 'sport', 'spree', 'squeezed', 'sry', 'st', 'stability', 'stand', 'standard', 'start', 'started', 'startedindia', 'starting', 'statement', 'station', 'stay', 'stayed', 'staying', 'std', 'step', 'sterm', 'steyn', 'still', 'stink', 'stockport', 'stolen', 'stomach', 'stomps', 'stop', 'stops', 'stoptxtstop', 'store', 'storming', 'story', 'strange', 'street', 'stress', 'stressful', 'stressfull', 'stretch', 'strike', 'stuck', 'student', 'studies', 'study', 'studying', 'stuff', 'stuffing', 'stuffleaving', 'stuffs', 'stupid', 'styles', 'stylish', 'sub', 'subscribe6gbpmnth', 'subscribed', 'subscription', 'subsequent', 'successful', 'sucks', 'sudden', 'suffering', 'sugababes', 'sugar', 'suggestion', 'suggestions', 'suite', 'sum1', 'summer', 'sun', 'sunday', 'sundaysunday', 'sunny', 'sup', 'super', 'support', 'supportproviding', 'suppose', 'supposed', 'sure', 'surely', 'surly', 'surprise', 'sw7', 'swan', 'swashbuckling', 'swat', 'swayze', 'sweet', 'swimming', 'swing', 'switch', 'swoop', 'syrup', 'table', 'take', 'takes', 'takin', 'taking', 'talk', 'talking', 'talks', 'tallahassee', 'tamilnaduthen', 'tampa', 'tantrums', 'tap', 'tasts', 'tat', 'taylor', 'tc', 'tcbiz', 'tcs', 'tea', 'teach', 'teeth', 'teethif', 'tel', 'tell', 'telling', 'telphone', 'temales', 'temp', 'temple', 'ten', 'terminatedwe', 'terms', 'terrific', 'tessypls', 'test', 'text', 'textcomp', 'texted', 'texting', 'texts', 'than', 'thangam', 'thank', 'thanks', 'thanksgiving', 'thanx', 'that', 'thatmum', 'thats', 'the', 'theatre', 'their', 'them', 'themes', 'themobhit', 'then', 'theory', 'theplace', 'there', 'therell', 'theres', 'these', 'they', 'theyre', 'thing', 'things', 'think', 'thinkin', 'thinking', 'thinkthis', 'this', 'thk', 'tho', 'those', 'thoso', 'thou', 'though', 'thought', 'thousands', 'threats', 'through', 'thru', 'thursday', 'tick', 'ticket', 'tight', 'tihs', 'til', 'till', 'time', 'times', 'timing', 'tired', 'tirunelvali', 'tirupur', 'titleso', 'tix', 'tke', 'tm', 'tmr', 'tncs', 'to', 'toaday', 'tocallshall', 'toclaim', 'today', 'todays', 'tog', 'together', 'toilet', 'told', 'tomarrow', 'tomorrow', 'tone', 'tones', 'tonight', 'tonights', 'tonite', 'too', 'took', 'toolets', 'tooo', 'toopray', 'top', 'topic', 'torch', 'torture', 'tot', 'total', 'totally', 'touch', 'tough', 'town', 'towncud', 'toyota', 'track', 'train', 'trained', 'training', 'trains', 'tranquility', 'transfered', 'transfr', 'travel', 'travelled', 'treacle', 'treadmill', 'treasure', 'treat', 'treatin', 'treats', 'tried', 'trip', 'trouble', 'true', 'trust', 'try', 'trying', 'ts', 'tscs08714740323', 'tsunami', 'tt', 'tuition', 'turkeys', 'turns', 'tv', 'tvhe', 'two', 'txt', 'txtauction', 'txting', 'txts', 'tyler', 'tylers', 'type', 'uawakefeellikw', 'ugh', 'uk', 'ummmmmaah', 'un', 'uncle', 'uncles', 'uncut', 'understand', 'understanding', 'understood', 'uni', 'unicefs', 'unintentional', 'unintentionally', 'unique', 'units', 'university', 'unless', 'unlike', 'unredeemed', 'unsubscribe', 'until', 'up', 'upcharge', 'update', 'uphad', 'upload', 'uploaded', 'upon', 'upto', 'ur', 'ure', 'urgent', 'urgentbut', 'urgentlyits', 'urgnt', 'urself', 'us', 'use', 'used', 'user', 'uses', 'usf', 'using', 'usual', 'uworld', 'valentine', 'valid', 'valued', 'varma', 'vco', 've', 'velusamy', 'version', 'very', 'via', 'vibrant', 'video', 'videochat', 'videophones', 'videos', 'vijaykanth', 'vikky', 'village', 'virgils', 'visionsmscom', 'visit', 'vivekanand', 'viveki', 'vl', 'voda', 'vodafone', 'voice', 'vomit', 'vomiting', 'vote', 'vouchers', 'vry', 'w111wx', 'w1j', 'w45wq', 'waht', 'wait', 'waitin', 'waiting', 'walk', 'wallpaper', 'walmart', 'wan', 'wanna', 'want', 'wanted', 'wants', 'wap', 'warner', 'warning', 'warranty', 'was', 'wasn', 'wasnt', 'waste', 'wasted', 'wat', 'watch', 'watched', 'watching', 'water', 'watever', 'wating', 'wats', 'way', 'we', 'weak', 'weapon', 'wear', 'weathers', 'website', 'wed', 'wedding', 'wedlunch', 'wednesday', 'weed', 'week', 'weekend', 'weekends', 'weekly', 'weeks', 'weird', 'welcome', 'well', 'welltake', 'wen', 'wenever', 'went', 'were', 'wewa', 'what', 'whatever', 'whats', 'when', 'whenever', 'whens', 'whenwhere', 'where', 'wherever', 'which', 'while', 'white', 'who', 'whole', 'whos', 'why', 'wicket', 'wid', 'widelivecomindex', 'wif', 'wifedont', 'wihtuot', 'wil', 'will', 'win', 'window', 'wine', 'winner', 'winning', 'wins', 'wish', 'wishes', 'wishing', 'wit', 'with', 'within', 'without', 'wkend', 'wkly', 'wks', 'wmlid820554ad0a1705572711firsttrue', 'wnt', 'woah', 'wocay', 'woke', 'woken', 'won', 'wonderful', 'wondering', 'wont', 'woot', 'worc', 'word', 'words', 'work', 'workin', 'working', 'works', 'world', 'worlds', 'worms', 'worried', 'worries', 'worry', 'worse', 'worst', 'worth', 'wot', 'would', 'woulda', 'wouldnt', 'wounds', 'wow', 'wrc', 'wrenching', 'write', 'wrk', 'wrkin', 'wrnog', 'wrong', 'wt', 'wuld', 'www4', 'wwwclubmobycom', 'wwwcomuknet', 'wwwdbuknet', 'wwwfullonsmscom', 'wwwgambtv', 'wwwgetzedcouk', 'wwwldewcom1win150ppmx3age16', 'wwwringtonescouk', 'wwwsantacallingcom', 'wwwshortbreaksorguk', 'wwwsmsacuhmmross', 'wwwsmsacunat27081980', 'wwwsmsacunatalie2k9', 'wwwt', 'wwwtelediscountcouk', 'wylie', 'xins', 'xmas', 'xt', 'xuhui', 'xx', 'xxx', 'xy', 'ya', 'yah', 'yan', 'yar', 'yards', 'yeah', 'year', 'years', 'yeh', 'yep', 'yer', 'yes', 'yest', 'yesterday', 'yet', 'yijue', 'yoga', 'yor', 'you', 'youd', 'youdoing', 'youll', 'young', 'younger', 'your', 'youre', 'yours', 'yourself', 'youve', 'yoville', 'yr', 'yuo', 'yup', 'zebra', 'zed', 'zeros']\n"
     ]
    }
   ],
   "source": [
    "print(counts.get_feature_names())"
   ]
  },
  {
   "cell_type": "code",
   "execution_count": 244,
   "metadata": {},
   "outputs": [
    {
     "name": "stderr",
     "output_type": "stream",
     "text": [
      "c:\\Users\\sjayb\\AppData\\Local\\Programs\\Python\\Python310\\lib\\site-packages\\sklearn\\utils\\deprecation.py:87: FutureWarning: Function get_feature_names is deprecated; get_feature_names is deprecated in 1.0 and will be removed in 1.2. Please use get_feature_names_out instead.\n",
      "  warnings.warn(msg, category=FutureWarning)\n"
     ]
    }
   ],
   "source": [
    "df_bow = pd.DataFrame(A.toarray(), columns=counts.get_feature_names())"
   ]
  },
  {
   "cell_type": "code",
   "execution_count": 245,
   "metadata": {},
   "outputs": [
    {
     "data": {
      "text/html": [
       "<div>\n",
       "<style scoped>\n",
       "    .dataframe tbody tr th:only-of-type {\n",
       "        vertical-align: middle;\n",
       "    }\n",
       "\n",
       "    .dataframe tbody tr th {\n",
       "        vertical-align: top;\n",
       "    }\n",
       "\n",
       "    .dataframe thead th {\n",
       "        text-align: right;\n",
       "    }\n",
       "</style>\n",
       "<table border=\"1\" class=\"dataframe\">\n",
       "  <thead>\n",
       "    <tr style=\"text-align: right;\">\n",
       "      <th></th>\n",
       "      <th>0121</th>\n",
       "      <th>0207</th>\n",
       "      <th>020903</th>\n",
       "      <th>060505</th>\n",
       "      <th>061104</th>\n",
       "      <th>07808247860</th>\n",
       "      <th>07808726822</th>\n",
       "      <th>0784987</th>\n",
       "      <th>0800</th>\n",
       "      <th>08000839402</th>\n",
       "      <th>...</th>\n",
       "      <th>yours</th>\n",
       "      <th>yourself</th>\n",
       "      <th>youve</th>\n",
       "      <th>yoville</th>\n",
       "      <th>yr</th>\n",
       "      <th>yuo</th>\n",
       "      <th>yup</th>\n",
       "      <th>zebra</th>\n",
       "      <th>zed</th>\n",
       "      <th>zeros</th>\n",
       "    </tr>\n",
       "  </thead>\n",
       "  <tbody>\n",
       "    <tr>\n",
       "      <th>0</th>\n",
       "      <td>0</td>\n",
       "      <td>0</td>\n",
       "      <td>0</td>\n",
       "      <td>0</td>\n",
       "      <td>0</td>\n",
       "      <td>0</td>\n",
       "      <td>0</td>\n",
       "      <td>0</td>\n",
       "      <td>0</td>\n",
       "      <td>0</td>\n",
       "      <td>...</td>\n",
       "      <td>0</td>\n",
       "      <td>0</td>\n",
       "      <td>0</td>\n",
       "      <td>0</td>\n",
       "      <td>0</td>\n",
       "      <td>0</td>\n",
       "      <td>0</td>\n",
       "      <td>0</td>\n",
       "      <td>0</td>\n",
       "      <td>0</td>\n",
       "    </tr>\n",
       "    <tr>\n",
       "      <th>1</th>\n",
       "      <td>0</td>\n",
       "      <td>0</td>\n",
       "      <td>0</td>\n",
       "      <td>0</td>\n",
       "      <td>0</td>\n",
       "      <td>0</td>\n",
       "      <td>0</td>\n",
       "      <td>0</td>\n",
       "      <td>0</td>\n",
       "      <td>0</td>\n",
       "      <td>...</td>\n",
       "      <td>0</td>\n",
       "      <td>0</td>\n",
       "      <td>0</td>\n",
       "      <td>0</td>\n",
       "      <td>0</td>\n",
       "      <td>0</td>\n",
       "      <td>0</td>\n",
       "      <td>0</td>\n",
       "      <td>0</td>\n",
       "      <td>0</td>\n",
       "    </tr>\n",
       "    <tr>\n",
       "      <th>2</th>\n",
       "      <td>0</td>\n",
       "      <td>0</td>\n",
       "      <td>0</td>\n",
       "      <td>0</td>\n",
       "      <td>0</td>\n",
       "      <td>0</td>\n",
       "      <td>0</td>\n",
       "      <td>0</td>\n",
       "      <td>0</td>\n",
       "      <td>0</td>\n",
       "      <td>...</td>\n",
       "      <td>0</td>\n",
       "      <td>0</td>\n",
       "      <td>0</td>\n",
       "      <td>0</td>\n",
       "      <td>0</td>\n",
       "      <td>0</td>\n",
       "      <td>0</td>\n",
       "      <td>0</td>\n",
       "      <td>0</td>\n",
       "      <td>0</td>\n",
       "    </tr>\n",
       "    <tr>\n",
       "      <th>3</th>\n",
       "      <td>0</td>\n",
       "      <td>0</td>\n",
       "      <td>0</td>\n",
       "      <td>0</td>\n",
       "      <td>0</td>\n",
       "      <td>0</td>\n",
       "      <td>0</td>\n",
       "      <td>0</td>\n",
       "      <td>0</td>\n",
       "      <td>0</td>\n",
       "      <td>...</td>\n",
       "      <td>0</td>\n",
       "      <td>0</td>\n",
       "      <td>0</td>\n",
       "      <td>0</td>\n",
       "      <td>0</td>\n",
       "      <td>0</td>\n",
       "      <td>0</td>\n",
       "      <td>0</td>\n",
       "      <td>0</td>\n",
       "      <td>0</td>\n",
       "    </tr>\n",
       "    <tr>\n",
       "      <th>4</th>\n",
       "      <td>0</td>\n",
       "      <td>0</td>\n",
       "      <td>0</td>\n",
       "      <td>0</td>\n",
       "      <td>0</td>\n",
       "      <td>0</td>\n",
       "      <td>0</td>\n",
       "      <td>0</td>\n",
       "      <td>0</td>\n",
       "      <td>0</td>\n",
       "      <td>...</td>\n",
       "      <td>0</td>\n",
       "      <td>0</td>\n",
       "      <td>0</td>\n",
       "      <td>0</td>\n",
       "      <td>0</td>\n",
       "      <td>0</td>\n",
       "      <td>0</td>\n",
       "      <td>0</td>\n",
       "      <td>0</td>\n",
       "      <td>0</td>\n",
       "    </tr>\n",
       "    <tr>\n",
       "      <th>...</th>\n",
       "      <td>...</td>\n",
       "      <td>...</td>\n",
       "      <td>...</td>\n",
       "      <td>...</td>\n",
       "      <td>...</td>\n",
       "      <td>...</td>\n",
       "      <td>...</td>\n",
       "      <td>...</td>\n",
       "      <td>...</td>\n",
       "      <td>...</td>\n",
       "      <td>...</td>\n",
       "      <td>...</td>\n",
       "      <td>...</td>\n",
       "      <td>...</td>\n",
       "      <td>...</td>\n",
       "      <td>...</td>\n",
       "      <td>...</td>\n",
       "      <td>...</td>\n",
       "      <td>...</td>\n",
       "      <td>...</td>\n",
       "      <td>...</td>\n",
       "    </tr>\n",
       "    <tr>\n",
       "      <th>760</th>\n",
       "      <td>0</td>\n",
       "      <td>0</td>\n",
       "      <td>0</td>\n",
       "      <td>0</td>\n",
       "      <td>0</td>\n",
       "      <td>0</td>\n",
       "      <td>0</td>\n",
       "      <td>0</td>\n",
       "      <td>0</td>\n",
       "      <td>0</td>\n",
       "      <td>...</td>\n",
       "      <td>0</td>\n",
       "      <td>0</td>\n",
       "      <td>0</td>\n",
       "      <td>0</td>\n",
       "      <td>0</td>\n",
       "      <td>0</td>\n",
       "      <td>0</td>\n",
       "      <td>0</td>\n",
       "      <td>0</td>\n",
       "      <td>0</td>\n",
       "    </tr>\n",
       "    <tr>\n",
       "      <th>761</th>\n",
       "      <td>0</td>\n",
       "      <td>0</td>\n",
       "      <td>0</td>\n",
       "      <td>0</td>\n",
       "      <td>0</td>\n",
       "      <td>0</td>\n",
       "      <td>0</td>\n",
       "      <td>0</td>\n",
       "      <td>0</td>\n",
       "      <td>0</td>\n",
       "      <td>...</td>\n",
       "      <td>0</td>\n",
       "      <td>0</td>\n",
       "      <td>0</td>\n",
       "      <td>0</td>\n",
       "      <td>0</td>\n",
       "      <td>0</td>\n",
       "      <td>0</td>\n",
       "      <td>0</td>\n",
       "      <td>0</td>\n",
       "      <td>0</td>\n",
       "    </tr>\n",
       "    <tr>\n",
       "      <th>762</th>\n",
       "      <td>0</td>\n",
       "      <td>0</td>\n",
       "      <td>0</td>\n",
       "      <td>0</td>\n",
       "      <td>0</td>\n",
       "      <td>0</td>\n",
       "      <td>0</td>\n",
       "      <td>0</td>\n",
       "      <td>0</td>\n",
       "      <td>0</td>\n",
       "      <td>...</td>\n",
       "      <td>0</td>\n",
       "      <td>0</td>\n",
       "      <td>0</td>\n",
       "      <td>0</td>\n",
       "      <td>0</td>\n",
       "      <td>0</td>\n",
       "      <td>0</td>\n",
       "      <td>0</td>\n",
       "      <td>0</td>\n",
       "      <td>0</td>\n",
       "    </tr>\n",
       "    <tr>\n",
       "      <th>763</th>\n",
       "      <td>0</td>\n",
       "      <td>0</td>\n",
       "      <td>0</td>\n",
       "      <td>0</td>\n",
       "      <td>0</td>\n",
       "      <td>0</td>\n",
       "      <td>0</td>\n",
       "      <td>0</td>\n",
       "      <td>0</td>\n",
       "      <td>0</td>\n",
       "      <td>...</td>\n",
       "      <td>0</td>\n",
       "      <td>0</td>\n",
       "      <td>0</td>\n",
       "      <td>0</td>\n",
       "      <td>0</td>\n",
       "      <td>0</td>\n",
       "      <td>0</td>\n",
       "      <td>0</td>\n",
       "      <td>0</td>\n",
       "      <td>0</td>\n",
       "    </tr>\n",
       "    <tr>\n",
       "      <th>764</th>\n",
       "      <td>0</td>\n",
       "      <td>0</td>\n",
       "      <td>0</td>\n",
       "      <td>0</td>\n",
       "      <td>0</td>\n",
       "      <td>0</td>\n",
       "      <td>0</td>\n",
       "      <td>0</td>\n",
       "      <td>0</td>\n",
       "      <td>0</td>\n",
       "      <td>...</td>\n",
       "      <td>0</td>\n",
       "      <td>0</td>\n",
       "      <td>0</td>\n",
       "      <td>0</td>\n",
       "      <td>0</td>\n",
       "      <td>0</td>\n",
       "      <td>0</td>\n",
       "      <td>0</td>\n",
       "      <td>0</td>\n",
       "      <td>0</td>\n",
       "    </tr>\n",
       "  </tbody>\n",
       "</table>\n",
       "<p>765 rows × 2782 columns</p>\n",
       "</div>"
      ],
      "text/plain": [
       "     0121  0207  020903  060505  061104  07808247860  07808726822  0784987  \\\n",
       "0       0     0       0       0       0            0            0        0   \n",
       "1       0     0       0       0       0            0            0        0   \n",
       "2       0     0       0       0       0            0            0        0   \n",
       "3       0     0       0       0       0            0            0        0   \n",
       "4       0     0       0       0       0            0            0        0   \n",
       "..    ...   ...     ...     ...     ...          ...          ...      ...   \n",
       "760     0     0       0       0       0            0            0        0   \n",
       "761     0     0       0       0       0            0            0        0   \n",
       "762     0     0       0       0       0            0            0        0   \n",
       "763     0     0       0       0       0            0            0        0   \n",
       "764     0     0       0       0       0            0            0        0   \n",
       "\n",
       "     0800  08000839402  ...  yours  yourself  youve  yoville  yr  yuo  yup  \\\n",
       "0       0            0  ...      0         0      0        0   0    0    0   \n",
       "1       0            0  ...      0         0      0        0   0    0    0   \n",
       "2       0            0  ...      0         0      0        0   0    0    0   \n",
       "3       0            0  ...      0         0      0        0   0    0    0   \n",
       "4       0            0  ...      0         0      0        0   0    0    0   \n",
       "..    ...          ...  ...    ...       ...    ...      ...  ..  ...  ...   \n",
       "760     0            0  ...      0         0      0        0   0    0    0   \n",
       "761     0            0  ...      0         0      0        0   0    0    0   \n",
       "762     0            0  ...      0         0      0        0   0    0    0   \n",
       "763     0            0  ...      0         0      0        0   0    0    0   \n",
       "764     0            0  ...      0         0      0        0   0    0    0   \n",
       "\n",
       "     zebra  zed  zeros  \n",
       "0        0    0      0  \n",
       "1        0    0      0  \n",
       "2        0    0      0  \n",
       "3        0    0      0  \n",
       "4        0    0      0  \n",
       "..     ...  ...    ...  \n",
       "760      0    0      0  \n",
       "761      0    0      0  \n",
       "762      0    0      0  \n",
       "763      0    0      0  \n",
       "764      0    0      0  \n",
       "\n",
       "[765 rows x 2782 columns]"
      ]
     },
     "execution_count": 245,
     "metadata": {},
     "output_type": "execute_result"
    }
   ],
   "source": [
    "df_bow"
   ]
  },
  {
   "cell_type": "code",
   "execution_count": 233,
   "metadata": {},
   "outputs": [],
   "source": [
    "# create a classifier using SVC\n",
    "classifier = SVC(kernel='linear', probability=True)"
   ]
  },
  {
   "cell_type": "code",
   "execution_count": 234,
   "metadata": {},
   "outputs": [
    {
     "data": {
      "text/html": [
       "<style>#sk-container-id-2 {color: black;background-color: white;}#sk-container-id-2 pre{padding: 0;}#sk-container-id-2 div.sk-toggleable {background-color: white;}#sk-container-id-2 label.sk-toggleable__label {cursor: pointer;display: block;width: 100%;margin-bottom: 0;padding: 0.3em;box-sizing: border-box;text-align: center;}#sk-container-id-2 label.sk-toggleable__label-arrow:before {content: \"▸\";float: left;margin-right: 0.25em;color: #696969;}#sk-container-id-2 label.sk-toggleable__label-arrow:hover:before {color: black;}#sk-container-id-2 div.sk-estimator:hover label.sk-toggleable__label-arrow:before {color: black;}#sk-container-id-2 div.sk-toggleable__content {max-height: 0;max-width: 0;overflow: hidden;text-align: left;background-color: #f0f8ff;}#sk-container-id-2 div.sk-toggleable__content pre {margin: 0.2em;color: black;border-radius: 0.25em;background-color: #f0f8ff;}#sk-container-id-2 input.sk-toggleable__control:checked~div.sk-toggleable__content {max-height: 200px;max-width: 100%;overflow: auto;}#sk-container-id-2 input.sk-toggleable__control:checked~label.sk-toggleable__label-arrow:before {content: \"▾\";}#sk-container-id-2 div.sk-estimator input.sk-toggleable__control:checked~label.sk-toggleable__label {background-color: #d4ebff;}#sk-container-id-2 div.sk-label input.sk-toggleable__control:checked~label.sk-toggleable__label {background-color: #d4ebff;}#sk-container-id-2 input.sk-hidden--visually {border: 0;clip: rect(1px 1px 1px 1px);clip: rect(1px, 1px, 1px, 1px);height: 1px;margin: -1px;overflow: hidden;padding: 0;position: absolute;width: 1px;}#sk-container-id-2 div.sk-estimator {font-family: monospace;background-color: #f0f8ff;border: 1px dotted black;border-radius: 0.25em;box-sizing: border-box;margin-bottom: 0.5em;}#sk-container-id-2 div.sk-estimator:hover {background-color: #d4ebff;}#sk-container-id-2 div.sk-parallel-item::after {content: \"\";width: 100%;border-bottom: 1px solid gray;flex-grow: 1;}#sk-container-id-2 div.sk-label:hover label.sk-toggleable__label {background-color: #d4ebff;}#sk-container-id-2 div.sk-serial::before {content: \"\";position: absolute;border-left: 1px solid gray;box-sizing: border-box;top: 0;bottom: 0;left: 50%;z-index: 0;}#sk-container-id-2 div.sk-serial {display: flex;flex-direction: column;align-items: center;background-color: white;padding-right: 0.2em;padding-left: 0.2em;position: relative;}#sk-container-id-2 div.sk-item {position: relative;z-index: 1;}#sk-container-id-2 div.sk-parallel {display: flex;align-items: stretch;justify-content: center;background-color: white;position: relative;}#sk-container-id-2 div.sk-item::before, #sk-container-id-2 div.sk-parallel-item::before {content: \"\";position: absolute;border-left: 1px solid gray;box-sizing: border-box;top: 0;bottom: 0;left: 50%;z-index: -1;}#sk-container-id-2 div.sk-parallel-item {display: flex;flex-direction: column;z-index: 1;position: relative;background-color: white;}#sk-container-id-2 div.sk-parallel-item:first-child::after {align-self: flex-end;width: 50%;}#sk-container-id-2 div.sk-parallel-item:last-child::after {align-self: flex-start;width: 50%;}#sk-container-id-2 div.sk-parallel-item:only-child::after {width: 0;}#sk-container-id-2 div.sk-dashed-wrapped {border: 1px dashed gray;margin: 0 0.4em 0.5em 0.4em;box-sizing: border-box;padding-bottom: 0.4em;background-color: white;}#sk-container-id-2 div.sk-label label {font-family: monospace;font-weight: bold;display: inline-block;line-height: 1.2em;}#sk-container-id-2 div.sk-label-container {text-align: center;}#sk-container-id-2 div.sk-container {/* jupyter's `normalize.less` sets `[hidden] { display: none; }` but bootstrap.min.css set `[hidden] { display: none !important; }` so we also need the `!important` here to be able to override the default hidden behavior on the sphinx rendered scikit-learn.org. See: https://github.com/scikit-learn/scikit-learn/issues/21755 */display: inline-block !important;position: relative;}#sk-container-id-2 div.sk-text-repr-fallback {display: none;}</style><div id=\"sk-container-id-2\" class=\"sk-top-container\"><div class=\"sk-text-repr-fallback\"><pre>SVC(kernel=&#x27;linear&#x27;, probability=True)</pre><b>In a Jupyter environment, please rerun this cell to show the HTML representation or trust the notebook. <br />On GitHub, the HTML representation is unable to render, please try loading this page with nbviewer.org.</b></div><div class=\"sk-container\" hidden><div class=\"sk-item\"><div class=\"sk-estimator sk-toggleable\"><input class=\"sk-toggleable__control sk-hidden--visually\" id=\"sk-estimator-id-2\" type=\"checkbox\" checked><label for=\"sk-estimator-id-2\" class=\"sk-toggleable__label sk-toggleable__label-arrow\">SVC</label><div class=\"sk-toggleable__content\"><pre>SVC(kernel=&#x27;linear&#x27;, probability=True)</pre></div></div></div></div></div>"
      ],
      "text/plain": [
       "SVC(kernel='linear', probability=True)"
      ]
     },
     "execution_count": 234,
     "metadata": {},
     "output_type": "execute_result"
    }
   ],
   "source": [
    "# train the classifier with the training data\n",
    "classifier.fit(A, y_train)"
   ]
  },
  {
   "cell_type": "code",
   "execution_count": 235,
   "metadata": {},
   "outputs": [
    {
     "data": {
      "text/plain": [
       "1.0"
      ]
     },
     "execution_count": 235,
     "metadata": {},
     "output_type": "execute_result"
    }
   ],
   "source": [
    "classifier.score(A, y_train)"
   ]
  },
  {
   "cell_type": "code",
   "execution_count": 236,
   "metadata": {},
   "outputs": [],
   "source": [
    "B = counts.transform(X_test)"
   ]
  },
  {
   "cell_type": "code",
   "execution_count": 237,
   "metadata": {},
   "outputs": [
    {
     "data": {
      "text/plain": [
       "0.9427083333333334"
      ]
     },
     "execution_count": 237,
     "metadata": {},
     "output_type": "execute_result"
    }
   ],
   "source": [
    "classifier.score(B, y_test)"
   ]
  },
  {
   "cell_type": "code",
   "execution_count": 238,
   "metadata": {},
   "outputs": [
    {
     "data": {
      "text/plain": [
       "array([0, 0, 0, 0, 0, 0, 0, 0, 0, 0, 1, 0, 0, 0, 1, 0, 0, 0, 0, 0, 0, 0,\n",
       "       0, 0, 0, 0, 0, 0, 0, 0, 0, 0, 0, 0, 0, 0, 0, 0, 0, 0, 0, 0, 0, 1,\n",
       "       0, 0, 0, 0, 0, 0, 0, 0, 0, 0, 0, 0, 0, 0, 0, 0, 0, 0, 0, 0, 0, 0,\n",
       "       0, 0, 1, 0, 0, 0, 0, 0, 1, 0, 1, 0, 0, 0, 0, 0, 0, 0, 0, 0, 0, 0,\n",
       "       0, 0, 0, 0, 0, 1, 0, 0, 0, 0, 0, 1, 0, 0, 0, 0, 0, 0, 0, 0, 0, 0,\n",
       "       0, 0, 0, 0, 0, 0, 0, 0, 0, 0, 0, 0, 0, 0, 0, 0, 0, 0, 0, 1, 0, 0,\n",
       "       0, 0, 0, 0, 1, 0, 0, 0, 0, 0, 1, 0, 0, 0, 0, 0, 0, 0, 0, 0, 0, 0,\n",
       "       0, 0, 0, 0, 0, 1, 0, 1, 0, 0, 0, 0, 0, 0, 0, 0, 0, 0, 1, 1, 0, 0,\n",
       "       0, 1, 0, 0, 0, 0, 0, 0, 0, 0, 0, 0, 0, 0, 0, 0], dtype=int64)"
      ]
     },
     "execution_count": 238,
     "metadata": {},
     "output_type": "execute_result"
    }
   ],
   "source": [
    "predictions = classifier.predict(B)\n",
    "predictions"
   ]
  },
  {
   "cell_type": "code",
   "execution_count": 239,
   "metadata": {},
   "outputs": [
    {
     "data": {
      "text/plain": [
       "<sklearn.metrics._plot.confusion_matrix.ConfusionMatrixDisplay at 0x211d56404c0>"
      ]
     },
     "execution_count": 239,
     "metadata": {},
     "output_type": "execute_result"
    },
    {
     "data": {
      "image/png": "[encoded data removed]",
      "text/plain": [
       "<Figure size 432x288 with 2 Axes>"
      ]
     },
     "metadata": {
      "needs_background": "light"
     },
     "output_type": "display_data"
    }
   ],
   "source": [
    "c_matrix = metrics.confusion_matrix(y_test, predictions)\n",
    "c_matrix_t = pd.DataFrame(c_matrix)\n",
    "\n",
    "disp = metrics.ConfusionMatrixDisplay(confusion_matrix=c_matrix)\n",
    "disp.plot()"
   ]
  }
 ],
 "metadata": {
  "kernelspec": {
   "display_name": "Python 3.10.5 64-bit",
   "language": "python",
   "name": "python3"
  },
  "language_info": {
   "codemirror_mode": {
    "name": "ipython",
    "version": 3
   },
   "file_extension": ".py",
   "mimetype": "text/x-python",
   "name": "python",
   "nbconvert_exporter": "python",
   "pygments_lexer": "ipython3",
   "version": "3.10.5"
  },
  "orig_nbformat": 4,
  "vscode": {
   "interpreter": {
    "hash": "9984f5fd75a63c97ca99c2798f42e19f0a03eb88a13709c8345053888d20478e"
   }
  }
 },
 "nbformat": 4,
 "nbformat_minor": 2
}
